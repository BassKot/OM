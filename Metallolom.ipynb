{
 "cells": [
  {
   "cell_type": "code",
   "execution_count": 1,
   "metadata": {},
   "outputs": [
    {
     "data": {
      "text/html": [
       "        <script type=\"text/javascript\">\n",
       "        window.PlotlyConfig = {MathJaxConfig: 'local'};\n",
       "        if (window.MathJax) {MathJax.Hub.Config({SVG: {font: \"STIX-Web\"}});}\n",
       "        if (typeof require !== 'undefined') {\n",
       "        require.undef(\"plotly\");\n",
       "        requirejs.config({\n",
       "            paths: {\n",
       "                'plotly': ['https://cdn.plot.ly/plotly-latest.min']\n",
       "            }\n",
       "        });\n",
       "        require(['plotly'], function(Plotly) {\n",
       "            window._Plotly = Plotly;\n",
       "        });\n",
       "        }\n",
       "        </script>\n",
       "        "
      ]
     },
     "metadata": {},
     "output_type": "display_data"
    },
    {
     "data": {
      "text/html": [
       "        <script type=\"text/javascript\">\n",
       "        window.PlotlyConfig = {MathJaxConfig: 'local'};\n",
       "        if (window.MathJax) {MathJax.Hub.Config({SVG: {font: \"STIX-Web\"}});}\n",
       "        if (typeof require !== 'undefined') {\n",
       "        require.undef(\"plotly\");\n",
       "        requirejs.config({\n",
       "            paths: {\n",
       "                'plotly': ['https://cdn.plot.ly/plotly-latest.min']\n",
       "            }\n",
       "        });\n",
       "        require(['plotly'], function(Plotly) {\n",
       "            window._Plotly = Plotly;\n",
       "        });\n",
       "        }\n",
       "        </script>\n",
       "        "
      ]
     },
     "metadata": {},
     "output_type": "display_data"
    }
   ],
   "source": [
    "import numpy as np\n",
    "import pandas as pd\n",
    "import matplotlib.pyplot as plt\n",
    "%matplotlib inline\n",
    "import statsmodels.formula.api as smf\n",
    "import statsmodels.tsa.api as smt\n",
    "import statsmodels.api as sm\n",
    "import scipy.stats as scs\n",
    "from scipy.optimize import minimize\n",
    "import cufflinks as cf\n",
    "import plotly.offline\n",
    "cf.go_offline()\n",
    "cf.set_config_file(theme='ggplot',sharing='public',offline=True)\n",
    "from IPython.display import display,HTML"
   ]
  },
  {
   "cell_type": "code",
   "execution_count": 2,
   "metadata": {},
   "outputs": [
    {
     "name": "stdout",
     "output_type": "stream",
     "text": [
      "                  time  price_1  name_2  name_4  name_5  name_6  name_7  \\\n",
      "0  2013-01-03 20:00:00     8400   10030    9450    7930    8110    8880   \n",
      "1  2013-01-10 20:00:00     8520   10010    9510    7930    8070    9020   \n",
      "2  2013-01-17 20:00:00     8440    9850    9470    7910    8230    8820   \n",
      "3  2013-01-24 20:00:00     8390    9660    9400    7970    8360    8920   \n",
      "4  2013-01-31 20:00:00     8220    9240    9420    7930    7640    8730   \n",
      "5  2013-02-07 20:00:00     8410    9240    9400    8010    8630    8600   \n",
      "6  2013-02-14 20:00:00     8340    9330    9330    8010    8630    8800   \n",
      "7  2013-02-21 20:00:00     8250    9300    9340    7910    8610    8910   \n",
      "8  2013-02-28 20:00:00     8270    9340    9430    7910    8500    8800   \n",
      "9  2013-03-07 20:00:00     8400    9330    9400    9400    8710    8810   \n",
      "10 2013-03-14 20:00:00     8360    9380    9480    9610    8710    8810   \n",
      "11 2013-03-21 20:00:00     8370    9390    9500    9410    8730    8850   \n",
      "12 2013-03-28 20:00:00     8410    9530    9610    9410    8750    9130   \n",
      "13 2013-04-04 20:00:00     8530    9520    9900    9330    8940    9080   \n",
      "14 2013-04-11 20:00:00     8640    9580   10150    9220    9310    9080   \n",
      "15 2013-04-18 20:00:00     8660    9500   10170    8680    9250    9090   \n",
      "16 2013-04-25 20:00:00     8720    9480   10140    9290    9220    9080   \n",
      "17 2013-05-02 20:00:00     8720    9460   10190    9370    8990    9090   \n",
      "18 2013-05-09 20:00:00     8770    9650   10210    9290    9070    8960   \n",
      "19 2013-05-16 20:00:00     8710    9700   10230    9140    8970    8840   \n",
      "\n",
      "    name_8  name_9  Median  \n",
      "0     7790    8480    8440  \n",
      "1     7790    8090    8305  \n",
      "2     7660    8150    8335  \n",
      "3     7580    7990    8375  \n",
      "4     7610    8010    8115  \n",
      "5     7650    8050    8505  \n",
      "6     7670    8250    8485  \n",
      "7     7700    8230    8430  \n",
      "8     7490    8290    8395  \n",
      "9     7500    8270    8760  \n",
      "10    7430    8220    8760  \n",
      "11    7480    8330    8790  \n",
      "12    7560    8370    8940  \n",
      "13    7560    8470    9010  \n",
      "14    7640    8820    9150  \n",
      "15    7640    8850    8970  \n",
      "16    7860    8890    9150  \n",
      "17    7980    8960    9040  \n",
      "18    8000    8980    9025  \n",
      "19    8040    8960    8965  \n",
      "Index(['time', 'price_1', 'name_2', 'name_4', 'name_5', 'name_6', 'name_7',\n",
      "       'name_8', 'name_9', 'Median'],\n",
      "      dtype='object')\n"
     ]
    },
    {
     "name": "stderr",
     "output_type": "stream",
     "text": [
      "/Users/irochka/opt/anaconda3/lib/python3.7/site-packages/pandas/io/excel.py:520: UserWarning:\n",
      "\n",
      "The 'parse_dates=True' keyword of read_excel was provided without an 'index_col' keyword value.\n",
      "\n"
     ]
    }
   ],
   "source": [
    "pd.set_option('display.max_columns',10)\n",
    "df = pd.read_excel('data/Metallolom.xls', 'Sheet2', parse_dates=True)\n",
    "print(df.head(20))\n",
    "print(df.columns)"
   ]
  },
  {
   "cell_type": "code",
   "execution_count": 3,
   "metadata": {},
   "outputs": [],
   "source": [
    "\n",
    "labels = {\n",
    "    1:'черный индекс ТрансЛом',\n",
    "    2:'черный 3А, CPT ж/д Центр',\n",
    "    3:'черный 3А, CPT ж/д Юг',\n",
    "    4:'черный 3А, CPT ж/д Урал',\n",
    "    5:'черный 3А, CPT ж/д Сибирь',\n",
    "    6:'черный 3А, FCA Екатеринбург',\n",
    "    7:'черный 3А, FCA Москва и МО',\n",
    "    8:'черный 3А, FCA Новосибирск',\n",
    "    9:'черный 3А, FCA Татарстан',\n",
    "    10:'внешний рынок черный HMS 1/2 80:20, CFR Турция',\n",
    "    11:'внешний рынок черный 3А, FOB Балтийское море',\n",
    "    12:'внешний рынок черный 3А, FOB Черное море'\n",
    "}\n"
   ]
  },
  {
   "cell_type": "code",
   "execution_count": 3,
   "metadata": {},
   "outputs": [
    {
     "data": {
      "text/html": [
       "<div>\n",
       "<style scoped>\n",
       "    .dataframe tbody tr th:only-of-type {\n",
       "        vertical-align: middle;\n",
       "    }\n",
       "\n",
       "    .dataframe tbody tr th {\n",
       "        vertical-align: top;\n",
       "    }\n",
       "\n",
       "    .dataframe thead th {\n",
       "        text-align: right;\n",
       "    }\n",
       "</style>\n",
       "<table border=\"1\" class=\"dataframe\">\n",
       "  <thead>\n",
       "    <tr style=\"text-align: right;\">\n",
       "      <th></th>\n",
       "      <th>time</th>\n",
       "      <th>Median</th>\n",
       "    </tr>\n",
       "  </thead>\n",
       "  <tbody>\n",
       "    <tr>\n",
       "      <th>0</th>\n",
       "      <td>2013-01-03 20:00:00</td>\n",
       "      <td>8440</td>\n",
       "    </tr>\n",
       "    <tr>\n",
       "      <th>1</th>\n",
       "      <td>2013-01-10 20:00:00</td>\n",
       "      <td>8305</td>\n",
       "    </tr>\n",
       "    <tr>\n",
       "      <th>2</th>\n",
       "      <td>2013-01-17 20:00:00</td>\n",
       "      <td>8335</td>\n",
       "    </tr>\n",
       "    <tr>\n",
       "      <th>3</th>\n",
       "      <td>2013-01-24 20:00:00</td>\n",
       "      <td>8375</td>\n",
       "    </tr>\n",
       "    <tr>\n",
       "      <th>4</th>\n",
       "      <td>2013-01-31 20:00:00</td>\n",
       "      <td>8115</td>\n",
       "    </tr>\n",
       "  </tbody>\n",
       "</table>\n",
       "</div>"
      ],
      "text/plain": [
       "                 time  Median\n",
       "0 2013-01-03 20:00:00    8440\n",
       "1 2013-01-10 20:00:00    8305\n",
       "2 2013-01-17 20:00:00    8335\n",
       "3 2013-01-24 20:00:00    8375\n",
       "4 2013-01-31 20:00:00    8115"
      ]
     },
     "execution_count": 3,
     "metadata": {},
     "output_type": "execute_result"
    }
   ],
   "source": [
    "df = df.drop(['price_1','name_2','name_4','name_5','name_6',\n",
    "               'name_7','name_8','name_9'],axis=1)\n",
    "df.head()"
   ]
  },
  {
   "cell_type": "code",
   "execution_count": 6,
   "metadata": {},
   "outputs": [
    {
     "data": {
      "text/plain": [
       "pandas.core.series.Series"
      ]
     },
     "execution_count": 6,
     "metadata": {},
     "output_type": "execute_result"
    }
   ],
   "source": [
    "type(df.time)"
   ]
  },
  {
   "cell_type": "code",
   "execution_count": 6,
   "metadata": {},
   "outputs": [
    {
     "name": "stdout",
     "output_type": "stream",
     "text": [
      "<class 'pandas.core.frame.DataFrame'>\n",
      "RangeIndex: 355 entries, 0 to 354\n",
      "Data columns (total 2 columns):\n",
      "time      355 non-null datetime64[ns]\n",
      "Median    355 non-null int64\n",
      "dtypes: datetime64[ns](1), int64(1)\n",
      "memory usage: 5.7 KB\n"
     ]
    }
   ],
   "source": [
    "df.info()"
   ]
  },
  {
   "cell_type": "code",
   "execution_count": 7,
   "metadata": {},
   "outputs": [
    {
     "data": {
      "text/plain": [
       "[<matplotlib.lines.Line2D at 0x108f285d0>]"
      ]
     },
     "execution_count": 7,
     "metadata": {},
     "output_type": "execute_result"
    },
    {
     "data": {
      "image/png": "[encoded data removed]",
      "text/plain": [
       "<Figure size 1080x360 with 1 Axes>"
      ]
     },
     "metadata": {
      "needs_background": "light"
     },
     "output_type": "display_data"
    }
   ],
   "source": [
    "from pandas.plotting import register_matplotlib_converters\n",
    "register_matplotlib_converters()\n",
    "plt.figure(figsize=(15,5))\n",
    "plt.plot(df.time, df.Median)"
   ]
  },
  {
   "cell_type": "code",
   "execution_count": 8,
   "metadata": {},
   "outputs": [
    {
     "data": {
      "text/plain": [
       "Index(['time', 'Median'], dtype='object')"
      ]
     },
     "execution_count": 8,
     "metadata": {},
     "output_type": "execute_result"
    }
   ],
   "source": [
    "df.columns"
   ]
  },
  {
   "cell_type": "code",
   "execution_count": 9,
   "metadata": {},
   "outputs": [
    {
     "data": {
      "text/html": [
       "        <script type=\"text/javascript\">\n",
       "        window.PlotlyConfig = {MathJaxConfig: 'local'};\n",
       "        if (window.MathJax) {MathJax.Hub.Config({SVG: {font: \"STIX-Web\"}});}\n",
       "        if (typeof require !== 'undefined') {\n",
       "        require.undef(\"plotly\");\n",
       "        requirejs.config({\n",
       "            paths: {\n",
       "                'plotly': ['https://cdn.plot.ly/plotly-latest.min']\n",
       "            }\n",
       "        });\n",
       "        require(['plotly'], function(Plotly) {\n",
       "            window._Plotly = Plotly;\n",
       "        });\n",
       "        }\n",
       "        </script>\n",
       "        "
      ]
     },
     "metadata": {},
     "output_type": "display_data"
    },
    {
     "data": {
      "application/vnd.plotly.v1+json": {
       "config": {
        "linkText": "Export to plot.ly",
        "plotlyServerURL": "https://plot.ly",
        "showLink": false
       },
       "data": [
        {
         "mode": "lines",
         "type": "scatter",
         "x": [
          "2013-01-03T20:00:00",
          "2013-01-10T20:00:00",
          "2013-01-17T20:00:00",
          "2013-01-24T20:00:00",
          "2013-01-31T20:00:00",
          "2013-02-07T20:00:00",
          "2013-02-14T20:00:00",
          "2013-02-21T20:00:00",
          "2013-02-28T20:00:00",
          "2013-03-07T20:00:00",
          "2013-03-14T20:00:00",
          "2013-03-21T20:00:00",
          "2013-03-28T20:00:00",
          "2013-04-04T20:00:00",
          "2013-04-11T20:00:00",
          "2013-04-18T20:00:00",
          "2013-04-25T20:00:00",
          "2013-05-02T20:00:00",
          "2013-05-09T20:00:00",
          "2013-05-16T20:00:00",
          "2013-05-23T20:00:00",
          "2013-05-30T20:00:00",
          "2013-06-06T20:00:00",
          "2013-06-13T20:00:00",
          "2013-06-20T20:00:00",
          "2013-06-27T20:00:00",
          "2013-07-04T20:00:00",
          "2013-07-11T20:00:00",
          "2013-07-18T20:00:00",
          "2013-07-25T20:00:00",
          "2013-08-01T20:00:00",
          "2013-08-08T20:00:00",
          "2013-08-15T20:00:00",
          "2013-08-22T20:00:00",
          "2013-08-29T20:00:00",
          "2013-09-05T20:00:00",
          "2013-09-12T20:00:00",
          "2013-09-19T20:00:00",
          "2013-09-26T20:00:00",
          "2013-10-03T20:00:00",
          "2013-10-10T20:00:00",
          "2013-10-17T20:00:00",
          "2013-10-24T20:00:00",
          "2013-10-31T20:00:00",
          "2013-11-07T20:00:00",
          "2013-11-14T20:00:00",
          "2013-11-21T20:00:00",
          "2013-11-28T20:00:00",
          "2013-12-05T20:00:00",
          "2013-12-12T20:00:00",
          "2013-12-19T20:00:00",
          "2013-12-26T20:00:00",
          "2014-01-02T20:00:00",
          "2014-01-09T20:00:00",
          "2014-01-16T20:00:00",
          "2014-01-23T20:00:00",
          "2014-01-30T20:00:00",
          "2014-02-06T20:00:00",
          "2014-02-13T20:00:00",
          "2014-02-20T20:00:00",
          "2014-02-27T20:00:00",
          "2014-03-06T20:00:00",
          "2014-03-13T20:00:00",
          "2014-03-20T20:00:00",
          "2014-03-27T20:00:00",
          "2014-04-03T20:00:00",
          "2014-04-10T20:00:00",
          "2014-04-17T20:00:00",
          "2014-04-24T20:00:00",
          "2014-05-01T20:00:00",
          "2014-05-08T20:00:00",
          "2014-05-15T20:00:00",
          "2014-05-22T20:00:00",
          "2014-05-29T20:00:00",
          "2014-06-05T20:00:00",
          "2014-06-12T20:00:00",
          "2014-06-19T20:00:00",
          "2014-06-26T20:00:00",
          "2014-07-03T20:00:00",
          "2014-07-10T20:00:00",
          "2014-07-17T20:00:00",
          "2014-07-24T20:00:00",
          "2014-07-31T20:00:00",
          "2014-08-07T20:00:00",
          "2014-08-14T20:00:00",
          "2014-08-21T20:00:00",
          "2014-08-28T20:00:00",
          "2014-09-04T20:00:00",
          "2014-09-11T20:00:00",
          "2014-09-18T20:00:00",
          "2014-09-25T20:00:00",
          "2014-10-02T20:00:00",
          "2014-10-09T20:00:00",
          "2014-10-16T20:00:00",
          "2014-10-23T20:00:00",
          "2014-10-30T21:00:00",
          "2014-11-06T21:00:00",
          "2014-11-13T21:00:00",
          "2014-11-20T21:00:00",
          "2014-11-27T21:00:00",
          "2014-12-04T21:00:00",
          "2014-12-11T21:00:00",
          "2014-12-18T21:00:00",
          "2014-12-25T21:00:00",
          "2015-01-01T21:00:00",
          "2015-01-08T21:00:00",
          "2015-01-15T21:00:00",
          "2015-01-22T21:00:00",
          "2015-01-29T21:00:00",
          "2015-02-05T21:00:00",
          "2015-02-12T21:00:00",
          "2015-02-19T21:00:00",
          "2015-02-26T21:00:00",
          "2015-03-05T21:00:00",
          "2015-03-12T21:00:00",
          "2015-03-19T21:00:00",
          "2015-03-26T21:00:00",
          "2015-04-02T21:00:00",
          "2015-04-09T21:00:00",
          "2015-04-16T21:00:00",
          "2015-04-23T21:00:00",
          "2015-04-30T21:00:00",
          "2015-05-07T21:00:00",
          "2015-05-14T21:00:00",
          "2015-05-21T21:00:00",
          "2015-05-28T21:00:00",
          "2015-06-04T21:00:00",
          "2015-06-11T21:00:00",
          "2015-06-18T21:00:00",
          "2015-06-25T21:00:00",
          "2015-07-02T21:00:00",
          "2015-07-09T21:00:00",
          "2015-07-16T21:00:00",
          "2015-07-23T21:00:00",
          "2015-07-30T21:00:00",
          "2015-08-06T21:00:00",
          "2015-08-13T21:00:00",
          "2015-08-20T21:00:00",
          "2015-08-27T21:00:00",
          "2015-09-03T21:00:00",
          "2015-09-10T21:00:00",
          "2015-09-17T21:00:00",
          "2015-09-24T21:00:00",
          "2015-10-01T21:00:00",
          "2015-10-08T21:00:00",
          "2015-10-15T21:00:00",
          "2015-10-22T21:00:00",
          "2015-10-29T21:00:00",
          "2015-11-05T21:00:00",
          "2015-11-12T21:00:00",
          "2015-11-19T21:00:00",
          "2015-11-26T21:00:00",
          "2015-12-03T21:00:00",
          "2015-12-10T21:00:00",
          "2015-12-17T21:00:00",
          "2015-12-24T21:00:00",
          "2015-12-31T21:00:00",
          "2016-01-07T21:00:00",
          "2016-01-14T21:00:00",
          "2016-01-21T21:00:00",
          "2016-01-28T21:00:00",
          "2016-02-04T21:00:00",
          "2016-02-11T21:00:00",
          "2016-02-18T21:00:00",
          "2016-02-25T21:00:00",
          "2016-03-03T21:00:00",
          "2016-03-10T21:00:00",
          "2016-03-17T21:00:00",
          "2016-03-24T21:00:00",
          "2016-03-31T21:00:00",
          "2016-04-07T21:00:00",
          "2016-04-14T21:00:00",
          "2016-04-21T21:00:00",
          "2016-04-28T21:00:00",
          "2016-05-05T21:00:00",
          "2016-05-12T21:00:00",
          "2016-05-19T21:00:00",
          "2016-05-26T21:00:00",
          "2016-06-02T21:00:00",
          "2016-06-09T21:00:00",
          "2016-06-16T21:00:00",
          "2016-06-23T21:00:00",
          "2016-06-30T21:00:00",
          "2016-07-07T21:00:00",
          "2016-07-14T21:00:00",
          "2016-07-21T21:00:00",
          "2016-07-28T21:00:00",
          "2016-08-04T21:00:00",
          "2016-08-11T21:00:00",
          "2016-08-18T21:00:00",
          "2016-08-25T21:00:00",
          "2016-09-01T21:00:00",
          "2016-09-08T21:00:00",
          "2016-09-15T21:00:00",
          "2016-09-22T21:00:00",
          "2016-09-29T21:00:00",
          "2016-10-06T21:00:00",
          "2016-10-13T21:00:00",
          "2016-10-20T21:00:00",
          "2016-10-27T21:00:00",
          "2016-11-03T21:00:00",
          "2016-11-10T21:00:00",
          "2016-11-17T21:00:00",
          "2016-11-24T21:00:00",
          "2016-12-01T21:00:00",
          "2016-12-08T21:00:00",
          "2016-12-15T21:00:00",
          "2016-12-22T21:00:00",
          "2016-12-29T21:00:00",
          "2017-01-05T21:00:00",
          "2017-01-12T21:00:00",
          "2017-01-19T21:00:00",
          "2017-01-26T21:00:00",
          "2017-02-02T21:00:00",
          "2017-02-09T21:00:00",
          "2017-02-16T21:00:00",
          "2017-02-23T21:00:00",
          "2017-03-02T21:00:00",
          "2017-03-09T21:00:00",
          "2017-03-16T21:00:00",
          "2017-03-23T21:00:00",
          "2017-03-30T21:00:00",
          "2017-04-06T21:00:00",
          "2017-04-13T21:00:00",
          "2017-04-20T21:00:00",
          "2017-04-27T21:00:00",
          "2017-05-04T21:00:00",
          "2017-05-11T21:00:00",
          "2017-05-18T21:00:00",
          "2017-05-25T21:00:00",
          "2017-06-01T21:00:00",
          "2017-06-08T21:00:00",
          "2017-06-15T21:00:00",
          "2017-06-22T21:00:00",
          "2017-06-29T21:00:00",
          "2017-07-06T21:00:00",
          "2017-07-13T21:00:00",
          "2017-07-20T21:00:00",
          "2017-07-27T21:00:00",
          "2017-08-03T21:00:00",
          "2017-08-10T21:00:00",
          "2017-08-17T21:00:00",
          "2017-08-24T21:00:00",
          "2017-08-31T21:00:00",
          "2017-09-07T21:00:00",
          "2017-09-14T21:00:00",
          "2017-09-21T21:00:00",
          "2017-09-28T21:00:00",
          "2017-10-05T21:00:00",
          "2017-10-12T21:00:00",
          "2017-10-19T21:00:00",
          "2017-10-26T21:00:00",
          "2017-11-02T21:00:00",
          "2017-11-09T21:00:00",
          "2017-11-16T21:00:00",
          "2017-11-23T21:00:00",
          "2017-11-30T21:00:00",
          "2017-12-07T21:00:00",
          "2017-12-14T21:00:00",
          "2017-12-21T21:00:00",
          "2017-12-28T21:00:00",
          "2018-01-04T21:00:00",
          "2018-01-11T21:00:00",
          "2018-01-18T21:00:00",
          "2018-01-25T21:00:00",
          "2018-02-01T21:00:00",
          "2018-02-08T21:00:00",
          "2018-02-15T21:00:00",
          "2018-02-22T21:00:00",
          "2018-03-01T21:00:00",
          "2018-03-08T21:00:00",
          "2018-03-15T21:00:00",
          "2018-03-22T21:00:00",
          "2018-03-29T21:00:00",
          "2018-04-05T21:00:00",
          "2018-04-12T21:00:00",
          "2018-04-19T21:00:00",
          "2018-04-26T21:00:00",
          "2018-05-03T21:00:00",
          "2018-05-10T21:00:00",
          "2018-05-17T21:00:00",
          "2018-05-24T21:00:00",
          "2018-05-31T21:00:00",
          "2018-06-07T21:00:00",
          "2018-06-14T21:00:00",
          "2018-06-21T21:00:00",
          "2018-06-28T21:00:00",
          "2018-07-05T21:00:00",
          "2018-07-12T21:00:00",
          "2018-07-19T21:00:00",
          "2018-07-26T21:00:00",
          "2018-08-02T21:00:00",
          "2018-08-09T21:00:00",
          "2018-08-16T21:00:00",
          "2018-08-23T21:00:00",
          "2018-08-30T21:00:00",
          "2018-09-06T21:00:00",
          "2018-09-13T21:00:00",
          "2018-09-20T21:00:00",
          "2018-09-27T21:00:00",
          "2018-10-04T21:00:00",
          "2018-10-11T21:00:00",
          "2018-10-18T21:00:00",
          "2018-10-25T21:00:00",
          "2018-11-01T21:00:00",
          "2018-11-08T21:00:00",
          "2018-11-15T21:00:00",
          "2018-11-22T21:00:00",
          "2018-11-29T21:00:00",
          "2018-12-06T21:00:00",
          "2018-12-13T21:00:00",
          "2018-12-20T21:00:00",
          "2018-12-27T21:00:00",
          "2019-01-03T21:00:00",
          "2019-01-10T21:00:00",
          "2019-01-17T21:00:00",
          "2019-01-24T21:00:00",
          "2019-01-31T21:00:00",
          "2019-02-07T21:00:00",
          "2019-02-14T21:00:00",
          "2019-02-21T21:00:00",
          "2019-02-28T21:00:00",
          "2019-03-07T21:00:00",
          "2019-03-14T21:00:00",
          "2019-03-21T21:00:00",
          "2019-03-28T21:00:00",
          "2019-04-04T21:00:00",
          "2019-04-11T21:00:00",
          "2019-04-18T21:00:00",
          "2019-04-25T21:00:00",
          "2019-05-02T21:00:00",
          "2019-05-09T21:00:00",
          "2019-05-16T21:00:00",
          "2019-05-23T21:00:00",
          "2019-05-30T21:00:00",
          "2019-06-06T21:00:00",
          "2019-06-13T21:00:00",
          "2019-06-20T21:00:00",
          "2019-06-27T21:00:00",
          "2019-07-04T21:00:00",
          "2019-07-11T21:00:00",
          "2019-07-18T21:00:00",
          "2019-07-25T21:00:00",
          "2019-08-01T21:00:00",
          "2019-08-08T21:00:00",
          "2019-08-15T21:00:00",
          "2019-08-22T21:00:00",
          "2019-08-29T21:00:00",
          "2019-09-05T21:00:00",
          "2019-09-12T21:00:00",
          "2019-09-19T21:00:00",
          "2019-09-26T21:00:00",
          "2019-10-03T21:00:00",
          "2019-10-10T21:00:00",
          "2019-10-17T21:00:00"
         ],
         "y": [
          8440,
          8305,
          8335,
          8375,
          8115,
          8505,
          8485,
          8430,
          8395,
          8760,
          8760,
          8790,
          8940,
          9010,
          9150,
          8970,
          9150,
          9040,
          9025,
          8965,
          8805,
          8830,
          8740,
          8605,
          8515,
          8270,
          8150,
          8125,
          8100,
          8085,
          8070,
          8080,
          8090,
          8105,
          8210,
          8305,
          8295,
          8330,
          8425,
          8395,
          8415,
          8385,
          8385,
          8395,
          8400,
          8420,
          8380,
          8375,
          8260,
          8165,
          7945,
          7730,
          7675,
          7970,
          7990,
          7980,
          7990,
          8040,
          8095,
          8095,
          8130,
          8365,
          8495,
          8480,
          8525,
          8615,
          8635,
          8710,
          8705,
          8715,
          8725,
          8720,
          8770,
          8790,
          8895,
          9040,
          9085,
          9110,
          9275,
          9470,
          9460,
          9525,
          9585,
          9770,
          9810,
          9915,
          10170,
          10185,
          10185,
          10060,
          10080,
          10260,
          10405,
          10325,
          10320,
          10315,
          10315,
          10320,
          10310,
          10225,
          10215,
          10195,
          10125,
          10225,
          10180,
          10250,
          10275,
          10510,
          10665,
          10945,
          11200,
          11760,
          11860,
          11845,
          11850,
          11780,
          11655,
          11550,
          11350,
          11145,
          10620,
          10210,
          9975,
          9860,
          9510,
          9385,
          9390,
          9095,
          9065,
          9115,
          9135,
          9180,
          9290,
          9355,
          9335,
          9315,
          9320,
          9295,
          9215,
          9300,
          9415,
          9645,
          9695,
          9565,
          9430,
          9420,
          9445,
          9360,
          9285,
          9105,
          8815,
          8555,
          8470,
          8360,
          8130,
          8090,
          8095,
          8040,
          8205,
          8235,
          8365,
          8405,
          8460,
          8535,
          8570,
          8580,
          8585,
          9070,
          9040,
          9015,
          8985,
          9060,
          9075,
          9735,
          10130,
          10705,
          10865,
          11135,
          11250,
          11170,
          11110,
          10865,
          10635,
          10225,
          10080,
          9645,
          9480,
          9505,
          9690,
          9860,
          10065,
          10325,
          10615,
          10755,
          10955,
          11030,
          11455,
          11675,
          11740,
          11650,
          11715,
          11660,
          11765,
          11930,
          12455,
          12945,
          13580,
          14045,
          14215,
          14540,
          14390,
          14370,
          14510,
          14675,
          14065,
          13765,
          13385,
          13245,
          12655,
          12050,
          12135,
          12125,
          12125,
          12130,
          12060,
          12230,
          12035,
          11990,
          12015,
          11855,
          11720,
          11680,
          11650,
          11625,
          11520,
          11520,
          11555,
          11585,
          11820,
          12070,
          12545,
          12955,
          13705,
          14115,
          14730,
          14915,
          15510,
          15640,
          15615,
          15735,
          15465,
          15200,
          14620,
          14345,
          14075,
          14020,
          13925,
          13640,
          13640,
          13630,
          13675,
          13670,
          13645,
          13685,
          13750,
          13795,
          14015,
          14375,
          14725,
          15050,
          15310,
          15330,
          15465,
          15930,
          16135,
          16410,
          16485,
          16465,
          16340,
          16390,
          16440,
          16505,
          16510,
          16600,
          16485,
          16385,
          16230,
          16200,
          16280,
          16435,
          16535,
          16635,
          16890,
          16975,
          17200,
          17450,
          17520,
          17815,
          18210,
          18525,
          18340,
          18470,
          18550,
          18510,
          18320,
          17830,
          17450,
          17000,
          16500,
          15860,
          15620,
          15505,
          15505,
          15605,
          15550,
          15485,
          15545,
          15970,
          16445,
          16655,
          16845,
          17480,
          18330,
          18830,
          18825,
          18735,
          17980,
          16750,
          16580,
          16285,
          16250,
          15830,
          15450,
          15270,
          14995,
          14880,
          14925,
          15080,
          15455,
          15650,
          15940,
          16235,
          16335,
          16370,
          16220,
          16070,
          15875,
          15660,
          15470,
          15060,
          14715,
          14530,
          14095,
          13775,
          13540
         ]
        }
       ],
       "layout": {
        "template": {
         "data": {
          "bar": [
           {
            "error_x": {
             "color": "#2a3f5f"
            },
            "error_y": {
             "color": "#2a3f5f"
            },
            "marker": {
             "line": {
              "color": "#E5ECF6",
              "width": 0.5
             }
            },
            "type": "bar"
           }
          ],
          "barpolar": [
           {
            "marker": {
             "line": {
              "color": "#E5ECF6",
              "width": 0.5
             }
            },
            "type": "barpolar"
           }
          ],
          "carpet": [
           {
            "aaxis": {
             "endlinecolor": "#2a3f5f",
             "gridcolor": "white",
             "linecolor": "white",
             "minorgridcolor": "white",
             "startlinecolor": "#2a3f5f"
            },
            "baxis": {
             "endlinecolor": "#2a3f5f",
             "gridcolor": "white",
             "linecolor": "white",
             "minorgridcolor": "white",
             "startlinecolor": "#2a3f5f"
            },
            "type": "carpet"
           }
          ],
          "choropleth": [
           {
            "colorbar": {
             "outlinewidth": 0,
             "ticks": ""
            },
            "type": "choropleth"
           }
          ],
          "contour": [
           {
            "colorbar": {
             "outlinewidth": 0,
             "ticks": ""
            },
            "colorscale": [
             [
              0,
              "#0d0887"
             ],
             [
              0.1111111111111111,
              "#46039f"
             ],
             [
              0.2222222222222222,
              "#7201a8"
             ],
             [
              0.3333333333333333,
              "#9c179e"
             ],
             [
              0.4444444444444444,
              "#bd3786"
             ],
             [
              0.5555555555555556,
              "#d8576b"
             ],
             [
              0.6666666666666666,
              "#ed7953"
             ],
             [
              0.7777777777777778,
              "#fb9f3a"
             ],
             [
              0.8888888888888888,
              "#fdca26"
             ],
             [
              1,
              "#f0f921"
             ]
            ],
            "type": "contour"
           }
          ],
          "contourcarpet": [
           {
            "colorbar": {
             "outlinewidth": 0,
             "ticks": ""
            },
            "type": "contourcarpet"
           }
          ],
          "heatmap": [
           {
            "colorbar": {
             "outlinewidth": 0,
             "ticks": ""
            },
            "colorscale": [
             [
              0,
              "#0d0887"
             ],
             [
              0.1111111111111111,
              "#46039f"
             ],
             [
              0.2222222222222222,
              "#7201a8"
             ],
             [
              0.3333333333333333,
              "#9c179e"
             ],
             [
              0.4444444444444444,
              "#bd3786"
             ],
             [
              0.5555555555555556,
              "#d8576b"
             ],
             [
              0.6666666666666666,
              "#ed7953"
             ],
             [
              0.7777777777777778,
              "#fb9f3a"
             ],
             [
              0.8888888888888888,
              "#fdca26"
             ],
             [
              1,
              "#f0f921"
             ]
            ],
            "type": "heatmap"
           }
          ],
          "heatmapgl": [
           {
            "colorbar": {
             "outlinewidth": 0,
             "ticks": ""
            },
            "colorscale": [
             [
              0,
              "#0d0887"
             ],
             [
              0.1111111111111111,
              "#46039f"
             ],
             [
              0.2222222222222222,
              "#7201a8"
             ],
             [
              0.3333333333333333,
              "#9c179e"
             ],
             [
              0.4444444444444444,
              "#bd3786"
             ],
             [
              0.5555555555555556,
              "#d8576b"
             ],
             [
              0.6666666666666666,
              "#ed7953"
             ],
             [
              0.7777777777777778,
              "#fb9f3a"
             ],
             [
              0.8888888888888888,
              "#fdca26"
             ],
             [
              1,
              "#f0f921"
             ]
            ],
            "type": "heatmapgl"
           }
          ],
          "histogram": [
           {
            "marker": {
             "colorbar": {
              "outlinewidth": 0,
              "ticks": ""
             }
            },
            "type": "histogram"
           }
          ],
          "histogram2d": [
           {
            "colorbar": {
             "outlinewidth": 0,
             "ticks": ""
            },
            "colorscale": [
             [
              0,
              "#0d0887"
             ],
             [
              0.1111111111111111,
              "#46039f"
             ],
             [
              0.2222222222222222,
              "#7201a8"
             ],
             [
              0.3333333333333333,
              "#9c179e"
             ],
             [
              0.4444444444444444,
              "#bd3786"
             ],
             [
              0.5555555555555556,
              "#d8576b"
             ],
             [
              0.6666666666666666,
              "#ed7953"
             ],
             [
              0.7777777777777778,
              "#fb9f3a"
             ],
             [
              0.8888888888888888,
              "#fdca26"
             ],
             [
              1,
              "#f0f921"
             ]
            ],
            "type": "histogram2d"
           }
          ],
          "histogram2dcontour": [
           {
            "colorbar": {
             "outlinewidth": 0,
             "ticks": ""
            },
            "colorscale": [
             [
              0,
              "#0d0887"
             ],
             [
              0.1111111111111111,
              "#46039f"
             ],
             [
              0.2222222222222222,
              "#7201a8"
             ],
             [
              0.3333333333333333,
              "#9c179e"
             ],
             [
              0.4444444444444444,
              "#bd3786"
             ],
             [
              0.5555555555555556,
              "#d8576b"
             ],
             [
              0.6666666666666666,
              "#ed7953"
             ],
             [
              0.7777777777777778,
              "#fb9f3a"
             ],
             [
              0.8888888888888888,
              "#fdca26"
             ],
             [
              1,
              "#f0f921"
             ]
            ],
            "type": "histogram2dcontour"
           }
          ],
          "mesh3d": [
           {
            "colorbar": {
             "outlinewidth": 0,
             "ticks": ""
            },
            "type": "mesh3d"
           }
          ],
          "parcoords": [
           {
            "line": {
             "colorbar": {
              "outlinewidth": 0,
              "ticks": ""
             }
            },
            "type": "parcoords"
           }
          ],
          "scatter": [
           {
            "marker": {
             "colorbar": {
              "outlinewidth": 0,
              "ticks": ""
             }
            },
            "type": "scatter"
           }
          ],
          "scatter3d": [
           {
            "line": {
             "colorbar": {
              "outlinewidth": 0,
              "ticks": ""
             }
            },
            "marker": {
             "colorbar": {
              "outlinewidth": 0,
              "ticks": ""
             }
            },
            "type": "scatter3d"
           }
          ],
          "scattercarpet": [
           {
            "marker": {
             "colorbar": {
              "outlinewidth": 0,
              "ticks": ""
             }
            },
            "type": "scattercarpet"
           }
          ],
          "scattergeo": [
           {
            "marker": {
             "colorbar": {
              "outlinewidth": 0,
              "ticks": ""
             }
            },
            "type": "scattergeo"
           }
          ],
          "scattergl": [
           {
            "marker": {
             "colorbar": {
              "outlinewidth": 0,
              "ticks": ""
             }
            },
            "type": "scattergl"
           }
          ],
          "scattermapbox": [
           {
            "marker": {
             "colorbar": {
              "outlinewidth": 0,
              "ticks": ""
             }
            },
            "type": "scattermapbox"
           }
          ],
          "scatterpolar": [
           {
            "marker": {
             "colorbar": {
              "outlinewidth": 0,
              "ticks": ""
             }
            },
            "type": "scatterpolar"
           }
          ],
          "scatterpolargl": [
           {
            "marker": {
             "colorbar": {
              "outlinewidth": 0,
              "ticks": ""
             }
            },
            "type": "scatterpolargl"
           }
          ],
          "scatterternary": [
           {
            "marker": {
             "colorbar": {
              "outlinewidth": 0,
              "ticks": ""
             }
            },
            "type": "scatterternary"
           }
          ],
          "surface": [
           {
            "colorbar": {
             "outlinewidth": 0,
             "ticks": ""
            },
            "colorscale": [
             [
              0,
              "#0d0887"
             ],
             [
              0.1111111111111111,
              "#46039f"
             ],
             [
              0.2222222222222222,
              "#7201a8"
             ],
             [
              0.3333333333333333,
              "#9c179e"
             ],
             [
              0.4444444444444444,
              "#bd3786"
             ],
             [
              0.5555555555555556,
              "#d8576b"
             ],
             [
              0.6666666666666666,
              "#ed7953"
             ],
             [
              0.7777777777777778,
              "#fb9f3a"
             ],
             [
              0.8888888888888888,
              "#fdca26"
             ],
             [
              1,
              "#f0f921"
             ]
            ],
            "type": "surface"
           }
          ],
          "table": [
           {
            "cells": {
             "fill": {
              "color": "#EBF0F8"
             },
             "line": {
              "color": "white"
             }
            },
            "header": {
             "fill": {
              "color": "#C8D4E3"
             },
             "line": {
              "color": "white"
             }
            },
            "type": "table"
           }
          ]
         },
         "layout": {
          "annotationdefaults": {
           "arrowcolor": "#2a3f5f",
           "arrowhead": 0,
           "arrowwidth": 1
          },
          "colorscale": {
           "diverging": [
            [
             0,
             "#8e0152"
            ],
            [
             0.1,
             "#c51b7d"
            ],
            [
             0.2,
             "#de77ae"
            ],
            [
             0.3,
             "#f1b6da"
            ],
            [
             0.4,
             "#fde0ef"
            ],
            [
             0.5,
             "#f7f7f7"
            ],
            [
             0.6,
             "#e6f5d0"
            ],
            [
             0.7,
             "#b8e186"
            ],
            [
             0.8,
             "#7fbc41"
            ],
            [
             0.9,
             "#4d9221"
            ],
            [
             1,
             "#276419"
            ]
           ],
           "sequential": [
            [
             0,
             "#0d0887"
            ],
            [
             0.1111111111111111,
             "#46039f"
            ],
            [
             0.2222222222222222,
             "#7201a8"
            ],
            [
             0.3333333333333333,
             "#9c179e"
            ],
            [
             0.4444444444444444,
             "#bd3786"
            ],
            [
             0.5555555555555556,
             "#d8576b"
            ],
            [
             0.6666666666666666,
             "#ed7953"
            ],
            [
             0.7777777777777778,
             "#fb9f3a"
            ],
            [
             0.8888888888888888,
             "#fdca26"
            ],
            [
             1,
             "#f0f921"
            ]
           ],
           "sequentialminus": [
            [
             0,
             "#0d0887"
            ],
            [
             0.1111111111111111,
             "#46039f"
            ],
            [
             0.2222222222222222,
             "#7201a8"
            ],
            [
             0.3333333333333333,
             "#9c179e"
            ],
            [
             0.4444444444444444,
             "#bd3786"
            ],
            [
             0.5555555555555556,
             "#d8576b"
            ],
            [
             0.6666666666666666,
             "#ed7953"
            ],
            [
             0.7777777777777778,
             "#fb9f3a"
            ],
            [
             0.8888888888888888,
             "#fdca26"
            ],
            [
             1,
             "#f0f921"
            ]
           ]
          },
          "colorway": [
           "#636efa",
           "#EF553B",
           "#00cc96",
           "#ab63fa",
           "#FFA15A",
           "#19d3f3",
           "#FF6692",
           "#B6E880",
           "#FF97FF",
           "#FECB52"
          ],
          "font": {
           "color": "#2a3f5f"
          },
          "geo": {
           "bgcolor": "white",
           "lakecolor": "white",
           "landcolor": "#E5ECF6",
           "showlakes": true,
           "showland": true,
           "subunitcolor": "white"
          },
          "hoverlabel": {
           "align": "left"
          },
          "hovermode": "closest",
          "mapbox": {
           "style": "light"
          },
          "paper_bgcolor": "white",
          "plot_bgcolor": "#E5ECF6",
          "polar": {
           "angularaxis": {
            "gridcolor": "white",
            "linecolor": "white",
            "ticks": ""
           },
           "bgcolor": "#E5ECF6",
           "radialaxis": {
            "gridcolor": "white",
            "linecolor": "white",
            "ticks": ""
           }
          },
          "scene": {
           "xaxis": {
            "backgroundcolor": "#E5ECF6",
            "gridcolor": "white",
            "gridwidth": 2,
            "linecolor": "white",
            "showbackground": true,
            "ticks": "",
            "zerolinecolor": "white"
           },
           "yaxis": {
            "backgroundcolor": "#E5ECF6",
            "gridcolor": "white",
            "gridwidth": 2,
            "linecolor": "white",
            "showbackground": true,
            "ticks": "",
            "zerolinecolor": "white"
           },
           "zaxis": {
            "backgroundcolor": "#E5ECF6",
            "gridcolor": "white",
            "gridwidth": 2,
            "linecolor": "white",
            "showbackground": true,
            "ticks": "",
            "zerolinecolor": "white"
           }
          },
          "shapedefaults": {
           "line": {
            "color": "#2a3f5f"
           }
          },
          "ternary": {
           "aaxis": {
            "gridcolor": "white",
            "linecolor": "white",
            "ticks": ""
           },
           "baxis": {
            "gridcolor": "white",
            "linecolor": "white",
            "ticks": ""
           },
           "bgcolor": "#E5ECF6",
           "caxis": {
            "gridcolor": "white",
            "linecolor": "white",
            "ticks": ""
           }
          },
          "title": {
           "x": 0.05
          },
          "xaxis": {
           "automargin": true,
           "gridcolor": "white",
           "linecolor": "white",
           "ticks": "",
           "zerolinecolor": "white",
           "zerolinewidth": 2
          },
          "yaxis": {
           "automargin": true,
           "gridcolor": "white",
           "linecolor": "white",
           "ticks": "",
           "zerolinecolor": "white",
           "zerolinewidth": 2
          }
         }
        },
        "title": {
         "text": "Медиана Металлолом"
        }
       }
      },
      "text/html": [
       "<div>\n",
       "        \n",
       "        \n",
       "            <div id=\"4a84a21b-3073-44d4-964f-2e47196cb5ba\" class=\"plotly-graph-div\" style=\"height:525px; width:100%;\"></div>\n",
       "            <script type=\"text/javascript\">\n",
       "                require([\"plotly\"], function(Plotly) {\n",
       "                    window.PLOTLYENV=window.PLOTLYENV || {};\n",
       "                    \n",
       "                if (document.getElementById(\"4a84a21b-3073-44d4-964f-2e47196cb5ba\")) {\n",
       "                    Plotly.newPlot(\n",
       "                        '4a84a21b-3073-44d4-964f-2e47196cb5ba',\n",
       "                        [{\"mode\": \"lines\", \"type\": \"scatter\", \"x\": [\"2013-01-03T20:00:00\", \"2013-01-10T20:00:00\", \"2013-01-17T20:00:00\", \"2013-01-24T20:00:00\", \"2013-01-31T20:00:00\", \"2013-02-07T20:00:00\", \"2013-02-14T20:00:00\", \"2013-02-21T20:00:00\", \"2013-02-28T20:00:00\", \"2013-03-07T20:00:00\", \"2013-03-14T20:00:00\", \"2013-03-21T20:00:00\", \"2013-03-28T20:00:00\", \"2013-04-04T20:00:00\", \"2013-04-11T20:00:00\", \"2013-04-18T20:00:00\", \"2013-04-25T20:00:00\", \"2013-05-02T20:00:00\", \"2013-05-09T20:00:00\", \"2013-05-16T20:00:00\", \"2013-05-23T20:00:00\", \"2013-05-30T20:00:00\", \"2013-06-06T20:00:00\", \"2013-06-13T20:00:00\", \"2013-06-20T20:00:00\", \"2013-06-27T20:00:00\", \"2013-07-04T20:00:00\", \"2013-07-11T20:00:00\", \"2013-07-18T20:00:00\", \"2013-07-25T20:00:00\", \"2013-08-01T20:00:00\", \"2013-08-08T20:00:00\", \"2013-08-15T20:00:00\", \"2013-08-22T20:00:00\", \"2013-08-29T20:00:00\", \"2013-09-05T20:00:00\", \"2013-09-12T20:00:00\", \"2013-09-19T20:00:00\", \"2013-09-26T20:00:00\", \"2013-10-03T20:00:00\", \"2013-10-10T20:00:00\", \"2013-10-17T20:00:00\", \"2013-10-24T20:00:00\", \"2013-10-31T20:00:00\", \"2013-11-07T20:00:00\", \"2013-11-14T20:00:00\", \"2013-11-21T20:00:00\", \"2013-11-28T20:00:00\", \"2013-12-05T20:00:00\", \"2013-12-12T20:00:00\", \"2013-12-19T20:00:00\", \"2013-12-26T20:00:00\", \"2014-01-02T20:00:00\", \"2014-01-09T20:00:00\", \"2014-01-16T20:00:00\", \"2014-01-23T20:00:00\", \"2014-01-30T20:00:00\", \"2014-02-06T20:00:00\", \"2014-02-13T20:00:00\", \"2014-02-20T20:00:00\", \"2014-02-27T20:00:00\", \"2014-03-06T20:00:00\", \"2014-03-13T20:00:00\", \"2014-03-20T20:00:00\", \"2014-03-27T20:00:00\", \"2014-04-03T20:00:00\", \"2014-04-10T20:00:00\", \"2014-04-17T20:00:00\", \"2014-04-24T20:00:00\", \"2014-05-01T20:00:00\", \"2014-05-08T20:00:00\", \"2014-05-15T20:00:00\", \"2014-05-22T20:00:00\", \"2014-05-29T20:00:00\", \"2014-06-05T20:00:00\", \"2014-06-12T20:00:00\", \"2014-06-19T20:00:00\", \"2014-06-26T20:00:00\", \"2014-07-03T20:00:00\", \"2014-07-10T20:00:00\", \"2014-07-17T20:00:00\", \"2014-07-24T20:00:00\", \"2014-07-31T20:00:00\", \"2014-08-07T20:00:00\", \"2014-08-14T20:00:00\", \"2014-08-21T20:00:00\", \"2014-08-28T20:00:00\", \"2014-09-04T20:00:00\", \"2014-09-11T20:00:00\", \"2014-09-18T20:00:00\", \"2014-09-25T20:00:00\", \"2014-10-02T20:00:00\", \"2014-10-09T20:00:00\", \"2014-10-16T20:00:00\", \"2014-10-23T20:00:00\", \"2014-10-30T21:00:00\", \"2014-11-06T21:00:00\", \"2014-11-13T21:00:00\", \"2014-11-20T21:00:00\", \"2014-11-27T21:00:00\", \"2014-12-04T21:00:00\", \"2014-12-11T21:00:00\", \"2014-12-18T21:00:00\", \"2014-12-25T21:00:00\", \"2015-01-01T21:00:00\", \"2015-01-08T21:00:00\", \"2015-01-15T21:00:00\", \"2015-01-22T21:00:00\", \"2015-01-29T21:00:00\", \"2015-02-05T21:00:00\", \"2015-02-12T21:00:00\", \"2015-02-19T21:00:00\", \"2015-02-26T21:00:00\", \"2015-03-05T21:00:00\", \"2015-03-12T21:00:00\", \"2015-03-19T21:00:00\", \"2015-03-26T21:00:00\", \"2015-04-02T21:00:00\", \"2015-04-09T21:00:00\", \"2015-04-16T21:00:00\", \"2015-04-23T21:00:00\", \"2015-04-30T21:00:00\", \"2015-05-07T21:00:00\", \"2015-05-14T21:00:00\", \"2015-05-21T21:00:00\", \"2015-05-28T21:00:00\", \"2015-06-04T21:00:00\", \"2015-06-11T21:00:00\", \"2015-06-18T21:00:00\", \"2015-06-25T21:00:00\", \"2015-07-02T21:00:00\", \"2015-07-09T21:00:00\", \"2015-07-16T21:00:00\", \"2015-07-23T21:00:00\", \"2015-07-30T21:00:00\", \"2015-08-06T21:00:00\", \"2015-08-13T21:00:00\", \"2015-08-20T21:00:00\", \"2015-08-27T21:00:00\", \"2015-09-03T21:00:00\", \"2015-09-10T21:00:00\", \"2015-09-17T21:00:00\", \"2015-09-24T21:00:00\", \"2015-10-01T21:00:00\", \"2015-10-08T21:00:00\", \"2015-10-15T21:00:00\", \"2015-10-22T21:00:00\", \"2015-10-29T21:00:00\", \"2015-11-05T21:00:00\", \"2015-11-12T21:00:00\", \"2015-11-19T21:00:00\", \"2015-11-26T21:00:00\", \"2015-12-03T21:00:00\", \"2015-12-10T21:00:00\", \"2015-12-17T21:00:00\", \"2015-12-24T21:00:00\", \"2015-12-31T21:00:00\", \"2016-01-07T21:00:00\", \"2016-01-14T21:00:00\", \"2016-01-21T21:00:00\", \"2016-01-28T21:00:00\", \"2016-02-04T21:00:00\", \"2016-02-11T21:00:00\", \"2016-02-18T21:00:00\", \"2016-02-25T21:00:00\", \"2016-03-03T21:00:00\", \"2016-03-10T21:00:00\", \"2016-03-17T21:00:00\", \"2016-03-24T21:00:00\", \"2016-03-31T21:00:00\", \"2016-04-07T21:00:00\", \"2016-04-14T21:00:00\", \"2016-04-21T21:00:00\", \"2016-04-28T21:00:00\", \"2016-05-05T21:00:00\", \"2016-05-12T21:00:00\", \"2016-05-19T21:00:00\", \"2016-05-26T21:00:00\", \"2016-06-02T21:00:00\", \"2016-06-09T21:00:00\", \"2016-06-16T21:00:00\", \"2016-06-23T21:00:00\", \"2016-06-30T21:00:00\", \"2016-07-07T21:00:00\", \"2016-07-14T21:00:00\", \"2016-07-21T21:00:00\", \"2016-07-28T21:00:00\", \"2016-08-04T21:00:00\", \"2016-08-11T21:00:00\", \"2016-08-18T21:00:00\", \"2016-08-25T21:00:00\", \"2016-09-01T21:00:00\", \"2016-09-08T21:00:00\", \"2016-09-15T21:00:00\", \"2016-09-22T21:00:00\", \"2016-09-29T21:00:00\", \"2016-10-06T21:00:00\", \"2016-10-13T21:00:00\", \"2016-10-20T21:00:00\", \"2016-10-27T21:00:00\", \"2016-11-03T21:00:00\", \"2016-11-10T21:00:00\", \"2016-11-17T21:00:00\", \"2016-11-24T21:00:00\", \"2016-12-01T21:00:00\", \"2016-12-08T21:00:00\", \"2016-12-15T21:00:00\", \"2016-12-22T21:00:00\", \"2016-12-29T21:00:00\", \"2017-01-05T21:00:00\", \"2017-01-12T21:00:00\", \"2017-01-19T21:00:00\", \"2017-01-26T21:00:00\", \"2017-02-02T21:00:00\", \"2017-02-09T21:00:00\", \"2017-02-16T21:00:00\", \"2017-02-23T21:00:00\", \"2017-03-02T21:00:00\", \"2017-03-09T21:00:00\", \"2017-03-16T21:00:00\", \"2017-03-23T21:00:00\", \"2017-03-30T21:00:00\", \"2017-04-06T21:00:00\", \"2017-04-13T21:00:00\", \"2017-04-20T21:00:00\", \"2017-04-27T21:00:00\", \"2017-05-04T21:00:00\", \"2017-05-11T21:00:00\", \"2017-05-18T21:00:00\", \"2017-05-25T21:00:00\", \"2017-06-01T21:00:00\", \"2017-06-08T21:00:00\", \"2017-06-15T21:00:00\", \"2017-06-22T21:00:00\", \"2017-06-29T21:00:00\", \"2017-07-06T21:00:00\", \"2017-07-13T21:00:00\", \"2017-07-20T21:00:00\", \"2017-07-27T21:00:00\", \"2017-08-03T21:00:00\", \"2017-08-10T21:00:00\", \"2017-08-17T21:00:00\", \"2017-08-24T21:00:00\", \"2017-08-31T21:00:00\", \"2017-09-07T21:00:00\", \"2017-09-14T21:00:00\", \"2017-09-21T21:00:00\", \"2017-09-28T21:00:00\", \"2017-10-05T21:00:00\", \"2017-10-12T21:00:00\", \"2017-10-19T21:00:00\", \"2017-10-26T21:00:00\", \"2017-11-02T21:00:00\", \"2017-11-09T21:00:00\", \"2017-11-16T21:00:00\", \"2017-11-23T21:00:00\", \"2017-11-30T21:00:00\", \"2017-12-07T21:00:00\", \"2017-12-14T21:00:00\", \"2017-12-21T21:00:00\", \"2017-12-28T21:00:00\", \"2018-01-04T21:00:00\", \"2018-01-11T21:00:00\", \"2018-01-18T21:00:00\", \"2018-01-25T21:00:00\", \"2018-02-01T21:00:00\", \"2018-02-08T21:00:00\", \"2018-02-15T21:00:00\", \"2018-02-22T21:00:00\", \"2018-03-01T21:00:00\", \"2018-03-08T21:00:00\", \"2018-03-15T21:00:00\", \"2018-03-22T21:00:00\", \"2018-03-29T21:00:00\", \"2018-04-05T21:00:00\", \"2018-04-12T21:00:00\", \"2018-04-19T21:00:00\", \"2018-04-26T21:00:00\", \"2018-05-03T21:00:00\", \"2018-05-10T21:00:00\", \"2018-05-17T21:00:00\", \"2018-05-24T21:00:00\", \"2018-05-31T21:00:00\", \"2018-06-07T21:00:00\", \"2018-06-14T21:00:00\", \"2018-06-21T21:00:00\", \"2018-06-28T21:00:00\", \"2018-07-05T21:00:00\", \"2018-07-12T21:00:00\", \"2018-07-19T21:00:00\", \"2018-07-26T21:00:00\", \"2018-08-02T21:00:00\", \"2018-08-09T21:00:00\", \"2018-08-16T21:00:00\", \"2018-08-23T21:00:00\", \"2018-08-30T21:00:00\", \"2018-09-06T21:00:00\", \"2018-09-13T21:00:00\", \"2018-09-20T21:00:00\", \"2018-09-27T21:00:00\", \"2018-10-04T21:00:00\", \"2018-10-11T21:00:00\", \"2018-10-18T21:00:00\", \"2018-10-25T21:00:00\", \"2018-11-01T21:00:00\", \"2018-11-08T21:00:00\", \"2018-11-15T21:00:00\", \"2018-11-22T21:00:00\", \"2018-11-29T21:00:00\", \"2018-12-06T21:00:00\", \"2018-12-13T21:00:00\", \"2018-12-20T21:00:00\", \"2018-12-27T21:00:00\", \"2019-01-03T21:00:00\", \"2019-01-10T21:00:00\", \"2019-01-17T21:00:00\", \"2019-01-24T21:00:00\", \"2019-01-31T21:00:00\", \"2019-02-07T21:00:00\", \"2019-02-14T21:00:00\", \"2019-02-21T21:00:00\", \"2019-02-28T21:00:00\", \"2019-03-07T21:00:00\", \"2019-03-14T21:00:00\", \"2019-03-21T21:00:00\", \"2019-03-28T21:00:00\", \"2019-04-04T21:00:00\", \"2019-04-11T21:00:00\", \"2019-04-18T21:00:00\", \"2019-04-25T21:00:00\", \"2019-05-02T21:00:00\", \"2019-05-09T21:00:00\", \"2019-05-16T21:00:00\", \"2019-05-23T21:00:00\", \"2019-05-30T21:00:00\", \"2019-06-06T21:00:00\", \"2019-06-13T21:00:00\", \"2019-06-20T21:00:00\", \"2019-06-27T21:00:00\", \"2019-07-04T21:00:00\", \"2019-07-11T21:00:00\", \"2019-07-18T21:00:00\", \"2019-07-25T21:00:00\", \"2019-08-01T21:00:00\", \"2019-08-08T21:00:00\", \"2019-08-15T21:00:00\", \"2019-08-22T21:00:00\", \"2019-08-29T21:00:00\", \"2019-09-05T21:00:00\", \"2019-09-12T21:00:00\", \"2019-09-19T21:00:00\", \"2019-09-26T21:00:00\", \"2019-10-03T21:00:00\", \"2019-10-10T21:00:00\", \"2019-10-17T21:00:00\"], \"y\": [8440, 8305, 8335, 8375, 8115, 8505, 8485, 8430, 8395, 8760, 8760, 8790, 8940, 9010, 9150, 8970, 9150, 9040, 9025, 8965, 8805, 8830, 8740, 8605, 8515, 8270, 8150, 8125, 8100, 8085, 8070, 8080, 8090, 8105, 8210, 8305, 8295, 8330, 8425, 8395, 8415, 8385, 8385, 8395, 8400, 8420, 8380, 8375, 8260, 8165, 7945, 7730, 7675, 7970, 7990, 7980, 7990, 8040, 8095, 8095, 8130, 8365, 8495, 8480, 8525, 8615, 8635, 8710, 8705, 8715, 8725, 8720, 8770, 8790, 8895, 9040, 9085, 9110, 9275, 9470, 9460, 9525, 9585, 9770, 9810, 9915, 10170, 10185, 10185, 10060, 10080, 10260, 10405, 10325, 10320, 10315, 10315, 10320, 10310, 10225, 10215, 10195, 10125, 10225, 10180, 10250, 10275, 10510, 10665, 10945, 11200, 11760, 11860, 11845, 11850, 11780, 11655, 11550, 11350, 11145, 10620, 10210, 9975, 9860, 9510, 9385, 9390, 9095, 9065, 9115, 9135, 9180, 9290, 9355, 9335, 9315, 9320, 9295, 9215, 9300, 9415, 9645, 9695, 9565, 9430, 9420, 9445, 9360, 9285, 9105, 8815, 8555, 8470, 8360, 8130, 8090, 8095, 8040, 8205, 8235, 8365, 8405, 8460, 8535, 8570, 8580, 8585, 9070, 9040, 9015, 8985, 9060, 9075, 9735, 10130, 10705, 10865, 11135, 11250, 11170, 11110, 10865, 10635, 10225, 10080, 9645, 9480, 9505, 9690, 9860, 10065, 10325, 10615, 10755, 10955, 11030, 11455, 11675, 11740, 11650, 11715, 11660, 11765, 11930, 12455, 12945, 13580, 14045, 14215, 14540, 14390, 14370, 14510, 14675, 14065, 13765, 13385, 13245, 12655, 12050, 12135, 12125, 12125, 12130, 12060, 12230, 12035, 11990, 12015, 11855, 11720, 11680, 11650, 11625, 11520, 11520, 11555, 11585, 11820, 12070, 12545, 12955, 13705, 14115, 14730, 14915, 15510, 15640, 15615, 15735, 15465, 15200, 14620, 14345, 14075, 14020, 13925, 13640, 13640, 13630, 13675, 13670, 13645, 13685, 13750, 13795, 14015, 14375, 14725, 15050, 15310, 15330, 15465, 15930, 16135, 16410, 16485, 16465, 16340, 16390, 16440, 16505, 16510, 16600, 16485, 16385, 16230, 16200, 16280, 16435, 16535, 16635, 16890, 16975, 17200, 17450, 17520, 17815, 18210, 18525, 18340, 18470, 18550, 18510, 18320, 17830, 17450, 17000, 16500, 15860, 15620, 15505, 15505, 15605, 15550, 15485, 15545, 15970, 16445, 16655, 16845, 17480, 18330, 18830, 18825, 18735, 17980, 16750, 16580, 16285, 16250, 15830, 15450, 15270, 14995, 14880, 14925, 15080, 15455, 15650, 15940, 16235, 16335, 16370, 16220, 16070, 15875, 15660, 15470, 15060, 14715, 14530, 14095, 13775, 13540]}],\n",
       "                        {\"template\": {\"data\": {\"bar\": [{\"error_x\": {\"color\": \"#2a3f5f\"}, \"error_y\": {\"color\": \"#2a3f5f\"}, \"marker\": {\"line\": {\"color\": \"#E5ECF6\", \"width\": 0.5}}, \"type\": \"bar\"}], \"barpolar\": [{\"marker\": {\"line\": {\"color\": \"#E5ECF6\", \"width\": 0.5}}, \"type\": \"barpolar\"}], \"carpet\": [{\"aaxis\": {\"endlinecolor\": \"#2a3f5f\", \"gridcolor\": \"white\", \"linecolor\": \"white\", \"minorgridcolor\": \"white\", \"startlinecolor\": \"#2a3f5f\"}, \"baxis\": {\"endlinecolor\": \"#2a3f5f\", \"gridcolor\": \"white\", \"linecolor\": \"white\", \"minorgridcolor\": \"white\", \"startlinecolor\": \"#2a3f5f\"}, \"type\": \"carpet\"}], \"choropleth\": [{\"colorbar\": {\"outlinewidth\": 0, \"ticks\": \"\"}, \"type\": \"choropleth\"}], \"contour\": [{\"colorbar\": {\"outlinewidth\": 0, \"ticks\": \"\"}, \"colorscale\": [[0.0, \"#0d0887\"], [0.1111111111111111, \"#46039f\"], [0.2222222222222222, \"#7201a8\"], [0.3333333333333333, \"#9c179e\"], [0.4444444444444444, \"#bd3786\"], [0.5555555555555556, \"#d8576b\"], [0.6666666666666666, \"#ed7953\"], [0.7777777777777778, \"#fb9f3a\"], [0.8888888888888888, \"#fdca26\"], [1.0, \"#f0f921\"]], \"type\": \"contour\"}], \"contourcarpet\": [{\"colorbar\": {\"outlinewidth\": 0, \"ticks\": \"\"}, \"type\": \"contourcarpet\"}], \"heatmap\": [{\"colorbar\": {\"outlinewidth\": 0, \"ticks\": \"\"}, \"colorscale\": [[0.0, \"#0d0887\"], [0.1111111111111111, \"#46039f\"], [0.2222222222222222, \"#7201a8\"], [0.3333333333333333, \"#9c179e\"], [0.4444444444444444, \"#bd3786\"], [0.5555555555555556, \"#d8576b\"], [0.6666666666666666, \"#ed7953\"], [0.7777777777777778, \"#fb9f3a\"], [0.8888888888888888, \"#fdca26\"], [1.0, \"#f0f921\"]], \"type\": \"heatmap\"}], \"heatmapgl\": [{\"colorbar\": {\"outlinewidth\": 0, \"ticks\": \"\"}, \"colorscale\": [[0.0, \"#0d0887\"], [0.1111111111111111, \"#46039f\"], [0.2222222222222222, \"#7201a8\"], [0.3333333333333333, \"#9c179e\"], [0.4444444444444444, \"#bd3786\"], [0.5555555555555556, \"#d8576b\"], [0.6666666666666666, \"#ed7953\"], [0.7777777777777778, \"#fb9f3a\"], [0.8888888888888888, \"#fdca26\"], [1.0, \"#f0f921\"]], \"type\": \"heatmapgl\"}], \"histogram\": [{\"marker\": {\"colorbar\": {\"outlinewidth\": 0, \"ticks\": \"\"}}, \"type\": \"histogram\"}], \"histogram2d\": [{\"colorbar\": {\"outlinewidth\": 0, \"ticks\": \"\"}, \"colorscale\": [[0.0, \"#0d0887\"], [0.1111111111111111, \"#46039f\"], [0.2222222222222222, \"#7201a8\"], [0.3333333333333333, \"#9c179e\"], [0.4444444444444444, \"#bd3786\"], [0.5555555555555556, \"#d8576b\"], [0.6666666666666666, \"#ed7953\"], [0.7777777777777778, \"#fb9f3a\"], [0.8888888888888888, \"#fdca26\"], [1.0, \"#f0f921\"]], \"type\": \"histogram2d\"}], \"histogram2dcontour\": [{\"colorbar\": {\"outlinewidth\": 0, \"ticks\": \"\"}, \"colorscale\": [[0.0, \"#0d0887\"], [0.1111111111111111, \"#46039f\"], [0.2222222222222222, \"#7201a8\"], [0.3333333333333333, \"#9c179e\"], [0.4444444444444444, \"#bd3786\"], [0.5555555555555556, \"#d8576b\"], [0.6666666666666666, \"#ed7953\"], [0.7777777777777778, \"#fb9f3a\"], [0.8888888888888888, \"#fdca26\"], [1.0, \"#f0f921\"]], \"type\": \"histogram2dcontour\"}], \"mesh3d\": [{\"colorbar\": {\"outlinewidth\": 0, \"ticks\": \"\"}, \"type\": \"mesh3d\"}], \"parcoords\": [{\"line\": {\"colorbar\": {\"outlinewidth\": 0, \"ticks\": \"\"}}, \"type\": \"parcoords\"}], \"scatter\": [{\"marker\": {\"colorbar\": {\"outlinewidth\": 0, \"ticks\": \"\"}}, \"type\": \"scatter\"}], \"scatter3d\": [{\"line\": {\"colorbar\": {\"outlinewidth\": 0, \"ticks\": \"\"}}, \"marker\": {\"colorbar\": {\"outlinewidth\": 0, \"ticks\": \"\"}}, \"type\": \"scatter3d\"}], \"scattercarpet\": [{\"marker\": {\"colorbar\": {\"outlinewidth\": 0, \"ticks\": \"\"}}, \"type\": \"scattercarpet\"}], \"scattergeo\": [{\"marker\": {\"colorbar\": {\"outlinewidth\": 0, \"ticks\": \"\"}}, \"type\": \"scattergeo\"}], \"scattergl\": [{\"marker\": {\"colorbar\": {\"outlinewidth\": 0, \"ticks\": \"\"}}, \"type\": \"scattergl\"}], \"scattermapbox\": [{\"marker\": {\"colorbar\": {\"outlinewidth\": 0, \"ticks\": \"\"}}, \"type\": \"scattermapbox\"}], \"scatterpolar\": [{\"marker\": {\"colorbar\": {\"outlinewidth\": 0, \"ticks\": \"\"}}, \"type\": \"scatterpolar\"}], \"scatterpolargl\": [{\"marker\": {\"colorbar\": {\"outlinewidth\": 0, \"ticks\": \"\"}}, \"type\": \"scatterpolargl\"}], \"scatterternary\": [{\"marker\": {\"colorbar\": {\"outlinewidth\": 0, \"ticks\": \"\"}}, \"type\": \"scatterternary\"}], \"surface\": [{\"colorbar\": {\"outlinewidth\": 0, \"ticks\": \"\"}, \"colorscale\": [[0.0, \"#0d0887\"], [0.1111111111111111, \"#46039f\"], [0.2222222222222222, \"#7201a8\"], [0.3333333333333333, \"#9c179e\"], [0.4444444444444444, \"#bd3786\"], [0.5555555555555556, \"#d8576b\"], [0.6666666666666666, \"#ed7953\"], [0.7777777777777778, \"#fb9f3a\"], [0.8888888888888888, \"#fdca26\"], [1.0, \"#f0f921\"]], \"type\": \"surface\"}], \"table\": [{\"cells\": {\"fill\": {\"color\": \"#EBF0F8\"}, \"line\": {\"color\": \"white\"}}, \"header\": {\"fill\": {\"color\": \"#C8D4E3\"}, \"line\": {\"color\": \"white\"}}, \"type\": \"table\"}]}, \"layout\": {\"annotationdefaults\": {\"arrowcolor\": \"#2a3f5f\", \"arrowhead\": 0, \"arrowwidth\": 1}, \"colorscale\": {\"diverging\": [[0, \"#8e0152\"], [0.1, \"#c51b7d\"], [0.2, \"#de77ae\"], [0.3, \"#f1b6da\"], [0.4, \"#fde0ef\"], [0.5, \"#f7f7f7\"], [0.6, \"#e6f5d0\"], [0.7, \"#b8e186\"], [0.8, \"#7fbc41\"], [0.9, \"#4d9221\"], [1, \"#276419\"]], \"sequential\": [[0.0, \"#0d0887\"], [0.1111111111111111, \"#46039f\"], [0.2222222222222222, \"#7201a8\"], [0.3333333333333333, \"#9c179e\"], [0.4444444444444444, \"#bd3786\"], [0.5555555555555556, \"#d8576b\"], [0.6666666666666666, \"#ed7953\"], [0.7777777777777778, \"#fb9f3a\"], [0.8888888888888888, \"#fdca26\"], [1.0, \"#f0f921\"]], \"sequentialminus\": [[0.0, \"#0d0887\"], [0.1111111111111111, \"#46039f\"], [0.2222222222222222, \"#7201a8\"], [0.3333333333333333, \"#9c179e\"], [0.4444444444444444, \"#bd3786\"], [0.5555555555555556, \"#d8576b\"], [0.6666666666666666, \"#ed7953\"], [0.7777777777777778, \"#fb9f3a\"], [0.8888888888888888, \"#fdca26\"], [1.0, \"#f0f921\"]]}, \"colorway\": [\"#636efa\", \"#EF553B\", \"#00cc96\", \"#ab63fa\", \"#FFA15A\", \"#19d3f3\", \"#FF6692\", \"#B6E880\", \"#FF97FF\", \"#FECB52\"], \"font\": {\"color\": \"#2a3f5f\"}, \"geo\": {\"bgcolor\": \"white\", \"lakecolor\": \"white\", \"landcolor\": \"#E5ECF6\", \"showlakes\": true, \"showland\": true, \"subunitcolor\": \"white\"}, \"hoverlabel\": {\"align\": \"left\"}, \"hovermode\": \"closest\", \"mapbox\": {\"style\": \"light\"}, \"paper_bgcolor\": \"white\", \"plot_bgcolor\": \"#E5ECF6\", \"polar\": {\"angularaxis\": {\"gridcolor\": \"white\", \"linecolor\": \"white\", \"ticks\": \"\"}, \"bgcolor\": \"#E5ECF6\", \"radialaxis\": {\"gridcolor\": \"white\", \"linecolor\": \"white\", \"ticks\": \"\"}}, \"scene\": {\"xaxis\": {\"backgroundcolor\": \"#E5ECF6\", \"gridcolor\": \"white\", \"gridwidth\": 2, \"linecolor\": \"white\", \"showbackground\": true, \"ticks\": \"\", \"zerolinecolor\": \"white\"}, \"yaxis\": {\"backgroundcolor\": \"#E5ECF6\", \"gridcolor\": \"white\", \"gridwidth\": 2, \"linecolor\": \"white\", \"showbackground\": true, \"ticks\": \"\", \"zerolinecolor\": \"white\"}, \"zaxis\": {\"backgroundcolor\": \"#E5ECF6\", \"gridcolor\": \"white\", \"gridwidth\": 2, \"linecolor\": \"white\", \"showbackground\": true, \"ticks\": \"\", \"zerolinecolor\": \"white\"}}, \"shapedefaults\": {\"line\": {\"color\": \"#2a3f5f\"}}, \"ternary\": {\"aaxis\": {\"gridcolor\": \"white\", \"linecolor\": \"white\", \"ticks\": \"\"}, \"baxis\": {\"gridcolor\": \"white\", \"linecolor\": \"white\", \"ticks\": \"\"}, \"bgcolor\": \"#E5ECF6\", \"caxis\": {\"gridcolor\": \"white\", \"linecolor\": \"white\", \"ticks\": \"\"}}, \"title\": {\"x\": 0.05}, \"xaxis\": {\"automargin\": true, \"gridcolor\": \"white\", \"linecolor\": \"white\", \"ticks\": \"\", \"zerolinecolor\": \"white\", \"zerolinewidth\": 2}, \"yaxis\": {\"automargin\": true, \"gridcolor\": \"white\", \"linecolor\": \"white\", \"ticks\": \"\", \"zerolinecolor\": \"white\", \"zerolinewidth\": 2}}}, \"title\": {\"text\": \"\\u041c\\u0435\\u0434\\u0438\\u0430\\u043d\\u0430 \\u041c\\u0435\\u0442\\u0430\\u043b\\u043b\\u043e\\u043b\\u043e\\u043c\"}},\n",
       "                        {\"responsive\": true}\n",
       "                    ).then(function(){\n",
       "                            \n",
       "var gd = document.getElementById('4a84a21b-3073-44d4-964f-2e47196cb5ba');\n",
       "var x = new MutationObserver(function (mutations, observer) {{\n",
       "        var display = window.getComputedStyle(gd).display;\n",
       "        if (!display || display === 'none') {{\n",
       "            console.log([gd, 'removed!']);\n",
       "            Plotly.purge(gd);\n",
       "            observer.disconnect();\n",
       "        }}\n",
       "}});\n",
       "\n",
       "// Listen for the removal of the full notebook cells\n",
       "var notebookContainer = gd.closest('#notebook-container');\n",
       "if (notebookContainer) {{\n",
       "    x.observe(notebookContainer, {childList: true});\n",
       "}}\n",
       "\n",
       "// Listen for the clearing of the current output cell\n",
       "var outputEl = gd.closest('.output');\n",
       "if (outputEl) {{\n",
       "    x.observe(outputEl, {childList: true});\n",
       "}}\n",
       "\n",
       "                        })\n",
       "                };\n",
       "                });\n",
       "            </script>\n",
       "        </div>"
      ]
     },
     "metadata": {},
     "output_type": "display_data"
    }
   ],
   "source": [
    "from plotly.offline import download_plotlyjs, init_notebook_mode,plot,iplot\n",
    "from plotly import graph_objs as go\n",
    "\n",
    "# инициализируем plotly\n",
    "init_notebook_mode(connected = True)\n",
    "\n",
    "# опишем функцию, которая будет визуализировать все колонки dataframe в виде line plot\n",
    "def plotly_df(df, title = ''):\n",
    "    data = []\n",
    "\n",
    "   \n",
    "    trace = go.Scatter(\n",
    "        x = df.time,\n",
    "        y = df.Median,\n",
    "        mode = 'lines',\n",
    "        \n",
    "        )\n",
    "    data.append(trace)\n",
    "\n",
    "    layout = dict(title = title)\n",
    "    fig = dict(data = data, layout = layout)\n",
    "    iplot(fig, show_link=False)\n",
    "\n",
    "plotly_df(df, title = 'Медиана Металлолом')"
   ]
  },
  {
   "cell_type": "code",
   "execution_count": 10,
   "metadata": {},
   "outputs": [
    {
     "data": {
      "text/html": [
       "<div>\n",
       "<style scoped>\n",
       "    .dataframe tbody tr th:only-of-type {\n",
       "        vertical-align: middle;\n",
       "    }\n",
       "\n",
       "    .dataframe tbody tr th {\n",
       "        vertical-align: top;\n",
       "    }\n",
       "\n",
       "    .dataframe thead th {\n",
       "        text-align: right;\n",
       "    }\n",
       "</style>\n",
       "<table border=\"1\" class=\"dataframe\">\n",
       "  <thead>\n",
       "    <tr style=\"text-align: right;\">\n",
       "      <th></th>\n",
       "      <th>ds</th>\n",
       "      <th>y</th>\n",
       "    </tr>\n",
       "  </thead>\n",
       "  <tbody>\n",
       "    <tr>\n",
       "      <th>250</th>\n",
       "      <td>2017-10-19 21:00:00</td>\n",
       "      <td>15465</td>\n",
       "    </tr>\n",
       "    <tr>\n",
       "      <th>251</th>\n",
       "      <td>2017-10-26 21:00:00</td>\n",
       "      <td>15200</td>\n",
       "    </tr>\n",
       "    <tr>\n",
       "      <th>252</th>\n",
       "      <td>2017-11-02 21:00:00</td>\n",
       "      <td>14620</td>\n",
       "    </tr>\n",
       "    <tr>\n",
       "      <th>253</th>\n",
       "      <td>2017-11-09 21:00:00</td>\n",
       "      <td>14345</td>\n",
       "    </tr>\n",
       "    <tr>\n",
       "      <th>254</th>\n",
       "      <td>2017-11-16 21:00:00</td>\n",
       "      <td>14075</td>\n",
       "    </tr>\n",
       "  </tbody>\n",
       "</table>\n",
       "</div>"
      ],
      "text/plain": [
       "                     ds      y\n",
       "250 2017-10-19 21:00:00  15465\n",
       "251 2017-10-26 21:00:00  15200\n",
       "252 2017-11-02 21:00:00  14620\n",
       "253 2017-11-09 21:00:00  14345\n",
       "254 2017-11-16 21:00:00  14075"
      ]
     },
     "execution_count": 10,
     "metadata": {},
     "output_type": "execute_result"
    }
   ],
   "source": [
    "#импортируем библиотеку\n",
    "from fbprophet import Prophet\n",
    "\n",
    "predictions = 100\n",
    "\n",
    "# приводим dataframe к нужному формату\n",
    "data = df\n",
    "data.columns = ['ds','y']\n",
    "\n",
    "# отрезаем из обучающей выборки последние 30 точек, чтобы измерить на них качество\n",
    "train_df = data[:-predictions] \n",
    "train_df.tail()"
   ]
  },
  {
   "cell_type": "code",
   "execution_count": 11,
   "metadata": {},
   "outputs": [
    {
     "name": "stderr",
     "output_type": "stream",
     "text": [
      "INFO:numexpr.utils:NumExpr defaulting to 8 threads.\n",
      "INFO:fbprophet:Disabling weekly seasonality. Run prophet with weekly_seasonality=True to override this.\n",
      "INFO:fbprophet:Disabling daily seasonality. Run prophet with daily_seasonality=True to override this.\n"
     ]
    },
    {
     "data": {
      "text/plain": [
       "<fbprophet.forecaster.Prophet at 0x1c2829ba10>"
      ]
     },
     "execution_count": 11,
     "metadata": {},
     "output_type": "execute_result"
    }
   ],
   "source": [
    "m = Prophet()\n",
    "m.fit(train_df)"
   ]
  },
  {
   "cell_type": "code",
   "execution_count": 12,
   "metadata": {},
   "outputs": [],
   "source": [
    "future = m.make_future_dataframe(periods=predictions)\n",
    "forecast = m.predict(future)"
   ]
  },
  {
   "cell_type": "code",
   "execution_count": 13,
   "metadata": {},
   "outputs": [
    {
     "data": {
      "image/png": "[encoded data removed]",
      "text/plain": [
       "<Figure size 720x432 with 1 Axes>"
      ]
     },
     "execution_count": 13,
     "metadata": {},
     "output_type": "execute_result"
    },
    {
     "data": {
      "image/png": "[encoded data removed]",
      "text/plain": [
       "<Figure size 720x432 with 1 Axes>"
      ]
     },
     "metadata": {},
     "output_type": "display_data"
    }
   ],
   "source": [
    "m.plot(forecast)"
   ]
  },
  {
   "cell_type": "code",
   "execution_count": 14,
   "metadata": {},
   "outputs": [
    {
     "data": {
      "image/png": "[encoded data removed]",
      "text/plain": [
       "<Figure size 648x432 with 2 Axes>"
      ]
     },
     "execution_count": 14,
     "metadata": {},
     "output_type": "execute_result"
    },
    {
     "data": {
      "image/png": "[encoded data removed]",
      "text/plain": [
       "<Figure size 648x432 with 2 Axes>"
      ]
     },
     "metadata": {},
     "output_type": "display_data"
    }
   ],
   "source": [
    "m.plot_components(forecast)"
   ]
  },
  {
   "cell_type": "code",
   "execution_count": 15,
   "metadata": {},
   "outputs": [
    {
     "name": "stdout",
     "output_type": "stream",
     "text": [
      "ds, trend, yhat_lower, yhat_upper, trend_lower, trend_upper, additive_terms, additive_terms_lower, additive_terms_upper, yearly, yearly_lower, yearly_upper, multiplicative_terms, multiplicative_terms_lower, multiplicative_terms_upper, yhat\n"
     ]
    }
   ],
   "source": [
    "print(', '.join(forecast.columns))"
   ]
  },
  {
   "cell_type": "code",
   "execution_count": 16,
   "metadata": {},
   "outputs": [],
   "source": [
    "cmp_df = forecast.set_index('ds')[['yhat', 'yhat_lower', \n",
    "                                   'yhat_upper']].join(df.set_index('ds'))"
   ]
  },
  {
   "cell_type": "code",
   "execution_count": 17,
   "metadata": {},
   "outputs": [
    {
     "name": "stdout",
     "output_type": "stream",
     "text": [
      "MAPE 8.735663751555839\n",
      "MAE 1208.1767479474984\n"
     ]
    }
   ],
   "source": [
    "import numpy as np\n",
    "cmp_df['e'] = cmp_df['y'] - cmp_df['yhat']\n",
    "cmp_df['p'] = 100*cmp_df['e']/cmp_df['y']\n",
    "print ('MAPE', np.mean(abs(cmp_df[-predictions:]['p'])))\n",
    "print ('MAE', np.mean(abs(cmp_df[-predictions:]['e'])))"
   ]
  },
  {
   "cell_type": "code",
   "execution_count": 18,
   "metadata": {},
   "outputs": [
    {
     "data": {
      "image/png": "[encoded data removed]",
      "text/plain": [
       "<Figure size 1440x720 with 1 Axes>"
      ]
     },
     "metadata": {
      "needs_background": "light"
     },
     "output_type": "display_data"
    }
   ],
   "source": [
    "plt.figure(figsize=(20,10))\n",
    "plt.plot(data.ds,data.y, color='blue')\n",
    "plt.plot(cmp_df['yhat'][-predictions:],color='red')\n",
    "plt.show()"
   ]
  },
  {
   "cell_type": "code",
   "execution_count": 19,
   "metadata": {},
   "outputs": [],
   "source": [
    "from scipy import stats\n",
    "import statsmodels.api as sm\n",
    "\n",
    "def invboxcox(y,lmbda):\n",
    "    if lmbda == 0:\n",
    "        return(np.exp(y))\n",
    "    else:\n",
    "        return(np.exp(np.log(lmbda*y+1)/lmbda))"
   ]
  },
  {
   "cell_type": "code",
   "execution_count": 20,
   "metadata": {},
   "outputs": [
    {
     "name": "stderr",
     "output_type": "stream",
     "text": [
      "INFO:fbprophet:Disabling weekly seasonality. Run prophet with weekly_seasonality=True to override this.\n",
      "INFO:fbprophet:Disabling daily seasonality. Run prophet with daily_seasonality=True to override this.\n",
      "/Users/irochka/opt/anaconda3/lib/python3.7/site-packages/pandas/core/series.py:856: RuntimeWarning:\n",
      "\n",
      "invalid value encountered in log\n",
      "\n"
     ]
    },
    {
     "data": {
      "text/plain": [
       "(68.1918793253221, 8608.80456881942)"
      ]
     },
     "execution_count": 20,
     "metadata": {},
     "output_type": "execute_result"
    }
   ],
   "source": [
    "train_df2 = train_df.copy().fillna(11806)\n",
    "train_df2 = train_df2.set_index('ds')\n",
    "train_df2['y'], lmbda_prophet = stats.boxcox(train_df2['y'])\n",
    "\n",
    "train_df2.reset_index(inplace=True)\n",
    "\n",
    "m2 = Prophet()\n",
    "m2.fit(train_df2)\n",
    "future2 = m2.make_future_dataframe(periods=5)\n",
    "\n",
    "forecast2 = m2.predict(future2)\n",
    "forecast2['yhat'] = invboxcox(forecast2.yhat, lmbda_prophet)\n",
    "forecast2['yhat_lower'] = invboxcox(forecast2.yhat_lower, lmbda_prophet)\n",
    "forecast2['yhat_upper'] = invboxcox(forecast2.yhat_upper, lmbda_prophet)\n",
    "\n",
    "cmp_df2 = forecast2.set_index('ds')[['yhat', 'yhat_lower', 'yhat_upper']].join(df.set_index('ds'))\n",
    "\n",
    "cmp_df2['e'] = cmp_df2['y'] - cmp_df2['yhat']\n",
    "cmp_df2['p'] = 100*cmp_df2['e']/cmp_df2['y']\n",
    "np.mean(abs(cmp_df2[-predictions:]['p'])), np.mean(abs(cmp_df2[-predictions:]['e']))"
   ]
  },
  {
   "cell_type": "code",
   "execution_count": 21,
   "metadata": {},
   "outputs": [
    {
     "data": {
      "image/png": "[encoded data removed]",
      "text/plain": [
       "<Figure size 1440x720 with 1 Axes>"
      ]
     },
     "metadata": {
      "needs_background": "light"
     },
     "output_type": "display_data"
    }
   ],
   "source": [
    "plt.figure(figsize=(20,10))\n",
    "plt.plot(data.ds,data.y, color='blue')\n",
    "plt.plot(cmp_df2['yhat'][-predictions:],color='red')\n",
    "plt.show()"
   ]
  },
  {
   "cell_type": "markdown",
   "metadata": {},
   "source": [
    "ARIMA\n"
   ]
  },
  {
   "cell_type": "code",
   "execution_count": 25,
   "metadata": {},
   "outputs": [],
   "source": [
    "#%pylab inline\n",
    "import pandas as pd\n",
    "from scipy import stats\n",
    "import statsmodels.api as sm\n",
    "import matplotlib.pyplot as plt\n",
    "import warnings\n",
    "from itertools import product\n",
    "\n",
    "def invboxcox(y,lmbda):\n",
    "    if lmbda == 0:\n",
    "        return(np.exp(y))\n",
    "    else:\n",
    "        return(np.exp(np.log(lmbda*y+1)/lmbda))"
   ]
  },
  {
   "cell_type": "code",
   "execution_count": 42,
   "metadata": {},
   "outputs": [
    {
     "data": {
      "text/plain": [
       "Index(['ds', 'y'], dtype='object')"
      ]
     },
     "execution_count": 42,
     "metadata": {},
     "output_type": "execute_result"
    }
   ],
   "source": [
    "df.columns"
   ]
  },
  {
   "cell_type": "code",
   "execution_count": 41,
   "metadata": {},
   "outputs": [
    {
     "name": "stdout",
     "output_type": "stream",
     "text": [
      "Критерий Дики-Фуллера: p=0.752587\n"
     ]
    },
    {
     "data": {
      "text/plain": [
       "<Figure size 1080x720 with 0 Axes>"
      ]
     },
     "metadata": {},
     "output_type": "display_data"
    }
   ],
   "source": [
    "plt.figure(figsize(15,10))\n",
    "#sm.tsa.seasonal_decompose(df.y).plot()  # Python написал,что сезонности какой либо не обнаружил\n",
    "print(\"Критерий Дики-Фуллера: p=%f\" % sm.tsa.stattools.adfuller(df.y)[1])"
   ]
  },
  {
   "cell_type": "code",
   "execution_count": 43,
   "metadata": {},
   "outputs": [
    {
     "name": "stdout",
     "output_type": "stream",
     "text": [
      "Оптимальный параметр преобразования Бокса-Кокса: -0.820699\n",
      "Критерий Дики-Фуллера: p=0.749530\n"
     ]
    },
    {
     "data": {
      "image/png": "[encoded data removed]",
      "text/plain": [
       "<Figure size 1080x504 with 1 Axes>"
      ]
     },
     "metadata": {
      "needs_background": "light"
     },
     "output_type": "display_data"
    }
   ],
   "source": [
    "df['m_box'], lmbda = stats.boxcox(df.y) #Сделаем преобразование Бокса-Кокса для стабилизации дисперсии:\n",
    "plt.figure(figsize(15,7))\n",
    "df['m_box'].plot()\n",
    "plt.ylabel(u'Transformed Met prices')\n",
    "print(\"Оптимальный параметр преобразования Бокса-Кокса: %f\" % lmbda)\n",
    "print(\"Критерий Дики-Фуллера: p=%f\" % sm.tsa.stattools.adfuller(df['m_box'])[1])"
   ]
  },
  {
   "cell_type": "code",
   "execution_count": 48,
   "metadata": {},
   "outputs": [
    {
     "name": "stdout",
     "output_type": "stream",
     "text": [
      "Критерий Дики-Фуллера: p=0.079154\n"
     ]
    },
    {
     "data": {
      "text/plain": [
       "<Figure size 1080x720 with 0 Axes>"
      ]
     },
     "metadata": {},
     "output_type": "display_data"
    }
   ],
   "source": [
    "df['m_box_diff_year'] = df.m_box - df.m_box.shift(52)\n",
    "plt.figure(figsize(15,10))\n",
    "#sm.tsa.seasonal_decompose(df['m_box_diff'][52:]).plot()\n",
    "print(\"Критерий Дики-Фуллера: p=%f\" % sm.tsa.stattools.adfuller(df['m_box_diff_year'][52:])[1])"
   ]
  },
  {
   "cell_type": "code",
   "execution_count": 53,
   "metadata": {},
   "outputs": [
    {
     "name": "stdout",
     "output_type": "stream",
     "text": [
      "Критерий Дики-Фуллера: p=0.000000\n"
     ]
    },
    {
     "data": {
      "text/plain": [
       "<Figure size 1080x720 with 0 Axes>"
      ]
     },
     "metadata": {},
     "output_type": "display_data"
    }
   ],
   "source": [
    "\n",
    "df['m_box_diff_week'] = df['m_box_diff_year'] - df['m_box_diff_year'].shift(1)\n",
    "plt.figure(figsize(15,10))\n",
    "#sm.tsa.seasonal_decompose(df.sales_box_diff_week[53:]).plot()   \n",
    "print(\"Критерий Дики-Фуллера: p=%f\" % sm.tsa.stattools.adfuller(df.m_box_diff_week[53:])[1])"
   ]
  },
  {
   "cell_type": "code",
   "execution_count": 57,
   "metadata": {},
   "outputs": [
    {
     "name": "stdout",
     "output_type": "stream",
     "text": [
      "Критерий Дики-Фуллера: p=0.000090\n"
     ]
    },
    {
     "data": {
      "text/plain": [
       "<Figure size 1080x720 with 0 Axes>"
      ]
     },
     "metadata": {},
     "output_type": "display_data"
    }
   ],
   "source": [
    "df['m_box_diff_month'] = df['m_box_diff_year'] - df['m_box_diff_year'].shift(4)\n",
    "plt.figure(figsize(15,10))\n",
    "#sm.tsa.seasonal_decompose(df.sales_box_diff_week[53:]).plot()   \n",
    "print(\"Критерий Дики-Фуллера: p=%f\" % sm.tsa.stattools.adfuller(df.m_box_diff_month[56:])[1])"
   ]
  },
  {
   "cell_type": "code",
   "execution_count": 58,
   "metadata": {},
   "outputs": [
    {
     "name": "stdout",
     "output_type": "stream",
     "text": [
      "Критерий Дики-Фуллера: p=0.002002\n"
     ]
    },
    {
     "data": {
      "text/plain": [
       "<Figure size 1080x720 with 0 Axes>"
      ]
     },
     "metadata": {},
     "output_type": "display_data"
    }
   ],
   "source": [
    "df['m_box_diff_decade'] = df['m_box_diff_year'] - df['m_box_diff_year'].shift(12)\n",
    "plt.figure(figsize(15,10))\n",
    "#sm.tsa.seasonal_decompose(df.sales_box_diff_week[53:]).plot()   \n",
    "print(\"Критерий Дики-Фуллера: p=%f\" % sm.tsa.stattools.adfuller(df.m_box_diff_decade[64:])[1])"
   ]
  },
  {
   "cell_type": "code",
   "execution_count": 60,
   "metadata": {},
   "outputs": [
    {
     "data": {
      "image/png": "[encoded data removed]",
      "text/plain": [
       "<Figure size 1080x576 with 1 Axes>"
      ]
     },
     "metadata": {
      "needs_background": "light"
     },
     "output_type": "display_data"
    },
    {
     "data": {
      "image/png": "[encoded data removed]",
      "text/plain": [
       "<Figure size 1080x576 with 1 Axes>"
      ]
     },
     "metadata": {
      "needs_background": "light"
     },
     "output_type": "display_data"
    }
   ],
   "source": [
    "plt.figure(figsize(15,8))\n",
    "ax = plt.subplot(211)\n",
    "sm.graphics.tsa.plot_acf(df.m_box_diff_week[53:].values.squeeze(), lags=104, ax=ax)\n",
    "plt.show()\n",
    "ax = plt.subplot(212)\n",
    "sm.graphics.tsa.plot_pacf(df.m_box_diff_week[53:].values.squeeze(), lags=104, ax=ax)\n",
    "plt.show()"
   ]
  },
  {
   "cell_type": "markdown",
   "metadata": {},
   "source": [
    "Начальные приближения: Q=1, q=4, P=2 ,p=10"
   ]
  },
  {
   "cell_type": "code",
   "execution_count": 61,
   "metadata": {},
   "outputs": [
    {
     "data": {
      "text/plain": [
       "330"
      ]
     },
     "execution_count": 61,
     "metadata": {},
     "output_type": "execute_result"
    }
   ],
   "source": [
    "ps = range(0, 11)\n",
    "d=1\n",
    "qs = range(0, 5)\n",
    "Ps = range(0, 3)\n",
    "D=1\n",
    "Qs = range(0, 2)\n",
    "parameters = product(ps, qs, Ps, Qs)\n",
    "parameters_list = list(parameters)\n",
    "len(parameters_list)"
   ]
  },
  {
   "cell_type": "code",
   "execution_count": 63,
   "metadata": {},
   "outputs": [
    {
     "ename": "LinAlgError",
     "evalue": "Non-positive-definite forecast error covariance matrix encountered at period 58",
     "output_type": "error",
     "traceback": [
      "\u001b[0;31m---------------------------------------------------------------------------\u001b[0m",
      "\u001b[0;31mZeroDivisionError\u001b[0m                         Traceback (most recent call last)",
      "\u001b[0;32mstatsmodels/tsa/statespace/_filters/_inversions.pyx\u001b[0m in \u001b[0;36mstatsmodels.tsa.statespace._filters._inversions.dinverse_univariate\u001b[0;34m()\u001b[0m\n",
      "\u001b[0;31mZeroDivisionError\u001b[0m: float division",
      "\nDuring handling of the above exception, another exception occurred:\n",
      "\u001b[0;31mLinAlgError\u001b[0m                               Traceback (most recent call last)",
      "\u001b[0;32m<timed exec>\u001b[0m in \u001b[0;36m<module>\u001b[0;34m\u001b[0m\n",
      "\u001b[0;32m~/opt/anaconda3/lib/python3.7/site-packages/statsmodels/tsa/statespace/mlemodel.py\u001b[0m in \u001b[0;36mfit\u001b[0;34m(self, start_params, transformed, cov_type, cov_kwds, method, maxiter, full_output, disp, callback, return_params, optim_score, optim_complex_step, optim_hessian, flags, **kwargs)\u001b[0m\n\u001b[1;32m    480\u001b[0m                                            \u001b[0mfull_output\u001b[0m\u001b[0;34m=\u001b[0m\u001b[0mfull_output\u001b[0m\u001b[0;34m,\u001b[0m\u001b[0;34m\u001b[0m\u001b[0;34m\u001b[0m\u001b[0m\n\u001b[1;32m    481\u001b[0m                                            \u001b[0mdisp\u001b[0m\u001b[0;34m=\u001b[0m\u001b[0mdisp\u001b[0m\u001b[0;34m,\u001b[0m \u001b[0mcallback\u001b[0m\u001b[0;34m=\u001b[0m\u001b[0mcallback\u001b[0m\u001b[0;34m,\u001b[0m\u001b[0;34m\u001b[0m\u001b[0;34m\u001b[0m\u001b[0m\n\u001b[0;32m--> 482\u001b[0;31m                                            skip_hessian=True, **kwargs)\n\u001b[0m\u001b[1;32m    483\u001b[0m \u001b[0;34m\u001b[0m\u001b[0m\n\u001b[1;32m    484\u001b[0m         \u001b[0;31m# Just return the fitted parameters if requested\u001b[0m\u001b[0;34m\u001b[0m\u001b[0;34m\u001b[0m\u001b[0;34m\u001b[0m\u001b[0m\n",
      "\u001b[0;32m~/opt/anaconda3/lib/python3.7/site-packages/statsmodels/base/model.py\u001b[0m in \u001b[0;36mfit\u001b[0;34m(self, start_params, method, maxiter, full_output, disp, fargs, callback, retall, skip_hessian, **kwargs)\u001b[0m\n\u001b[1;32m    468\u001b[0m                                                        \u001b[0mcallback\u001b[0m\u001b[0;34m=\u001b[0m\u001b[0mcallback\u001b[0m\u001b[0;34m,\u001b[0m\u001b[0;34m\u001b[0m\u001b[0;34m\u001b[0m\u001b[0m\n\u001b[1;32m    469\u001b[0m                                                        \u001b[0mretall\u001b[0m\u001b[0;34m=\u001b[0m\u001b[0mretall\u001b[0m\u001b[0;34m,\u001b[0m\u001b[0;34m\u001b[0m\u001b[0;34m\u001b[0m\u001b[0m\n\u001b[0;32m--> 470\u001b[0;31m                                                        full_output=full_output)\n\u001b[0m\u001b[1;32m    471\u001b[0m \u001b[0;34m\u001b[0m\u001b[0m\n\u001b[1;32m    472\u001b[0m         \u001b[0;31m# NOTE: this is for fit_regularized and should be generalized\u001b[0m\u001b[0;34m\u001b[0m\u001b[0;34m\u001b[0m\u001b[0;34m\u001b[0m\u001b[0m\n",
      "\u001b[0;32m~/opt/anaconda3/lib/python3.7/site-packages/statsmodels/base/optimizer.py\u001b[0m in \u001b[0;36m_fit\u001b[0;34m(self, objective, gradient, start_params, fargs, kwargs, hessian, method, maxiter, full_output, disp, callback, retall)\u001b[0m\n\u001b[1;32m    217\u001b[0m                             \u001b[0mdisp\u001b[0m\u001b[0;34m=\u001b[0m\u001b[0mdisp\u001b[0m\u001b[0;34m,\u001b[0m \u001b[0mmaxiter\u001b[0m\u001b[0;34m=\u001b[0m\u001b[0mmaxiter\u001b[0m\u001b[0;34m,\u001b[0m \u001b[0mcallback\u001b[0m\u001b[0;34m=\u001b[0m\u001b[0mcallback\u001b[0m\u001b[0;34m,\u001b[0m\u001b[0;34m\u001b[0m\u001b[0;34m\u001b[0m\u001b[0m\n\u001b[1;32m    218\u001b[0m                             \u001b[0mretall\u001b[0m\u001b[0;34m=\u001b[0m\u001b[0mretall\u001b[0m\u001b[0;34m,\u001b[0m \u001b[0mfull_output\u001b[0m\u001b[0;34m=\u001b[0m\u001b[0mfull_output\u001b[0m\u001b[0;34m,\u001b[0m\u001b[0;34m\u001b[0m\u001b[0;34m\u001b[0m\u001b[0m\n\u001b[0;32m--> 219\u001b[0;31m                             hess=hessian)\n\u001b[0m\u001b[1;32m    220\u001b[0m \u001b[0;34m\u001b[0m\u001b[0m\n\u001b[1;32m    221\u001b[0m         optim_settings = {'optimizer': method, 'start_params': start_params,\n",
      "\u001b[0;32m~/opt/anaconda3/lib/python3.7/site-packages/statsmodels/base/optimizer.py\u001b[0m in \u001b[0;36m_fit_lbfgs\u001b[0;34m(f, score, start_params, fargs, kwargs, disp, maxiter, callback, retall, full_output, hess)\u001b[0m\n\u001b[1;32m    437\u001b[0m                                      \u001b[0mcallback\u001b[0m\u001b[0;34m=\u001b[0m\u001b[0mcallback\u001b[0m\u001b[0;34m,\u001b[0m \u001b[0margs\u001b[0m\u001b[0;34m=\u001b[0m\u001b[0mfargs\u001b[0m\u001b[0;34m,\u001b[0m\u001b[0;34m\u001b[0m\u001b[0;34m\u001b[0m\u001b[0m\n\u001b[1;32m    438\u001b[0m                                      \u001b[0mbounds\u001b[0m\u001b[0;34m=\u001b[0m\u001b[0mbounds\u001b[0m\u001b[0;34m,\u001b[0m \u001b[0mdisp\u001b[0m\u001b[0;34m=\u001b[0m\u001b[0mdisp\u001b[0m\u001b[0;34m,\u001b[0m\u001b[0;34m\u001b[0m\u001b[0;34m\u001b[0m\u001b[0m\n\u001b[0;32m--> 439\u001b[0;31m                                      **extra_kwargs)\n\u001b[0m\u001b[1;32m    440\u001b[0m \u001b[0;34m\u001b[0m\u001b[0m\n\u001b[1;32m    441\u001b[0m     \u001b[0;32mif\u001b[0m \u001b[0mfull_output\u001b[0m\u001b[0;34m:\u001b[0m\u001b[0;34m\u001b[0m\u001b[0;34m\u001b[0m\u001b[0m\n",
      "\u001b[0;32m~/opt/anaconda3/lib/python3.7/site-packages/scipy/optimize/lbfgsb.py\u001b[0m in \u001b[0;36mfmin_l_bfgs_b\u001b[0;34m(func, x0, fprime, args, approx_grad, bounds, m, factr, pgtol, epsilon, iprint, maxfun, maxiter, disp, callback, maxls)\u001b[0m\n\u001b[1;32m    197\u001b[0m \u001b[0;34m\u001b[0m\u001b[0m\n\u001b[1;32m    198\u001b[0m     res = _minimize_lbfgsb(fun, x0, args=args, jac=jac, bounds=bounds,\n\u001b[0;32m--> 199\u001b[0;31m                            **opts)\n\u001b[0m\u001b[1;32m    200\u001b[0m     d = {'grad': res['jac'],\n\u001b[1;32m    201\u001b[0m          \u001b[0;34m'task'\u001b[0m\u001b[0;34m:\u001b[0m \u001b[0mres\u001b[0m\u001b[0;34m[\u001b[0m\u001b[0;34m'message'\u001b[0m\u001b[0;34m]\u001b[0m\u001b[0;34m,\u001b[0m\u001b[0;34m\u001b[0m\u001b[0;34m\u001b[0m\u001b[0m\n",
      "\u001b[0;32m~/opt/anaconda3/lib/python3.7/site-packages/scipy/optimize/lbfgsb.py\u001b[0m in \u001b[0;36m_minimize_lbfgsb\u001b[0;34m(fun, x0, args, jac, bounds, disp, maxcor, ftol, gtol, eps, maxfun, maxiter, iprint, callback, maxls, **unknown_options)\u001b[0m\n\u001b[1;32m    333\u001b[0m             \u001b[0;31m# until the completion of the current minimization iteration.\u001b[0m\u001b[0;34m\u001b[0m\u001b[0;34m\u001b[0m\u001b[0;34m\u001b[0m\u001b[0m\n\u001b[1;32m    334\u001b[0m             \u001b[0;31m# Overwrite f and g:\u001b[0m\u001b[0;34m\u001b[0m\u001b[0;34m\u001b[0m\u001b[0;34m\u001b[0m\u001b[0m\n\u001b[0;32m--> 335\u001b[0;31m             \u001b[0mf\u001b[0m\u001b[0;34m,\u001b[0m \u001b[0mg\u001b[0m \u001b[0;34m=\u001b[0m \u001b[0mfunc_and_grad\u001b[0m\u001b[0;34m(\u001b[0m\u001b[0mx\u001b[0m\u001b[0;34m)\u001b[0m\u001b[0;34m\u001b[0m\u001b[0;34m\u001b[0m\u001b[0m\n\u001b[0m\u001b[1;32m    336\u001b[0m         \u001b[0;32melif\u001b[0m \u001b[0mtask_str\u001b[0m\u001b[0;34m.\u001b[0m\u001b[0mstartswith\u001b[0m\u001b[0;34m(\u001b[0m\u001b[0;34mb'NEW_X'\u001b[0m\u001b[0;34m)\u001b[0m\u001b[0;34m:\u001b[0m\u001b[0;34m\u001b[0m\u001b[0;34m\u001b[0m\u001b[0m\n\u001b[1;32m    337\u001b[0m             \u001b[0;31m# new iteration\u001b[0m\u001b[0;34m\u001b[0m\u001b[0;34m\u001b[0m\u001b[0;34m\u001b[0m\u001b[0m\n",
      "\u001b[0;32m~/opt/anaconda3/lib/python3.7/site-packages/scipy/optimize/lbfgsb.py\u001b[0m in \u001b[0;36mfunc_and_grad\u001b[0;34m(x)\u001b[0m\n\u001b[1;32m    279\u001b[0m         \u001b[0;32mdef\u001b[0m \u001b[0mfunc_and_grad\u001b[0m\u001b[0;34m(\u001b[0m\u001b[0mx\u001b[0m\u001b[0;34m)\u001b[0m\u001b[0;34m:\u001b[0m\u001b[0;34m\u001b[0m\u001b[0;34m\u001b[0m\u001b[0m\n\u001b[1;32m    280\u001b[0m             \u001b[0mf\u001b[0m \u001b[0;34m=\u001b[0m \u001b[0mfun\u001b[0m\u001b[0;34m(\u001b[0m\u001b[0mx\u001b[0m\u001b[0;34m,\u001b[0m \u001b[0;34m*\u001b[0m\u001b[0margs\u001b[0m\u001b[0;34m)\u001b[0m\u001b[0;34m\u001b[0m\u001b[0;34m\u001b[0m\u001b[0m\n\u001b[0;32m--> 281\u001b[0;31m             \u001b[0mg\u001b[0m \u001b[0;34m=\u001b[0m \u001b[0m_approx_fprime_helper\u001b[0m\u001b[0;34m(\u001b[0m\u001b[0mx\u001b[0m\u001b[0;34m,\u001b[0m \u001b[0mfun\u001b[0m\u001b[0;34m,\u001b[0m \u001b[0mepsilon\u001b[0m\u001b[0;34m,\u001b[0m \u001b[0margs\u001b[0m\u001b[0;34m=\u001b[0m\u001b[0margs\u001b[0m\u001b[0;34m,\u001b[0m \u001b[0mf0\u001b[0m\u001b[0;34m=\u001b[0m\u001b[0mf\u001b[0m\u001b[0;34m)\u001b[0m\u001b[0;34m\u001b[0m\u001b[0;34m\u001b[0m\u001b[0m\n\u001b[0m\u001b[1;32m    282\u001b[0m             \u001b[0;32mreturn\u001b[0m \u001b[0mf\u001b[0m\u001b[0;34m,\u001b[0m \u001b[0mg\u001b[0m\u001b[0;34m\u001b[0m\u001b[0;34m\u001b[0m\u001b[0m\n\u001b[1;32m    283\u001b[0m     \u001b[0;32melse\u001b[0m\u001b[0;34m:\u001b[0m\u001b[0;34m\u001b[0m\u001b[0;34m\u001b[0m\u001b[0m\n",
      "\u001b[0;32m~/opt/anaconda3/lib/python3.7/site-packages/scipy/optimize/optimize.py\u001b[0m in \u001b[0;36m_approx_fprime_helper\u001b[0;34m(xk, f, epsilon, args, f0)\u001b[0m\n\u001b[1;32m    694\u001b[0m         \u001b[0mei\u001b[0m\u001b[0;34m[\u001b[0m\u001b[0mk\u001b[0m\u001b[0;34m]\u001b[0m \u001b[0;34m=\u001b[0m \u001b[0;36m1.0\u001b[0m\u001b[0;34m\u001b[0m\u001b[0;34m\u001b[0m\u001b[0m\n\u001b[1;32m    695\u001b[0m         \u001b[0md\u001b[0m \u001b[0;34m=\u001b[0m \u001b[0mepsilon\u001b[0m \u001b[0;34m*\u001b[0m \u001b[0mei\u001b[0m\u001b[0;34m\u001b[0m\u001b[0;34m\u001b[0m\u001b[0m\n\u001b[0;32m--> 696\u001b[0;31m         \u001b[0mgrad\u001b[0m\u001b[0;34m[\u001b[0m\u001b[0mk\u001b[0m\u001b[0;34m]\u001b[0m \u001b[0;34m=\u001b[0m \u001b[0;34m(\u001b[0m\u001b[0mf\u001b[0m\u001b[0;34m(\u001b[0m\u001b[0;34m*\u001b[0m\u001b[0;34m(\u001b[0m\u001b[0;34m(\u001b[0m\u001b[0mxk\u001b[0m \u001b[0;34m+\u001b[0m \u001b[0md\u001b[0m\u001b[0;34m,\u001b[0m\u001b[0;34m)\u001b[0m \u001b[0;34m+\u001b[0m \u001b[0margs\u001b[0m\u001b[0;34m)\u001b[0m\u001b[0;34m)\u001b[0m \u001b[0;34m-\u001b[0m \u001b[0mf0\u001b[0m\u001b[0;34m)\u001b[0m \u001b[0;34m/\u001b[0m \u001b[0md\u001b[0m\u001b[0;34m[\u001b[0m\u001b[0mk\u001b[0m\u001b[0;34m]\u001b[0m\u001b[0;34m\u001b[0m\u001b[0;34m\u001b[0m\u001b[0m\n\u001b[0m\u001b[1;32m    697\u001b[0m         \u001b[0mei\u001b[0m\u001b[0;34m[\u001b[0m\u001b[0mk\u001b[0m\u001b[0;34m]\u001b[0m \u001b[0;34m=\u001b[0m \u001b[0;36m0.0\u001b[0m\u001b[0;34m\u001b[0m\u001b[0;34m\u001b[0m\u001b[0m\n\u001b[1;32m    698\u001b[0m     \u001b[0;32mreturn\u001b[0m \u001b[0mgrad\u001b[0m\u001b[0;34m\u001b[0m\u001b[0;34m\u001b[0m\u001b[0m\n",
      "\u001b[0;32m~/opt/anaconda3/lib/python3.7/site-packages/scipy/optimize/optimize.py\u001b[0m in \u001b[0;36mfunction_wrapper\u001b[0;34m(*wrapper_args)\u001b[0m\n\u001b[1;32m    324\u001b[0m     \u001b[0;32mdef\u001b[0m \u001b[0mfunction_wrapper\u001b[0m\u001b[0;34m(\u001b[0m\u001b[0;34m*\u001b[0m\u001b[0mwrapper_args\u001b[0m\u001b[0;34m)\u001b[0m\u001b[0;34m:\u001b[0m\u001b[0;34m\u001b[0m\u001b[0;34m\u001b[0m\u001b[0m\n\u001b[1;32m    325\u001b[0m         \u001b[0mncalls\u001b[0m\u001b[0;34m[\u001b[0m\u001b[0;36m0\u001b[0m\u001b[0;34m]\u001b[0m \u001b[0;34m+=\u001b[0m \u001b[0;36m1\u001b[0m\u001b[0;34m\u001b[0m\u001b[0;34m\u001b[0m\u001b[0m\n\u001b[0;32m--> 326\u001b[0;31m         \u001b[0;32mreturn\u001b[0m \u001b[0mfunction\u001b[0m\u001b[0;34m(\u001b[0m\u001b[0;34m*\u001b[0m\u001b[0;34m(\u001b[0m\u001b[0mwrapper_args\u001b[0m \u001b[0;34m+\u001b[0m \u001b[0margs\u001b[0m\u001b[0;34m)\u001b[0m\u001b[0;34m)\u001b[0m\u001b[0;34m\u001b[0m\u001b[0;34m\u001b[0m\u001b[0m\n\u001b[0m\u001b[1;32m    327\u001b[0m \u001b[0;34m\u001b[0m\u001b[0m\n\u001b[1;32m    328\u001b[0m     \u001b[0;32mreturn\u001b[0m \u001b[0mncalls\u001b[0m\u001b[0;34m,\u001b[0m \u001b[0mfunction_wrapper\u001b[0m\u001b[0;34m\u001b[0m\u001b[0;34m\u001b[0m\u001b[0m\n",
      "\u001b[0;32m~/opt/anaconda3/lib/python3.7/site-packages/statsmodels/base/model.py\u001b[0m in \u001b[0;36mf\u001b[0;34m(params, *args)\u001b[0m\n\u001b[1;32m    442\u001b[0m \u001b[0;34m\u001b[0m\u001b[0m\n\u001b[1;32m    443\u001b[0m         \u001b[0;32mdef\u001b[0m \u001b[0mf\u001b[0m\u001b[0;34m(\u001b[0m\u001b[0mparams\u001b[0m\u001b[0;34m,\u001b[0m \u001b[0;34m*\u001b[0m\u001b[0margs\u001b[0m\u001b[0;34m)\u001b[0m\u001b[0;34m:\u001b[0m\u001b[0;34m\u001b[0m\u001b[0;34m\u001b[0m\u001b[0m\n\u001b[0;32m--> 444\u001b[0;31m             \u001b[0;32mreturn\u001b[0m \u001b[0;34m-\u001b[0m\u001b[0mself\u001b[0m\u001b[0;34m.\u001b[0m\u001b[0mloglike\u001b[0m\u001b[0;34m(\u001b[0m\u001b[0mparams\u001b[0m\u001b[0;34m,\u001b[0m \u001b[0;34m*\u001b[0m\u001b[0margs\u001b[0m\u001b[0;34m)\u001b[0m \u001b[0;34m/\u001b[0m \u001b[0mnobs\u001b[0m\u001b[0;34m\u001b[0m\u001b[0;34m\u001b[0m\u001b[0m\n\u001b[0m\u001b[1;32m    445\u001b[0m \u001b[0;34m\u001b[0m\u001b[0m\n\u001b[1;32m    446\u001b[0m         \u001b[0;32mif\u001b[0m \u001b[0mmethod\u001b[0m \u001b[0;34m==\u001b[0m \u001b[0;34m'newton'\u001b[0m\u001b[0;34m:\u001b[0m\u001b[0;34m\u001b[0m\u001b[0;34m\u001b[0m\u001b[0m\n",
      "\u001b[0;32m~/opt/anaconda3/lib/python3.7/site-packages/statsmodels/tsa/statespace/mlemodel.py\u001b[0m in \u001b[0;36mloglike\u001b[0;34m(self, params, *args, **kwargs)\u001b[0m\n\u001b[1;32m    657\u001b[0m             \u001b[0mkwargs\u001b[0m\u001b[0;34m[\u001b[0m\u001b[0;34m'inversion_method'\u001b[0m\u001b[0;34m]\u001b[0m \u001b[0;34m=\u001b[0m \u001b[0mINVERT_UNIVARIATE\u001b[0m \u001b[0;34m|\u001b[0m \u001b[0mSOLVE_LU\u001b[0m\u001b[0;34m\u001b[0m\u001b[0;34m\u001b[0m\u001b[0m\n\u001b[1;32m    658\u001b[0m \u001b[0;34m\u001b[0m\u001b[0m\n\u001b[0;32m--> 659\u001b[0;31m         \u001b[0mloglike\u001b[0m \u001b[0;34m=\u001b[0m \u001b[0mself\u001b[0m\u001b[0;34m.\u001b[0m\u001b[0mssm\u001b[0m\u001b[0;34m.\u001b[0m\u001b[0mloglike\u001b[0m\u001b[0;34m(\u001b[0m\u001b[0mcomplex_step\u001b[0m\u001b[0;34m=\u001b[0m\u001b[0mcomplex_step\u001b[0m\u001b[0;34m,\u001b[0m \u001b[0;34m**\u001b[0m\u001b[0mkwargs\u001b[0m\u001b[0;34m)\u001b[0m\u001b[0;34m\u001b[0m\u001b[0;34m\u001b[0m\u001b[0m\n\u001b[0m\u001b[1;32m    660\u001b[0m \u001b[0;34m\u001b[0m\u001b[0m\n\u001b[1;32m    661\u001b[0m         \u001b[0;31m# Koopman, Shephard, and Doornik recommend maximizing the average\u001b[0m\u001b[0;34m\u001b[0m\u001b[0;34m\u001b[0m\u001b[0;34m\u001b[0m\u001b[0m\n",
      "\u001b[0;32m~/opt/anaconda3/lib/python3.7/site-packages/statsmodels/tsa/statespace/kalman_filter.py\u001b[0m in \u001b[0;36mloglike\u001b[0;34m(self, **kwargs)\u001b[0m\n\u001b[1;32m    873\u001b[0m                                ' MEMORY_NO_LIKELIHOOD option is selected.')\n\u001b[1;32m    874\u001b[0m         \u001b[0mkwargs\u001b[0m\u001b[0;34m[\u001b[0m\u001b[0;34m'conserve_memory'\u001b[0m\u001b[0;34m]\u001b[0m \u001b[0;34m=\u001b[0m \u001b[0mMEMORY_CONSERVE\u001b[0m \u001b[0;34m^\u001b[0m \u001b[0mMEMORY_NO_LIKELIHOOD\u001b[0m\u001b[0;34m\u001b[0m\u001b[0;34m\u001b[0m\u001b[0m\n\u001b[0;32m--> 875\u001b[0;31m         \u001b[0mkfilter\u001b[0m \u001b[0;34m=\u001b[0m \u001b[0mself\u001b[0m\u001b[0;34m.\u001b[0m\u001b[0m_filter\u001b[0m\u001b[0;34m(\u001b[0m\u001b[0;34m**\u001b[0m\u001b[0mkwargs\u001b[0m\u001b[0;34m)\u001b[0m\u001b[0;34m\u001b[0m\u001b[0;34m\u001b[0m\u001b[0m\n\u001b[0m\u001b[1;32m    876\u001b[0m         loglikelihood_burn = kwargs.get('loglikelihood_burn',\n\u001b[1;32m    877\u001b[0m                                         self.loglikelihood_burn)\n",
      "\u001b[0;32m~/opt/anaconda3/lib/python3.7/site-packages/statsmodels/tsa/statespace/kalman_filter.py\u001b[0m in \u001b[0;36m_filter\u001b[0;34m(self, filter_method, inversion_method, stability_method, conserve_memory, filter_timing, tolerance, loglikelihood_burn, complex_step)\u001b[0m\n\u001b[1;32m    800\u001b[0m \u001b[0;34m\u001b[0m\u001b[0m\n\u001b[1;32m    801\u001b[0m         \u001b[0;31m# Run the filter\u001b[0m\u001b[0;34m\u001b[0m\u001b[0;34m\u001b[0m\u001b[0;34m\u001b[0m\u001b[0m\n\u001b[0;32m--> 802\u001b[0;31m         \u001b[0mkfilter\u001b[0m\u001b[0;34m(\u001b[0m\u001b[0;34m)\u001b[0m\u001b[0;34m\u001b[0m\u001b[0;34m\u001b[0m\u001b[0m\n\u001b[0m\u001b[1;32m    803\u001b[0m \u001b[0;34m\u001b[0m\u001b[0m\n\u001b[1;32m    804\u001b[0m         \u001b[0;32mreturn\u001b[0m \u001b[0mkfilter\u001b[0m\u001b[0;34m\u001b[0m\u001b[0;34m\u001b[0m\u001b[0m\n",
      "\u001b[0;32mstatsmodels/tsa/statespace/_kalman_filter.pyx\u001b[0m in \u001b[0;36mstatsmodels.tsa.statespace._kalman_filter.dKalmanFilter.__call__\u001b[0;34m()\u001b[0m\n",
      "\u001b[0;32mstatsmodels/tsa/statespace/_kalman_filter.pyx\u001b[0m in \u001b[0;36mstatsmodels.tsa.statespace._kalman_filter.dKalmanFilter.__next__\u001b[0;34m()\u001b[0m\n",
      "\u001b[0;32mstatsmodels/tsa/statespace/_filters/_inversions.pyx\u001b[0m in \u001b[0;36mstatsmodels.tsa.statespace._filters._inversions.dinverse_univariate\u001b[0;34m()\u001b[0m\n",
      "\u001b[0;31mLinAlgError\u001b[0m: Non-positive-definite forecast error covariance matrix encountered at period 58"
     ]
    }
   ],
   "source": [
    "%%time\n",
    "results = []\n",
    "best_aic = float(\"inf\")\n",
    "warnings.filterwarnings('ignore')\n",
    "\n",
    "for param in parameters_list:\n",
    "    #try except нужен, потому что на некоторых наборах параметров модель не обучается\n",
    "    try:\n",
    "        model=sm.tsa.statespace.SARIMAX(df.m_box, order=(param[0], d, param[1]), \n",
    "                                        seasonal_order=(param[2], D, param[3], 52)).fit(disp=-1)\n",
    "    #выводим параметры, на которых модель не обучается и переходим к следующему набору\n",
    "    except ValueError:\n",
    "        print('wrong parameters:', param)\n",
    "        continue\n",
    "    aic = model.aic\n",
    "    #сохраняем лучшую модель, aic, параметры\n",
    "    if aic < best_aic:\n",
    "        best_model = model\n",
    "        best_aic = aic\n",
    "        best_param = param\n",
    "    results.append([param, model.aic])\n",
    "    \n",
    "warnings.filterwarnings('default')"
   ]
  },
  {
   "cell_type": "code",
   "execution_count": null,
   "metadata": {},
   "outputs": [],
   "source": []
  },
  {
   "cell_type": "code",
   "execution_count": null,
   "metadata": {},
   "outputs": [],
   "source": []
  },
  {
   "cell_type": "code",
   "execution_count": null,
   "metadata": {},
   "outputs": [],
   "source": []
  },
  {
   "cell_type": "code",
   "execution_count": null,
   "metadata": {},
   "outputs": [],
   "source": [
    "import matplotlib.pyplot as plt\n",
    "plt.figure(figsize=(15,5))\n",
    "for group in groups:\n",
    "    plt.title('Цена Металлолома, внутр рынок')\n",
    "    plt.plot(df[df.name==group]['time'],df[df.name==group]['price'])\n",
    "            \n",
    "plt.show()"
   ]
  },
  {
   "cell_type": "code",
   "execution_count": null,
   "metadata": {},
   "outputs": [],
   "source": []
  },
  {
   "cell_type": "code",
   "execution_count": null,
   "metadata": {},
   "outputs": [],
   "source": [
    "\n"
   ]
  },
  {
   "cell_type": "code",
   "execution_count": null,
   "metadata": {},
   "outputs": [],
   "source": []
  },
  {
   "cell_type": "code",
   "execution_count": null,
   "metadata": {},
   "outputs": [],
   "source": [
    "plt.figure(figsize=(20,5))\n",
    "for group in groups_vnesh:\n",
    "    plt.title('Цена Металлолома, внешний рынок')\n",
    "    plt.plot(vnesh_rinok[vnesh_rinok.name==group]['time'],vnesh_rinok[vnesh_rinok.name==group]['price'], label=group)\n",
    "    plt.legend(loc=\"best\")\n",
    "plt.show()\n",
    "plt.figure(figsize=(20,5))\n",
    "for group in groups[:-3]:\n",
    "    plt.title('Цена Металлолома, внутр рынок')\n",
    "    plt.plot(df[df.name==group]['time'],df[df.name==group]['price'], label=group)\n",
    "    plt.legend(loc=\"best\")\n",
    "plt.show()"
   ]
  },
  {
   "cell_type": "code",
   "execution_count": 25,
   "metadata": {},
   "outputs": [],
   "source": [
    "from tsfresh import extract_features, extract_relevant_features, select_features\n",
    "from tsfresh.utilities.dataframe_functions import impute\n",
    "from tsfresh.feature_extraction import ComprehensiveFCParameters\n",
    "from sklearn.ensemble import AdaBoostRegressor\n",
    "\n",
    "\n",
    "# Fix needed to pandas datareader\n",
    "pd.core.common.is_list_like = pd.api.types.is_list_like\n",
    "import pandas_datareader.data as web\n",
    "import datetime\n",
    "\n",
    "import warnings\n",
    "warnings.filterwarnings('ignore')\n",
    "\n",
    "from tqdm import tqdm\n"
   ]
  },
  {
   "cell_type": "code",
   "execution_count": 11,
   "metadata": {},
   "outputs": [],
   "source": [
    "df_shift, y = make_forecasting_frame(df[\"Median\"], kind=\"price\", max_timeshift=52, rolling_direction=1)"
   ]
  },
  {
   "cell_type": "code",
   "execution_count": 12,
   "metadata": {},
   "outputs": [
    {
     "data": {
      "text/html": [
       "<div>\n",
       "<style scoped>\n",
       "    .dataframe tbody tr th:only-of-type {\n",
       "        vertical-align: middle;\n",
       "    }\n",
       "\n",
       "    .dataframe tbody tr th {\n",
       "        vertical-align: top;\n",
       "    }\n",
       "\n",
       "    .dataframe thead th {\n",
       "        text-align: right;\n",
       "    }\n",
       "</style>\n",
       "<table border=\"1\" class=\"dataframe\">\n",
       "  <thead>\n",
       "    <tr style=\"text-align: right;\">\n",
       "      <th></th>\n",
       "      <th>time</th>\n",
       "      <th>value</th>\n",
       "      <th>id</th>\n",
       "      <th>kind</th>\n",
       "    </tr>\n",
       "  </thead>\n",
       "  <tbody>\n",
       "    <tr>\n",
       "      <th>16728</th>\n",
       "      <td>0.0</td>\n",
       "      <td>8440.0</td>\n",
       "      <td>1</td>\n",
       "      <td>price</td>\n",
       "    </tr>\n",
       "    <tr>\n",
       "      <th>16375</th>\n",
       "      <td>0.0</td>\n",
       "      <td>8440.0</td>\n",
       "      <td>2</td>\n",
       "      <td>price</td>\n",
       "    </tr>\n",
       "    <tr>\n",
       "      <th>16729</th>\n",
       "      <td>1.0</td>\n",
       "      <td>8305.0</td>\n",
       "      <td>2</td>\n",
       "      <td>price</td>\n",
       "    </tr>\n",
       "    <tr>\n",
       "      <th>16023</th>\n",
       "      <td>0.0</td>\n",
       "      <td>8440.0</td>\n",
       "      <td>3</td>\n",
       "      <td>price</td>\n",
       "    </tr>\n",
       "    <tr>\n",
       "      <th>16376</th>\n",
       "      <td>1.0</td>\n",
       "      <td>8305.0</td>\n",
       "      <td>3</td>\n",
       "      <td>price</td>\n",
       "    </tr>\n",
       "  </tbody>\n",
       "</table>\n",
       "</div>"
      ],
      "text/plain": [
       "       time   value  id   kind\n",
       "16728   0.0  8440.0   1  price\n",
       "16375   0.0  8440.0   2  price\n",
       "16729   1.0  8305.0   2  price\n",
       "16023   0.0  8440.0   3  price\n",
       "16376   1.0  8305.0   3  price"
      ]
     },
     "execution_count": 12,
     "metadata": {},
     "output_type": "execute_result"
    }
   ],
   "source": [
    "df_shift.head()"
   ]
  },
  {
   "cell_type": "code",
   "execution_count": 24,
   "metadata": {},
   "outputs": [
    {
     "data": {
      "text/plain": [
       "(355, 2)"
      ]
     },
     "execution_count": 24,
     "metadata": {},
     "output_type": "execute_result"
    }
   ],
   "source": [
    "df.shape"
   ]
  },
  {
   "cell_type": "code",
   "execution_count": 13,
   "metadata": {},
   "outputs": [
    {
     "name": "stderr",
     "output_type": "stream",
     "text": [
      "WARNING:tsfresh.utilities.dataframe_functions:The columns ['value__fft_coefficient__coeff_27__attr_\"abs\"'\n",
      " 'value__fft_coefficient__coeff_27__attr_\"angle\"'\n",
      " 'value__fft_coefficient__coeff_27__attr_\"imag\"'\n",
      " 'value__fft_coefficient__coeff_27__attr_\"real\"'\n",
      " 'value__fft_coefficient__coeff_28__attr_\"abs\"'\n",
      " 'value__fft_coefficient__coeff_28__attr_\"angle\"'\n",
      " 'value__fft_coefficient__coeff_28__attr_\"imag\"'\n",
      " 'value__fft_coefficient__coeff_28__attr_\"real\"'\n",
      " 'value__fft_coefficient__coeff_29__attr_\"abs\"'\n",
      " 'value__fft_coefficient__coeff_29__attr_\"angle\"'\n",
      " 'value__fft_coefficient__coeff_29__attr_\"imag\"'\n",
      " 'value__fft_coefficient__coeff_29__attr_\"real\"'\n",
      " 'value__fft_coefficient__coeff_30__attr_\"abs\"'\n",
      " 'value__fft_coefficient__coeff_30__attr_\"angle\"'\n",
      " 'value__fft_coefficient__coeff_30__attr_\"imag\"'\n",
      " 'value__fft_coefficient__coeff_30__attr_\"real\"'\n",
      " 'value__fft_coefficient__coeff_31__attr_\"abs\"'\n",
      " 'value__fft_coefficient__coeff_31__attr_\"angle\"'\n",
      " 'value__fft_coefficient__coeff_31__attr_\"imag\"'\n",
      " 'value__fft_coefficient__coeff_31__attr_\"real\"'\n",
      " 'value__fft_coefficient__coeff_32__attr_\"abs\"'\n",
      " 'value__fft_coefficient__coeff_32__attr_\"angle\"'\n",
      " 'value__fft_coefficient__coeff_32__attr_\"imag\"'\n",
      " 'value__fft_coefficient__coeff_32__attr_\"real\"'\n",
      " 'value__fft_coefficient__coeff_33__attr_\"abs\"'\n",
      " 'value__fft_coefficient__coeff_33__attr_\"angle\"'\n",
      " 'value__fft_coefficient__coeff_33__attr_\"imag\"'\n",
      " 'value__fft_coefficient__coeff_33__attr_\"real\"'\n",
      " 'value__fft_coefficient__coeff_34__attr_\"abs\"'\n",
      " 'value__fft_coefficient__coeff_34__attr_\"angle\"'\n",
      " 'value__fft_coefficient__coeff_34__attr_\"imag\"'\n",
      " 'value__fft_coefficient__coeff_34__attr_\"real\"'\n",
      " 'value__fft_coefficient__coeff_35__attr_\"abs\"'\n",
      " 'value__fft_coefficient__coeff_35__attr_\"angle\"'\n",
      " 'value__fft_coefficient__coeff_35__attr_\"imag\"'\n",
      " 'value__fft_coefficient__coeff_35__attr_\"real\"'\n",
      " 'value__fft_coefficient__coeff_36__attr_\"abs\"'\n",
      " 'value__fft_coefficient__coeff_36__attr_\"angle\"'\n",
      " 'value__fft_coefficient__coeff_36__attr_\"imag\"'\n",
      " 'value__fft_coefficient__coeff_36__attr_\"real\"'\n",
      " 'value__fft_coefficient__coeff_37__attr_\"abs\"'\n",
      " 'value__fft_coefficient__coeff_37__attr_\"angle\"'\n",
      " 'value__fft_coefficient__coeff_37__attr_\"imag\"'\n",
      " 'value__fft_coefficient__coeff_37__attr_\"real\"'\n",
      " 'value__fft_coefficient__coeff_38__attr_\"abs\"'\n",
      " 'value__fft_coefficient__coeff_38__attr_\"angle\"'\n",
      " 'value__fft_coefficient__coeff_38__attr_\"imag\"'\n",
      " 'value__fft_coefficient__coeff_38__attr_\"real\"'\n",
      " 'value__fft_coefficient__coeff_39__attr_\"abs\"'\n",
      " 'value__fft_coefficient__coeff_39__attr_\"angle\"'\n",
      " 'value__fft_coefficient__coeff_39__attr_\"imag\"'\n",
      " 'value__fft_coefficient__coeff_39__attr_\"real\"'\n",
      " 'value__fft_coefficient__coeff_40__attr_\"abs\"'\n",
      " 'value__fft_coefficient__coeff_40__attr_\"angle\"'\n",
      " 'value__fft_coefficient__coeff_40__attr_\"imag\"'\n",
      " 'value__fft_coefficient__coeff_40__attr_\"real\"'\n",
      " 'value__fft_coefficient__coeff_41__attr_\"abs\"'\n",
      " 'value__fft_coefficient__coeff_41__attr_\"angle\"'\n",
      " 'value__fft_coefficient__coeff_41__attr_\"imag\"'\n",
      " 'value__fft_coefficient__coeff_41__attr_\"real\"'\n",
      " 'value__fft_coefficient__coeff_42__attr_\"abs\"'\n",
      " 'value__fft_coefficient__coeff_42__attr_\"angle\"'\n",
      " 'value__fft_coefficient__coeff_42__attr_\"imag\"'\n",
      " 'value__fft_coefficient__coeff_42__attr_\"real\"'\n",
      " 'value__fft_coefficient__coeff_43__attr_\"abs\"'\n",
      " 'value__fft_coefficient__coeff_43__attr_\"angle\"'\n",
      " 'value__fft_coefficient__coeff_43__attr_\"imag\"'\n",
      " 'value__fft_coefficient__coeff_43__attr_\"real\"'\n",
      " 'value__fft_coefficient__coeff_44__attr_\"abs\"'\n",
      " 'value__fft_coefficient__coeff_44__attr_\"angle\"'\n",
      " 'value__fft_coefficient__coeff_44__attr_\"imag\"'\n",
      " 'value__fft_coefficient__coeff_44__attr_\"real\"'\n",
      " 'value__fft_coefficient__coeff_45__attr_\"abs\"'\n",
      " 'value__fft_coefficient__coeff_45__attr_\"angle\"'\n",
      " 'value__fft_coefficient__coeff_45__attr_\"imag\"'\n",
      " 'value__fft_coefficient__coeff_45__attr_\"real\"'\n",
      " 'value__fft_coefficient__coeff_46__attr_\"abs\"'\n",
      " 'value__fft_coefficient__coeff_46__attr_\"angle\"'\n",
      " 'value__fft_coefficient__coeff_46__attr_\"imag\"'\n",
      " 'value__fft_coefficient__coeff_46__attr_\"real\"'\n",
      " 'value__fft_coefficient__coeff_47__attr_\"abs\"'\n",
      " 'value__fft_coefficient__coeff_47__attr_\"angle\"'\n",
      " 'value__fft_coefficient__coeff_47__attr_\"imag\"'\n",
      " 'value__fft_coefficient__coeff_47__attr_\"real\"'\n",
      " 'value__fft_coefficient__coeff_48__attr_\"abs\"'\n",
      " 'value__fft_coefficient__coeff_48__attr_\"angle\"'\n",
      " 'value__fft_coefficient__coeff_48__attr_\"imag\"'\n",
      " 'value__fft_coefficient__coeff_48__attr_\"real\"'\n",
      " 'value__fft_coefficient__coeff_49__attr_\"abs\"'\n",
      " 'value__fft_coefficient__coeff_49__attr_\"angle\"'\n",
      " 'value__fft_coefficient__coeff_49__attr_\"imag\"'\n",
      " 'value__fft_coefficient__coeff_49__attr_\"real\"'\n",
      " 'value__fft_coefficient__coeff_50__attr_\"abs\"'\n",
      " 'value__fft_coefficient__coeff_50__attr_\"angle\"'\n",
      " 'value__fft_coefficient__coeff_50__attr_\"imag\"'\n",
      " 'value__fft_coefficient__coeff_50__attr_\"real\"'\n",
      " 'value__fft_coefficient__coeff_51__attr_\"abs\"'\n",
      " 'value__fft_coefficient__coeff_51__attr_\"angle\"'\n",
      " 'value__fft_coefficient__coeff_51__attr_\"imag\"'\n",
      " 'value__fft_coefficient__coeff_51__attr_\"real\"'\n",
      " 'value__fft_coefficient__coeff_52__attr_\"abs\"'\n",
      " 'value__fft_coefficient__coeff_52__attr_\"angle\"'\n",
      " 'value__fft_coefficient__coeff_52__attr_\"imag\"'\n",
      " 'value__fft_coefficient__coeff_52__attr_\"real\"'\n",
      " 'value__fft_coefficient__coeff_53__attr_\"abs\"'\n",
      " 'value__fft_coefficient__coeff_53__attr_\"angle\"'\n",
      " 'value__fft_coefficient__coeff_53__attr_\"imag\"'\n",
      " 'value__fft_coefficient__coeff_53__attr_\"real\"'\n",
      " 'value__fft_coefficient__coeff_54__attr_\"abs\"'\n",
      " 'value__fft_coefficient__coeff_54__attr_\"angle\"'\n",
      " 'value__fft_coefficient__coeff_54__attr_\"imag\"'\n",
      " 'value__fft_coefficient__coeff_54__attr_\"real\"'\n",
      " 'value__fft_coefficient__coeff_55__attr_\"abs\"'\n",
      " 'value__fft_coefficient__coeff_55__attr_\"angle\"'\n",
      " 'value__fft_coefficient__coeff_55__attr_\"imag\"'\n",
      " 'value__fft_coefficient__coeff_55__attr_\"real\"'\n",
      " 'value__fft_coefficient__coeff_56__attr_\"abs\"'\n",
      " 'value__fft_coefficient__coeff_56__attr_\"angle\"'\n",
      " 'value__fft_coefficient__coeff_56__attr_\"imag\"'\n",
      " 'value__fft_coefficient__coeff_56__attr_\"real\"'\n",
      " 'value__fft_coefficient__coeff_57__attr_\"abs\"'\n",
      " 'value__fft_coefficient__coeff_57__attr_\"angle\"'\n",
      " 'value__fft_coefficient__coeff_57__attr_\"imag\"'\n",
      " 'value__fft_coefficient__coeff_57__attr_\"real\"'\n",
      " 'value__fft_coefficient__coeff_58__attr_\"abs\"'\n",
      " 'value__fft_coefficient__coeff_58__attr_\"angle\"'\n",
      " 'value__fft_coefficient__coeff_58__attr_\"imag\"'\n",
      " 'value__fft_coefficient__coeff_58__attr_\"real\"'\n",
      " 'value__fft_coefficient__coeff_59__attr_\"abs\"'\n",
      " 'value__fft_coefficient__coeff_59__attr_\"angle\"'\n",
      " 'value__fft_coefficient__coeff_59__attr_\"imag\"'\n",
      " 'value__fft_coefficient__coeff_59__attr_\"real\"'\n",
      " 'value__fft_coefficient__coeff_60__attr_\"abs\"'\n",
      " 'value__fft_coefficient__coeff_60__attr_\"angle\"'\n",
      " 'value__fft_coefficient__coeff_60__attr_\"imag\"'\n",
      " 'value__fft_coefficient__coeff_60__attr_\"real\"'\n",
      " 'value__fft_coefficient__coeff_61__attr_\"abs\"'\n",
      " 'value__fft_coefficient__coeff_61__attr_\"angle\"'\n",
      " 'value__fft_coefficient__coeff_61__attr_\"imag\"'\n",
      " 'value__fft_coefficient__coeff_61__attr_\"real\"'\n",
      " 'value__fft_coefficient__coeff_62__attr_\"abs\"'\n",
      " 'value__fft_coefficient__coeff_62__attr_\"angle\"'\n",
      " 'value__fft_coefficient__coeff_62__attr_\"imag\"'\n",
      " 'value__fft_coefficient__coeff_62__attr_\"real\"'\n",
      " 'value__fft_coefficient__coeff_63__attr_\"abs\"'\n",
      " 'value__fft_coefficient__coeff_63__attr_\"angle\"'\n",
      " 'value__fft_coefficient__coeff_63__attr_\"imag\"'\n",
      " 'value__fft_coefficient__coeff_63__attr_\"real\"'\n",
      " 'value__fft_coefficient__coeff_64__attr_\"abs\"'\n",
      " 'value__fft_coefficient__coeff_64__attr_\"angle\"'\n",
      " 'value__fft_coefficient__coeff_64__attr_\"imag\"'\n",
      " 'value__fft_coefficient__coeff_64__attr_\"real\"'\n",
      " 'value__fft_coefficient__coeff_65__attr_\"abs\"'\n",
      " 'value__fft_coefficient__coeff_65__attr_\"angle\"'\n",
      " 'value__fft_coefficient__coeff_65__attr_\"imag\"'\n",
      " 'value__fft_coefficient__coeff_65__attr_\"real\"'\n",
      " 'value__fft_coefficient__coeff_66__attr_\"abs\"'\n",
      " 'value__fft_coefficient__coeff_66__attr_\"angle\"'\n",
      " 'value__fft_coefficient__coeff_66__attr_\"imag\"'\n",
      " 'value__fft_coefficient__coeff_66__attr_\"real\"'\n",
      " 'value__fft_coefficient__coeff_67__attr_\"abs\"'\n",
      " 'value__fft_coefficient__coeff_67__attr_\"angle\"'\n",
      " 'value__fft_coefficient__coeff_67__attr_\"imag\"'\n",
      " 'value__fft_coefficient__coeff_67__attr_\"real\"'\n",
      " 'value__fft_coefficient__coeff_68__attr_\"abs\"'\n",
      " 'value__fft_coefficient__coeff_68__attr_\"angle\"'\n",
      " 'value__fft_coefficient__coeff_68__attr_\"imag\"'\n",
      " 'value__fft_coefficient__coeff_68__attr_\"real\"'\n",
      " 'value__fft_coefficient__coeff_69__attr_\"abs\"'\n",
      " 'value__fft_coefficient__coeff_69__attr_\"angle\"'\n",
      " 'value__fft_coefficient__coeff_69__attr_\"imag\"'\n",
      " 'value__fft_coefficient__coeff_69__attr_\"real\"'\n",
      " 'value__fft_coefficient__coeff_70__attr_\"abs\"'\n",
      " 'value__fft_coefficient__coeff_70__attr_\"angle\"'\n",
      " 'value__fft_coefficient__coeff_70__attr_\"imag\"'\n",
      " 'value__fft_coefficient__coeff_70__attr_\"real\"'\n",
      " 'value__fft_coefficient__coeff_71__attr_\"abs\"'\n",
      " 'value__fft_coefficient__coeff_71__attr_\"angle\"'\n",
      " 'value__fft_coefficient__coeff_71__attr_\"imag\"'\n",
      " 'value__fft_coefficient__coeff_71__attr_\"real\"'\n",
      " 'value__fft_coefficient__coeff_72__attr_\"abs\"'\n",
      " 'value__fft_coefficient__coeff_72__attr_\"angle\"'\n",
      " 'value__fft_coefficient__coeff_72__attr_\"imag\"'\n",
      " 'value__fft_coefficient__coeff_72__attr_\"real\"'\n",
      " 'value__fft_coefficient__coeff_73__attr_\"abs\"'\n",
      " 'value__fft_coefficient__coeff_73__attr_\"angle\"'\n",
      " 'value__fft_coefficient__coeff_73__attr_\"imag\"'\n",
      " 'value__fft_coefficient__coeff_73__attr_\"real\"'\n",
      " 'value__fft_coefficient__coeff_74__attr_\"abs\"'\n",
      " 'value__fft_coefficient__coeff_74__attr_\"angle\"'\n",
      " 'value__fft_coefficient__coeff_74__attr_\"imag\"'\n",
      " 'value__fft_coefficient__coeff_74__attr_\"real\"'\n",
      " 'value__fft_coefficient__coeff_75__attr_\"abs\"'\n",
      " 'value__fft_coefficient__coeff_75__attr_\"angle\"'\n",
      " 'value__fft_coefficient__coeff_75__attr_\"imag\"'\n",
      " 'value__fft_coefficient__coeff_75__attr_\"real\"'\n",
      " 'value__fft_coefficient__coeff_76__attr_\"abs\"'\n",
      " 'value__fft_coefficient__coeff_76__attr_\"angle\"'\n",
      " 'value__fft_coefficient__coeff_76__attr_\"imag\"'\n",
      " 'value__fft_coefficient__coeff_76__attr_\"real\"'\n",
      " 'value__fft_coefficient__coeff_77__attr_\"abs\"'\n",
      " 'value__fft_coefficient__coeff_77__attr_\"angle\"'\n",
      " 'value__fft_coefficient__coeff_77__attr_\"imag\"'\n",
      " 'value__fft_coefficient__coeff_77__attr_\"real\"'\n",
      " 'value__fft_coefficient__coeff_78__attr_\"abs\"'\n",
      " 'value__fft_coefficient__coeff_78__attr_\"angle\"'\n",
      " 'value__fft_coefficient__coeff_78__attr_\"imag\"'\n",
      " 'value__fft_coefficient__coeff_78__attr_\"real\"'\n",
      " 'value__fft_coefficient__coeff_79__attr_\"abs\"'\n",
      " 'value__fft_coefficient__coeff_79__attr_\"angle\"'\n",
      " 'value__fft_coefficient__coeff_79__attr_\"imag\"'\n",
      " 'value__fft_coefficient__coeff_79__attr_\"real\"'\n",
      " 'value__fft_coefficient__coeff_80__attr_\"abs\"'\n",
      " 'value__fft_coefficient__coeff_80__attr_\"angle\"'\n",
      " 'value__fft_coefficient__coeff_80__attr_\"imag\"'\n",
      " 'value__fft_coefficient__coeff_80__attr_\"real\"'\n",
      " 'value__fft_coefficient__coeff_81__attr_\"abs\"'\n",
      " 'value__fft_coefficient__coeff_81__attr_\"angle\"'\n",
      " 'value__fft_coefficient__coeff_81__attr_\"imag\"'\n",
      " 'value__fft_coefficient__coeff_81__attr_\"real\"'\n",
      " 'value__fft_coefficient__coeff_82__attr_\"abs\"'\n",
      " 'value__fft_coefficient__coeff_82__attr_\"angle\"'\n",
      " 'value__fft_coefficient__coeff_82__attr_\"imag\"'\n",
      " 'value__fft_coefficient__coeff_82__attr_\"real\"'\n",
      " 'value__fft_coefficient__coeff_83__attr_\"abs\"'\n",
      " 'value__fft_coefficient__coeff_83__attr_\"angle\"'\n",
      " 'value__fft_coefficient__coeff_83__attr_\"imag\"'\n",
      " 'value__fft_coefficient__coeff_83__attr_\"real\"'\n",
      " 'value__fft_coefficient__coeff_84__attr_\"abs\"'\n",
      " 'value__fft_coefficient__coeff_84__attr_\"angle\"'\n",
      " 'value__fft_coefficient__coeff_84__attr_\"imag\"'\n",
      " 'value__fft_coefficient__coeff_84__attr_\"real\"'\n",
      " 'value__fft_coefficient__coeff_85__attr_\"abs\"'\n",
      " 'value__fft_coefficient__coeff_85__attr_\"angle\"'\n",
      " 'value__fft_coefficient__coeff_85__attr_\"imag\"'\n",
      " 'value__fft_coefficient__coeff_85__attr_\"real\"'\n",
      " 'value__fft_coefficient__coeff_86__attr_\"abs\"'\n",
      " 'value__fft_coefficient__coeff_86__attr_\"angle\"'\n",
      " 'value__fft_coefficient__coeff_86__attr_\"imag\"'\n",
      " 'value__fft_coefficient__coeff_86__attr_\"real\"'\n",
      " 'value__fft_coefficient__coeff_87__attr_\"abs\"'\n",
      " 'value__fft_coefficient__coeff_87__attr_\"angle\"'\n",
      " 'value__fft_coefficient__coeff_87__attr_\"imag\"'\n",
      " 'value__fft_coefficient__coeff_87__attr_\"real\"'\n",
      " 'value__fft_coefficient__coeff_88__attr_\"abs\"'\n",
      " 'value__fft_coefficient__coeff_88__attr_\"angle\"'\n",
      " 'value__fft_coefficient__coeff_88__attr_\"imag\"'\n",
      " 'value__fft_coefficient__coeff_88__attr_\"real\"'\n",
      " 'value__fft_coefficient__coeff_89__attr_\"abs\"'\n",
      " 'value__fft_coefficient__coeff_89__attr_\"angle\"'\n",
      " 'value__fft_coefficient__coeff_89__attr_\"imag\"'\n",
      " 'value__fft_coefficient__coeff_89__attr_\"real\"'\n",
      " 'value__fft_coefficient__coeff_90__attr_\"abs\"'\n",
      " 'value__fft_coefficient__coeff_90__attr_\"angle\"'\n",
      " 'value__fft_coefficient__coeff_90__attr_\"imag\"'\n",
      " 'value__fft_coefficient__coeff_90__attr_\"real\"'\n",
      " 'value__fft_coefficient__coeff_91__attr_\"abs\"'\n",
      " 'value__fft_coefficient__coeff_91__attr_\"angle\"'\n",
      " 'value__fft_coefficient__coeff_91__attr_\"imag\"'\n",
      " 'value__fft_coefficient__coeff_91__attr_\"real\"'\n",
      " 'value__fft_coefficient__coeff_92__attr_\"abs\"'\n",
      " 'value__fft_coefficient__coeff_92__attr_\"angle\"'\n",
      " 'value__fft_coefficient__coeff_92__attr_\"imag\"'\n",
      " 'value__fft_coefficient__coeff_92__attr_\"real\"'\n",
      " 'value__fft_coefficient__coeff_93__attr_\"abs\"'\n",
      " 'value__fft_coefficient__coeff_93__attr_\"angle\"'\n",
      " 'value__fft_coefficient__coeff_93__attr_\"imag\"'\n",
      " 'value__fft_coefficient__coeff_93__attr_\"real\"'\n",
      " 'value__fft_coefficient__coeff_94__attr_\"abs\"'\n",
      " 'value__fft_coefficient__coeff_94__attr_\"angle\"'\n",
      " 'value__fft_coefficient__coeff_94__attr_\"imag\"'\n",
      " 'value__fft_coefficient__coeff_94__attr_\"real\"'\n",
      " 'value__fft_coefficient__coeff_95__attr_\"abs\"'\n",
      " 'value__fft_coefficient__coeff_95__attr_\"angle\"'\n",
      " 'value__fft_coefficient__coeff_95__attr_\"imag\"'\n",
      " 'value__fft_coefficient__coeff_95__attr_\"real\"'\n",
      " 'value__fft_coefficient__coeff_96__attr_\"abs\"'\n",
      " 'value__fft_coefficient__coeff_96__attr_\"angle\"'\n",
      " 'value__fft_coefficient__coeff_96__attr_\"imag\"'\n",
      " 'value__fft_coefficient__coeff_96__attr_\"real\"'\n",
      " 'value__fft_coefficient__coeff_97__attr_\"abs\"'\n",
      " 'value__fft_coefficient__coeff_97__attr_\"angle\"'\n",
      " 'value__fft_coefficient__coeff_97__attr_\"imag\"'\n",
      " 'value__fft_coefficient__coeff_97__attr_\"real\"'\n",
      " 'value__fft_coefficient__coeff_98__attr_\"abs\"'\n",
      " 'value__fft_coefficient__coeff_98__attr_\"angle\"'\n",
      " 'value__fft_coefficient__coeff_98__attr_\"imag\"'\n",
      " 'value__fft_coefficient__coeff_98__attr_\"real\"'\n",
      " 'value__fft_coefficient__coeff_99__attr_\"abs\"'\n",
      " 'value__fft_coefficient__coeff_99__attr_\"angle\"'\n",
      " 'value__fft_coefficient__coeff_99__attr_\"imag\"'\n",
      " 'value__fft_coefficient__coeff_99__attr_\"real\"'] did not have any finite values. Filling with zeros.\n"
     ]
    }
   ],
   "source": [
    "%%capture\n",
    "X = extract_features(df_shift, column_id=\"id\", column_sort=\"time\", column_value=\"value\", impute_function=impute,\n",
    "                     show_warnings=False)"
   ]
  },
  {
   "cell_type": "code",
   "execution_count": 14,
   "metadata": {},
   "outputs": [
    {
     "name": "stdout",
     "output_type": "stream",
     "text": [
      "(354, 794)\n",
      "(354, 429)\n"
     ]
    }
   ],
   "source": [
    "# drop constant features\n",
    "print(X.shape)\n",
    "X = X.loc[:, X.apply(pd.Series.nunique) != 1] \n",
    "print(X.shape)"
   ]
  },
  {
   "cell_type": "code",
   "execution_count": 15,
   "metadata": {},
   "outputs": [
    {
     "data": {
      "text/html": [
       "<div>\n",
       "<style scoped>\n",
       "    .dataframe tbody tr th:only-of-type {\n",
       "        vertical-align: middle;\n",
       "    }\n",
       "\n",
       "    .dataframe tbody tr th {\n",
       "        vertical-align: top;\n",
       "    }\n",
       "\n",
       "    .dataframe thead th {\n",
       "        text-align: right;\n",
       "    }\n",
       "</style>\n",
       "<table border=\"1\" class=\"dataframe\">\n",
       "  <thead>\n",
       "    <tr style=\"text-align: right;\">\n",
       "      <th>variable</th>\n",
       "      <th>value__abs_energy</th>\n",
       "      <th>value__absolute_sum_of_changes</th>\n",
       "      <th>value__agg_autocorrelation__f_agg_\"mean\"__maxlag_40</th>\n",
       "      <th>value__agg_autocorrelation__f_agg_\"median\"__maxlag_40</th>\n",
       "      <th>value__agg_autocorrelation__f_agg_\"var\"__maxlag_40</th>\n",
       "      <th>...</th>\n",
       "      <th>value__time_reversal_asymmetry_statistic__lag_2</th>\n",
       "      <th>value__time_reversal_asymmetry_statistic__lag_3</th>\n",
       "      <th>value__variance</th>\n",
       "      <th>value__variance_larger_than_standard_deviation</th>\n",
       "      <th>feature_last_value</th>\n",
       "    </tr>\n",
       "    <tr>\n",
       "      <th>id</th>\n",
       "      <th></th>\n",
       "      <th></th>\n",
       "      <th></th>\n",
       "      <th></th>\n",
       "      <th></th>\n",
       "      <th></th>\n",
       "      <th></th>\n",
       "      <th></th>\n",
       "      <th></th>\n",
       "      <th></th>\n",
       "      <th></th>\n",
       "    </tr>\n",
       "  </thead>\n",
       "  <tbody>\n",
       "    <tr>\n",
       "      <th>2</th>\n",
       "      <td>140206625.0</td>\n",
       "      <td>135.0</td>\n",
       "      <td>-1.000000</td>\n",
       "      <td>-1.000000</td>\n",
       "      <td>0.000000</td>\n",
       "      <td>...</td>\n",
       "      <td>0.000000e+00</td>\n",
       "      <td>0.0</td>\n",
       "      <td>4556.250000</td>\n",
       "      <td>1.0</td>\n",
       "      <td>8305.0</td>\n",
       "    </tr>\n",
       "    <tr>\n",
       "      <th>3</th>\n",
       "      <td>209678850.0</td>\n",
       "      <td>165.0</td>\n",
       "      <td>-0.524254</td>\n",
       "      <td>-0.524254</td>\n",
       "      <td>0.005294</td>\n",
       "      <td>...</td>\n",
       "      <td>0.000000e+00</td>\n",
       "      <td>0.0</td>\n",
       "      <td>3350.000000</td>\n",
       "      <td>1.0</td>\n",
       "      <td>8335.0</td>\n",
       "    </tr>\n",
       "    <tr>\n",
       "      <th>4</th>\n",
       "      <td>279819475.0</td>\n",
       "      <td>205.0</td>\n",
       "      <td>-0.209650</td>\n",
       "      <td>-0.406320</td>\n",
       "      <td>0.152602</td>\n",
       "      <td>...</td>\n",
       "      <td>0.000000e+00</td>\n",
       "      <td>0.0</td>\n",
       "      <td>2554.687500</td>\n",
       "      <td>1.0</td>\n",
       "      <td>8375.0</td>\n",
       "    </tr>\n",
       "    <tr>\n",
       "      <th>5</th>\n",
       "      <td>345672700.0</td>\n",
       "      <td>465.0</td>\n",
       "      <td>-0.503909</td>\n",
       "      <td>-0.156533</td>\n",
       "      <td>0.904281</td>\n",
       "      <td>...</td>\n",
       "      <td>-4.484543e+10</td>\n",
       "      <td>0.0</td>\n",
       "      <td>11944.000000</td>\n",
       "      <td>1.0</td>\n",
       "      <td>8115.0</td>\n",
       "    </tr>\n",
       "    <tr>\n",
       "      <th>6</th>\n",
       "      <td>418007725.0</td>\n",
       "      <td>855.0</td>\n",
       "      <td>-0.051301</td>\n",
       "      <td>0.082089</td>\n",
       "      <td>0.464291</td>\n",
       "      <td>...</td>\n",
       "      <td>-8.344338e+09</td>\n",
       "      <td>0.0</td>\n",
       "      <td>15020.138889</td>\n",
       "      <td>1.0</td>\n",
       "      <td>8505.0</td>\n",
       "    </tr>\n",
       "  </tbody>\n",
       "</table>\n",
       "<p>5 rows × 430 columns</p>\n",
       "</div>"
      ],
      "text/plain": [
       "variable  value__abs_energy  value__absolute_sum_of_changes  \\\n",
       "id                                                            \n",
       "2               140206625.0                           135.0   \n",
       "3               209678850.0                           165.0   \n",
       "4               279819475.0                           205.0   \n",
       "5               345672700.0                           465.0   \n",
       "6               418007725.0                           855.0   \n",
       "\n",
       "variable  value__agg_autocorrelation__f_agg_\"mean\"__maxlag_40  \\\n",
       "id                                                              \n",
       "2                                                 -1.000000     \n",
       "3                                                 -0.524254     \n",
       "4                                                 -0.209650     \n",
       "5                                                 -0.503909     \n",
       "6                                                 -0.051301     \n",
       "\n",
       "variable  value__agg_autocorrelation__f_agg_\"median\"__maxlag_40  \\\n",
       "id                                                                \n",
       "2                                                 -1.000000       \n",
       "3                                                 -0.524254       \n",
       "4                                                 -0.406320       \n",
       "5                                                 -0.156533       \n",
       "6                                                  0.082089       \n",
       "\n",
       "variable  value__agg_autocorrelation__f_agg_\"var\"__maxlag_40  \\\n",
       "id                                                             \n",
       "2                                                  0.000000    \n",
       "3                                                  0.005294    \n",
       "4                                                  0.152602    \n",
       "5                                                  0.904281    \n",
       "6                                                  0.464291    \n",
       "\n",
       "variable         ...          value__time_reversal_asymmetry_statistic__lag_2  \\\n",
       "id               ...                                                            \n",
       "2                ...                                             0.000000e+00   \n",
       "3                ...                                             0.000000e+00   \n",
       "4                ...                                             0.000000e+00   \n",
       "5                ...                                            -4.484543e+10   \n",
       "6                ...                                            -8.344338e+09   \n",
       "\n",
       "variable  value__time_reversal_asymmetry_statistic__lag_3  value__variance  \\\n",
       "id                                                                           \n",
       "2                                                     0.0      4556.250000   \n",
       "3                                                     0.0      3350.000000   \n",
       "4                                                     0.0      2554.687500   \n",
       "5                                                     0.0     11944.000000   \n",
       "6                                                     0.0     15020.138889   \n",
       "\n",
       "variable  value__variance_larger_than_standard_deviation  feature_last_value  \n",
       "id                                                                            \n",
       "2                                                    1.0              8305.0  \n",
       "3                                                    1.0              8335.0  \n",
       "4                                                    1.0              8375.0  \n",
       "5                                                    1.0              8115.0  \n",
       "6                                                    1.0              8505.0  \n",
       "\n",
       "[5 rows x 430 columns]"
      ]
     },
     "execution_count": 15,
     "metadata": {},
     "output_type": "execute_result"
    }
   ],
   "source": [
    "# Add last value as feature\n",
    "X[\"feature_last_value\"] = y.shift(1)\n",
    "\n",
    "# Drop first line\n",
    "X = X.iloc[1:, ]\n",
    "y = y.iloc[1: ]\n",
    "\n",
    "X.head()"
   ]
  },
  {
   "cell_type": "code",
   "execution_count": 20,
   "metadata": {},
   "outputs": [
    {
     "name": "stderr",
     "output_type": "stream",
     "text": [
      "100%|██████████| 153/153 [00:22<00:00,  6.67it/s]\n"
     ]
    }
   ],
   "source": [
    "ada = AdaBoostRegressor(n_estimators=10)\n",
    "y_pred = [np.NaN] * len(y)\n",
    "\n",
    "isp = 200   # index of where to start the predictions\n",
    "assert isp > 0\n",
    "\n",
    "for i in tqdm(range(isp, len(y))):\n",
    "    \n",
    "    ada.fit(X.iloc[:i], y[:i])\n",
    "    y_pred[i] = ada.predict(X.iloc[i, :].values.reshape((1, -1)))[0]\n",
    "    \n",
    "y_pred = pd.Series(data=y_pred, index=y.index)"
   ]
  },
  {
   "cell_type": "code",
   "execution_count": 21,
   "metadata": {},
   "outputs": [
    {
     "data": {
      "text/html": [
       "<div>\n",
       "<style scoped>\n",
       "    .dataframe tbody tr th:only-of-type {\n",
       "        vertical-align: middle;\n",
       "    }\n",
       "\n",
       "    .dataframe tbody tr th {\n",
       "        vertical-align: top;\n",
       "    }\n",
       "\n",
       "    .dataframe thead th {\n",
       "        text-align: right;\n",
       "    }\n",
       "</style>\n",
       "<table border=\"1\" class=\"dataframe\">\n",
       "  <thead>\n",
       "    <tr style=\"text-align: right;\">\n",
       "      <th></th>\n",
       "      <th>pred</th>\n",
       "      <th>true</th>\n",
       "    </tr>\n",
       "  </thead>\n",
       "  <tbody>\n",
       "    <tr>\n",
       "      <th>1970-01-01 00:00:00.000000002</th>\n",
       "      <td>NaN</td>\n",
       "      <td>8335</td>\n",
       "    </tr>\n",
       "    <tr>\n",
       "      <th>1970-01-01 00:00:00.000000003</th>\n",
       "      <td>NaN</td>\n",
       "      <td>8375</td>\n",
       "    </tr>\n",
       "    <tr>\n",
       "      <th>1970-01-01 00:00:00.000000004</th>\n",
       "      <td>NaN</td>\n",
       "      <td>8115</td>\n",
       "    </tr>\n",
       "    <tr>\n",
       "      <th>1970-01-01 00:00:00.000000005</th>\n",
       "      <td>NaN</td>\n",
       "      <td>8505</td>\n",
       "    </tr>\n",
       "    <tr>\n",
       "      <th>1970-01-01 00:00:00.000000006</th>\n",
       "      <td>NaN</td>\n",
       "      <td>8485</td>\n",
       "    </tr>\n",
       "  </tbody>\n",
       "</table>\n",
       "</div>"
      ],
      "text/plain": [
       "                               pred  true\n",
       "1970-01-01 00:00:00.000000002   NaN  8335\n",
       "1970-01-01 00:00:00.000000003   NaN  8375\n",
       "1970-01-01 00:00:00.000000004   NaN  8115\n",
       "1970-01-01 00:00:00.000000005   NaN  8505\n",
       "1970-01-01 00:00:00.000000006   NaN  8485"
      ]
     },
     "execution_count": 21,
     "metadata": {},
     "output_type": "execute_result"
    }
   ],
   "source": [
    "# Dataframe of predictions and true values\n",
    "ys = pd.concat([y_pred, y], axis = 1).rename(columns = {0: 'pred', 'value': 'true'})\n",
    "\n",
    "# Convert index to a datetime\n",
    "ys.index = pd.to_datetime(ys.index)\n",
    "ys.head()"
   ]
  },
  {
   "cell_type": "code",
   "execution_count": 22,
   "metadata": {},
   "outputs": [
    {
     "data": {
      "image/png": "[encoded data removed]",
      "text/plain": [
       "<Figure size 1080x576 with 1 Axes>"
      ]
     },
     "metadata": {
      "needs_background": "light"
     },
     "output_type": "display_data"
    }
   ],
   "source": [
    "ys.plot(figsize=(15, 8))\n",
    "plt.title('Predicted and True Price')\n",
    "plt.show()"
   ]
  },
  {
   "cell_type": "markdown",
   "metadata": {},
   "source": [
    "---------------------------------"
   ]
  },
  {
   "cell_type": "code",
   "execution_count": 38,
   "metadata": {},
   "outputs": [
    {
     "data": {
      "text/html": [
       "<div>\n",
       "<style scoped>\n",
       "    .dataframe tbody tr th:only-of-type {\n",
       "        vertical-align: middle;\n",
       "    }\n",
       "\n",
       "    .dataframe tbody tr th {\n",
       "        vertical-align: top;\n",
       "    }\n",
       "\n",
       "    .dataframe thead th {\n",
       "        text-align: right;\n",
       "    }\n",
       "</style>\n",
       "<table border=\"1\" class=\"dataframe\">\n",
       "  <thead>\n",
       "    <tr style=\"text-align: right;\">\n",
       "      <th></th>\n",
       "      <th>index</th>\n",
       "      <th>time</th>\n",
       "      <th>Median</th>\n",
       "    </tr>\n",
       "  </thead>\n",
       "  <tbody>\n",
       "    <tr>\n",
       "      <th>0</th>\n",
       "      <td>0</td>\n",
       "      <td>2013-01-03 20:00:00</td>\n",
       "      <td>8440</td>\n",
       "    </tr>\n",
       "    <tr>\n",
       "      <th>1</th>\n",
       "      <td>1</td>\n",
       "      <td>2013-01-10 20:00:00</td>\n",
       "      <td>8305</td>\n",
       "    </tr>\n",
       "    <tr>\n",
       "      <th>2</th>\n",
       "      <td>2</td>\n",
       "      <td>2013-01-17 20:00:00</td>\n",
       "      <td>8335</td>\n",
       "    </tr>\n",
       "    <tr>\n",
       "      <th>3</th>\n",
       "      <td>3</td>\n",
       "      <td>2013-01-24 20:00:00</td>\n",
       "      <td>8375</td>\n",
       "    </tr>\n",
       "    <tr>\n",
       "      <th>4</th>\n",
       "      <td>4</td>\n",
       "      <td>2013-01-31 20:00:00</td>\n",
       "      <td>8115</td>\n",
       "    </tr>\n",
       "  </tbody>\n",
       "</table>\n",
       "</div>"
      ],
      "text/plain": [
       "   index                time  Median\n",
       "0      0 2013-01-03 20:00:00    8440\n",
       "1      1 2013-01-10 20:00:00    8305\n",
       "2      2 2013-01-17 20:00:00    8335\n",
       "3      3 2013-01-24 20:00:00    8375\n",
       "4      4 2013-01-31 20:00:00    8115"
      ]
     },
     "execution_count": 38,
     "metadata": {},
     "output_type": "execute_result"
    }
   ],
   "source": [
    "df.head()"
   ]
  },
  {
   "cell_type": "code",
   "execution_count": 41,
   "metadata": {},
   "outputs": [
    {
     "data": {
      "text/html": [
       "<div>\n",
       "<style scoped>\n",
       "    .dataframe tbody tr th:only-of-type {\n",
       "        vertical-align: middle;\n",
       "    }\n",
       "\n",
       "    .dataframe tbody tr th {\n",
       "        vertical-align: top;\n",
       "    }\n",
       "\n",
       "    .dataframe thead th {\n",
       "        text-align: right;\n",
       "    }\n",
       "</style>\n",
       "<table border=\"1\" class=\"dataframe\">\n",
       "  <thead>\n",
       "    <tr style=\"text-align: right;\">\n",
       "      <th></th>\n",
       "      <th>level_0</th>\n",
       "      <th>index</th>\n",
       "      <th>time</th>\n",
       "      <th>Median</th>\n",
       "      <th>kind</th>\n",
       "      <th>id</th>\n",
       "    </tr>\n",
       "  </thead>\n",
       "  <tbody>\n",
       "    <tr>\n",
       "      <th>0</th>\n",
       "      <td>0</td>\n",
       "      <td>0</td>\n",
       "      <td>2013-01-03 20:00:00</td>\n",
       "      <td>8440</td>\n",
       "      <td>a</td>\n",
       "      <td>1</td>\n",
       "    </tr>\n",
       "    <tr>\n",
       "      <th>1</th>\n",
       "      <td>1</td>\n",
       "      <td>1</td>\n",
       "      <td>2013-01-10 20:00:00</td>\n",
       "      <td>8305</td>\n",
       "      <td>a</td>\n",
       "      <td>1</td>\n",
       "    </tr>\n",
       "    <tr>\n",
       "      <th>2</th>\n",
       "      <td>2</td>\n",
       "      <td>2</td>\n",
       "      <td>2013-01-17 20:00:00</td>\n",
       "      <td>8335</td>\n",
       "      <td>a</td>\n",
       "      <td>1</td>\n",
       "    </tr>\n",
       "    <tr>\n",
       "      <th>3</th>\n",
       "      <td>3</td>\n",
       "      <td>3</td>\n",
       "      <td>2013-01-24 20:00:00</td>\n",
       "      <td>8375</td>\n",
       "      <td>a</td>\n",
       "      <td>1</td>\n",
       "    </tr>\n",
       "    <tr>\n",
       "      <th>4</th>\n",
       "      <td>4</td>\n",
       "      <td>4</td>\n",
       "      <td>2013-01-31 20:00:00</td>\n",
       "      <td>8115</td>\n",
       "      <td>a</td>\n",
       "      <td>1</td>\n",
       "    </tr>\n",
       "  </tbody>\n",
       "</table>\n",
       "</div>"
      ],
      "text/plain": [
       "   level_0  index                time  Median kind  id\n",
       "0        0      0 2013-01-03 20:00:00    8440    a   1\n",
       "1        1      1 2013-01-10 20:00:00    8305    a   1\n",
       "2        2      2 2013-01-17 20:00:00    8335    a   1\n",
       "3        3      3 2013-01-24 20:00:00    8375    a   1\n",
       "4        4      4 2013-01-31 20:00:00    8115    a   1"
      ]
     },
     "execution_count": 41,
     "metadata": {},
     "output_type": "execute_result"
    }
   ],
   "source": [
    "#df.reset_index(inplace=True)\n",
    "#df.columns = [\"time\", \"Median\"]\n",
    "df[\"kind\"] = \"a\"\n",
    "df[\"id\"] = 1\n",
    "df.head()"
   ]
  },
  {
   "cell_type": "code",
   "execution_count": 43,
   "metadata": {},
   "outputs": [
    {
     "data": {
      "text/html": [
       "<div>\n",
       "<style scoped>\n",
       "    .dataframe tbody tr th:only-of-type {\n",
       "        vertical-align: middle;\n",
       "    }\n",
       "\n",
       "    .dataframe tbody tr th {\n",
       "        vertical-align: top;\n",
       "    }\n",
       "\n",
       "    .dataframe thead th {\n",
       "        text-align: right;\n",
       "    }\n",
       "</style>\n",
       "<table border=\"1\" class=\"dataframe\">\n",
       "  <thead>\n",
       "    <tr style=\"text-align: right;\">\n",
       "      <th></th>\n",
       "      <th>index</th>\n",
       "      <th>time</th>\n",
       "      <th>Median</th>\n",
       "    </tr>\n",
       "  </thead>\n",
       "  <tbody>\n",
       "    <tr>\n",
       "      <th>0</th>\n",
       "      <td>0</td>\n",
       "      <td>2013-01-03 20:00:00</td>\n",
       "      <td>8440</td>\n",
       "    </tr>\n",
       "    <tr>\n",
       "      <th>1</th>\n",
       "      <td>1</td>\n",
       "      <td>2013-01-10 20:00:00</td>\n",
       "      <td>8305</td>\n",
       "    </tr>\n",
       "    <tr>\n",
       "      <th>2</th>\n",
       "      <td>2</td>\n",
       "      <td>2013-01-17 20:00:00</td>\n",
       "      <td>8335</td>\n",
       "    </tr>\n",
       "    <tr>\n",
       "      <th>3</th>\n",
       "      <td>3</td>\n",
       "      <td>2013-01-24 20:00:00</td>\n",
       "      <td>8375</td>\n",
       "    </tr>\n",
       "    <tr>\n",
       "      <th>4</th>\n",
       "      <td>4</td>\n",
       "      <td>2013-01-31 20:00:00</td>\n",
       "      <td>8115</td>\n",
       "    </tr>\n",
       "  </tbody>\n",
       "</table>\n",
       "</div>"
      ],
      "text/plain": [
       "   index                time  Median\n",
       "0      0 2013-01-03 20:00:00    8440\n",
       "1      1 2013-01-10 20:00:00    8305\n",
       "2      2 2013-01-17 20:00:00    8335\n",
       "3      3 2013-01-24 20:00:00    8375\n",
       "4      4 2013-01-31 20:00:00    8115"
      ]
     },
     "execution_count": 43,
     "metadata": {},
     "output_type": "execute_result"
    }
   ],
   "source": [
    "df = df.drop(['level_0','kind','id'],axis=1)\n",
    "df.head()"
   ]
  },
  {
   "cell_type": "code",
   "execution_count": 48,
   "metadata": {},
   "outputs": [],
   "source": [
    "\n",
    "from tsfresh.utilities.dataframe_functions import roll_time_series\n",
    "\n",
    "df_shift, y = make_forecasting_frame(df.Median, kind=\"price\", max_timeshift=52, rolling_direction=1)"
   ]
  },
  {
   "cell_type": "code",
   "execution_count": 49,
   "metadata": {},
   "outputs": [
    {
     "name": "stderr",
     "output_type": "stream",
     "text": [
      "Feature Extraction: 100%|██████████| 20/20 [00:08<00:00,  2.26it/s]\n",
      "WARNING:tsfresh.utilities.dataframe_functions:The columns ['value__fft_coefficient__coeff_27__attr_\"abs\"'\n",
      " 'value__fft_coefficient__coeff_27__attr_\"angle\"'\n",
      " 'value__fft_coefficient__coeff_27__attr_\"imag\"'\n",
      " 'value__fft_coefficient__coeff_27__attr_\"real\"'\n",
      " 'value__fft_coefficient__coeff_28__attr_\"abs\"'\n",
      " 'value__fft_coefficient__coeff_28__attr_\"angle\"'\n",
      " 'value__fft_coefficient__coeff_28__attr_\"imag\"'\n",
      " 'value__fft_coefficient__coeff_28__attr_\"real\"'\n",
      " 'value__fft_coefficient__coeff_29__attr_\"abs\"'\n",
      " 'value__fft_coefficient__coeff_29__attr_\"angle\"'\n",
      " 'value__fft_coefficient__coeff_29__attr_\"imag\"'\n",
      " 'value__fft_coefficient__coeff_29__attr_\"real\"'\n",
      " 'value__fft_coefficient__coeff_30__attr_\"abs\"'\n",
      " 'value__fft_coefficient__coeff_30__attr_\"angle\"'\n",
      " 'value__fft_coefficient__coeff_30__attr_\"imag\"'\n",
      " 'value__fft_coefficient__coeff_30__attr_\"real\"'\n",
      " 'value__fft_coefficient__coeff_31__attr_\"abs\"'\n",
      " 'value__fft_coefficient__coeff_31__attr_\"angle\"'\n",
      " 'value__fft_coefficient__coeff_31__attr_\"imag\"'\n",
      " 'value__fft_coefficient__coeff_31__attr_\"real\"'\n",
      " 'value__fft_coefficient__coeff_32__attr_\"abs\"'\n",
      " 'value__fft_coefficient__coeff_32__attr_\"angle\"'\n",
      " 'value__fft_coefficient__coeff_32__attr_\"imag\"'\n",
      " 'value__fft_coefficient__coeff_32__attr_\"real\"'\n",
      " 'value__fft_coefficient__coeff_33__attr_\"abs\"'\n",
      " 'value__fft_coefficient__coeff_33__attr_\"angle\"'\n",
      " 'value__fft_coefficient__coeff_33__attr_\"imag\"'\n",
      " 'value__fft_coefficient__coeff_33__attr_\"real\"'\n",
      " 'value__fft_coefficient__coeff_34__attr_\"abs\"'\n",
      " 'value__fft_coefficient__coeff_34__attr_\"angle\"'\n",
      " 'value__fft_coefficient__coeff_34__attr_\"imag\"'\n",
      " 'value__fft_coefficient__coeff_34__attr_\"real\"'\n",
      " 'value__fft_coefficient__coeff_35__attr_\"abs\"'\n",
      " 'value__fft_coefficient__coeff_35__attr_\"angle\"'\n",
      " 'value__fft_coefficient__coeff_35__attr_\"imag\"'\n",
      " 'value__fft_coefficient__coeff_35__attr_\"real\"'\n",
      " 'value__fft_coefficient__coeff_36__attr_\"abs\"'\n",
      " 'value__fft_coefficient__coeff_36__attr_\"angle\"'\n",
      " 'value__fft_coefficient__coeff_36__attr_\"imag\"'\n",
      " 'value__fft_coefficient__coeff_36__attr_\"real\"'\n",
      " 'value__fft_coefficient__coeff_37__attr_\"abs\"'\n",
      " 'value__fft_coefficient__coeff_37__attr_\"angle\"'\n",
      " 'value__fft_coefficient__coeff_37__attr_\"imag\"'\n",
      " 'value__fft_coefficient__coeff_37__attr_\"real\"'\n",
      " 'value__fft_coefficient__coeff_38__attr_\"abs\"'\n",
      " 'value__fft_coefficient__coeff_38__attr_\"angle\"'\n",
      " 'value__fft_coefficient__coeff_38__attr_\"imag\"'\n",
      " 'value__fft_coefficient__coeff_38__attr_\"real\"'\n",
      " 'value__fft_coefficient__coeff_39__attr_\"abs\"'\n",
      " 'value__fft_coefficient__coeff_39__attr_\"angle\"'\n",
      " 'value__fft_coefficient__coeff_39__attr_\"imag\"'\n",
      " 'value__fft_coefficient__coeff_39__attr_\"real\"'\n",
      " 'value__fft_coefficient__coeff_40__attr_\"abs\"'\n",
      " 'value__fft_coefficient__coeff_40__attr_\"angle\"'\n",
      " 'value__fft_coefficient__coeff_40__attr_\"imag\"'\n",
      " 'value__fft_coefficient__coeff_40__attr_\"real\"'\n",
      " 'value__fft_coefficient__coeff_41__attr_\"abs\"'\n",
      " 'value__fft_coefficient__coeff_41__attr_\"angle\"'\n",
      " 'value__fft_coefficient__coeff_41__attr_\"imag\"'\n",
      " 'value__fft_coefficient__coeff_41__attr_\"real\"'\n",
      " 'value__fft_coefficient__coeff_42__attr_\"abs\"'\n",
      " 'value__fft_coefficient__coeff_42__attr_\"angle\"'\n",
      " 'value__fft_coefficient__coeff_42__attr_\"imag\"'\n",
      " 'value__fft_coefficient__coeff_42__attr_\"real\"'\n",
      " 'value__fft_coefficient__coeff_43__attr_\"abs\"'\n",
      " 'value__fft_coefficient__coeff_43__attr_\"angle\"'\n",
      " 'value__fft_coefficient__coeff_43__attr_\"imag\"'\n",
      " 'value__fft_coefficient__coeff_43__attr_\"real\"'\n",
      " 'value__fft_coefficient__coeff_44__attr_\"abs\"'\n",
      " 'value__fft_coefficient__coeff_44__attr_\"angle\"'\n",
      " 'value__fft_coefficient__coeff_44__attr_\"imag\"'\n",
      " 'value__fft_coefficient__coeff_44__attr_\"real\"'\n",
      " 'value__fft_coefficient__coeff_45__attr_\"abs\"'\n",
      " 'value__fft_coefficient__coeff_45__attr_\"angle\"'\n",
      " 'value__fft_coefficient__coeff_45__attr_\"imag\"'\n",
      " 'value__fft_coefficient__coeff_45__attr_\"real\"'\n",
      " 'value__fft_coefficient__coeff_46__attr_\"abs\"'\n",
      " 'value__fft_coefficient__coeff_46__attr_\"angle\"'\n",
      " 'value__fft_coefficient__coeff_46__attr_\"imag\"'\n",
      " 'value__fft_coefficient__coeff_46__attr_\"real\"'\n",
      " 'value__fft_coefficient__coeff_47__attr_\"abs\"'\n",
      " 'value__fft_coefficient__coeff_47__attr_\"angle\"'\n",
      " 'value__fft_coefficient__coeff_47__attr_\"imag\"'\n",
      " 'value__fft_coefficient__coeff_47__attr_\"real\"'\n",
      " 'value__fft_coefficient__coeff_48__attr_\"abs\"'\n",
      " 'value__fft_coefficient__coeff_48__attr_\"angle\"'\n",
      " 'value__fft_coefficient__coeff_48__attr_\"imag\"'\n",
      " 'value__fft_coefficient__coeff_48__attr_\"real\"'\n",
      " 'value__fft_coefficient__coeff_49__attr_\"abs\"'\n",
      " 'value__fft_coefficient__coeff_49__attr_\"angle\"'\n",
      " 'value__fft_coefficient__coeff_49__attr_\"imag\"'\n",
      " 'value__fft_coefficient__coeff_49__attr_\"real\"'\n",
      " 'value__fft_coefficient__coeff_50__attr_\"abs\"'\n",
      " 'value__fft_coefficient__coeff_50__attr_\"angle\"'\n",
      " 'value__fft_coefficient__coeff_50__attr_\"imag\"'\n",
      " 'value__fft_coefficient__coeff_50__attr_\"real\"'\n",
      " 'value__fft_coefficient__coeff_51__attr_\"abs\"'\n",
      " 'value__fft_coefficient__coeff_51__attr_\"angle\"'\n",
      " 'value__fft_coefficient__coeff_51__attr_\"imag\"'\n",
      " 'value__fft_coefficient__coeff_51__attr_\"real\"'\n",
      " 'value__fft_coefficient__coeff_52__attr_\"abs\"'\n",
      " 'value__fft_coefficient__coeff_52__attr_\"angle\"'\n",
      " 'value__fft_coefficient__coeff_52__attr_\"imag\"'\n",
      " 'value__fft_coefficient__coeff_52__attr_\"real\"'\n",
      " 'value__fft_coefficient__coeff_53__attr_\"abs\"'\n",
      " 'value__fft_coefficient__coeff_53__attr_\"angle\"'\n",
      " 'value__fft_coefficient__coeff_53__attr_\"imag\"'\n",
      " 'value__fft_coefficient__coeff_53__attr_\"real\"'\n",
      " 'value__fft_coefficient__coeff_54__attr_\"abs\"'\n",
      " 'value__fft_coefficient__coeff_54__attr_\"angle\"'\n",
      " 'value__fft_coefficient__coeff_54__attr_\"imag\"'\n",
      " 'value__fft_coefficient__coeff_54__attr_\"real\"'\n",
      " 'value__fft_coefficient__coeff_55__attr_\"abs\"'\n",
      " 'value__fft_coefficient__coeff_55__attr_\"angle\"'\n",
      " 'value__fft_coefficient__coeff_55__attr_\"imag\"'\n",
      " 'value__fft_coefficient__coeff_55__attr_\"real\"'\n",
      " 'value__fft_coefficient__coeff_56__attr_\"abs\"'\n",
      " 'value__fft_coefficient__coeff_56__attr_\"angle\"'\n",
      " 'value__fft_coefficient__coeff_56__attr_\"imag\"'\n",
      " 'value__fft_coefficient__coeff_56__attr_\"real\"'\n",
      " 'value__fft_coefficient__coeff_57__attr_\"abs\"'\n",
      " 'value__fft_coefficient__coeff_57__attr_\"angle\"'\n",
      " 'value__fft_coefficient__coeff_57__attr_\"imag\"'\n",
      " 'value__fft_coefficient__coeff_57__attr_\"real\"'\n",
      " 'value__fft_coefficient__coeff_58__attr_\"abs\"'\n",
      " 'value__fft_coefficient__coeff_58__attr_\"angle\"'\n",
      " 'value__fft_coefficient__coeff_58__attr_\"imag\"'\n",
      " 'value__fft_coefficient__coeff_58__attr_\"real\"'\n",
      " 'value__fft_coefficient__coeff_59__attr_\"abs\"'\n",
      " 'value__fft_coefficient__coeff_59__attr_\"angle\"'\n",
      " 'value__fft_coefficient__coeff_59__attr_\"imag\"'\n",
      " 'value__fft_coefficient__coeff_59__attr_\"real\"'\n",
      " 'value__fft_coefficient__coeff_60__attr_\"abs\"'\n",
      " 'value__fft_coefficient__coeff_60__attr_\"angle\"'\n",
      " 'value__fft_coefficient__coeff_60__attr_\"imag\"'\n",
      " 'value__fft_coefficient__coeff_60__attr_\"real\"'\n",
      " 'value__fft_coefficient__coeff_61__attr_\"abs\"'\n",
      " 'value__fft_coefficient__coeff_61__attr_\"angle\"'\n",
      " 'value__fft_coefficient__coeff_61__attr_\"imag\"'\n",
      " 'value__fft_coefficient__coeff_61__attr_\"real\"'\n",
      " 'value__fft_coefficient__coeff_62__attr_\"abs\"'\n",
      " 'value__fft_coefficient__coeff_62__attr_\"angle\"'\n",
      " 'value__fft_coefficient__coeff_62__attr_\"imag\"'\n",
      " 'value__fft_coefficient__coeff_62__attr_\"real\"'\n",
      " 'value__fft_coefficient__coeff_63__attr_\"abs\"'\n",
      " 'value__fft_coefficient__coeff_63__attr_\"angle\"'\n",
      " 'value__fft_coefficient__coeff_63__attr_\"imag\"'\n",
      " 'value__fft_coefficient__coeff_63__attr_\"real\"'\n",
      " 'value__fft_coefficient__coeff_64__attr_\"abs\"'\n",
      " 'value__fft_coefficient__coeff_64__attr_\"angle\"'\n",
      " 'value__fft_coefficient__coeff_64__attr_\"imag\"'\n",
      " 'value__fft_coefficient__coeff_64__attr_\"real\"'\n",
      " 'value__fft_coefficient__coeff_65__attr_\"abs\"'\n",
      " 'value__fft_coefficient__coeff_65__attr_\"angle\"'\n",
      " 'value__fft_coefficient__coeff_65__attr_\"imag\"'\n",
      " 'value__fft_coefficient__coeff_65__attr_\"real\"'\n",
      " 'value__fft_coefficient__coeff_66__attr_\"abs\"'\n",
      " 'value__fft_coefficient__coeff_66__attr_\"angle\"'\n",
      " 'value__fft_coefficient__coeff_66__attr_\"imag\"'\n",
      " 'value__fft_coefficient__coeff_66__attr_\"real\"'\n",
      " 'value__fft_coefficient__coeff_67__attr_\"abs\"'\n",
      " 'value__fft_coefficient__coeff_67__attr_\"angle\"'\n",
      " 'value__fft_coefficient__coeff_67__attr_\"imag\"'\n",
      " 'value__fft_coefficient__coeff_67__attr_\"real\"'\n",
      " 'value__fft_coefficient__coeff_68__attr_\"abs\"'\n",
      " 'value__fft_coefficient__coeff_68__attr_\"angle\"'\n",
      " 'value__fft_coefficient__coeff_68__attr_\"imag\"'\n",
      " 'value__fft_coefficient__coeff_68__attr_\"real\"'\n",
      " 'value__fft_coefficient__coeff_69__attr_\"abs\"'\n",
      " 'value__fft_coefficient__coeff_69__attr_\"angle\"'\n",
      " 'value__fft_coefficient__coeff_69__attr_\"imag\"'\n",
      " 'value__fft_coefficient__coeff_69__attr_\"real\"'\n",
      " 'value__fft_coefficient__coeff_70__attr_\"abs\"'\n",
      " 'value__fft_coefficient__coeff_70__attr_\"angle\"'\n",
      " 'value__fft_coefficient__coeff_70__attr_\"imag\"'\n",
      " 'value__fft_coefficient__coeff_70__attr_\"real\"'\n",
      " 'value__fft_coefficient__coeff_71__attr_\"abs\"'\n",
      " 'value__fft_coefficient__coeff_71__attr_\"angle\"'\n",
      " 'value__fft_coefficient__coeff_71__attr_\"imag\"'\n",
      " 'value__fft_coefficient__coeff_71__attr_\"real\"'\n",
      " 'value__fft_coefficient__coeff_72__attr_\"abs\"'\n",
      " 'value__fft_coefficient__coeff_72__attr_\"angle\"'\n",
      " 'value__fft_coefficient__coeff_72__attr_\"imag\"'\n",
      " 'value__fft_coefficient__coeff_72__attr_\"real\"'\n",
      " 'value__fft_coefficient__coeff_73__attr_\"abs\"'\n",
      " 'value__fft_coefficient__coeff_73__attr_\"angle\"'\n",
      " 'value__fft_coefficient__coeff_73__attr_\"imag\"'\n",
      " 'value__fft_coefficient__coeff_73__attr_\"real\"'\n",
      " 'value__fft_coefficient__coeff_74__attr_\"abs\"'\n",
      " 'value__fft_coefficient__coeff_74__attr_\"angle\"'\n",
      " 'value__fft_coefficient__coeff_74__attr_\"imag\"'\n",
      " 'value__fft_coefficient__coeff_74__attr_\"real\"'\n",
      " 'value__fft_coefficient__coeff_75__attr_\"abs\"'\n",
      " 'value__fft_coefficient__coeff_75__attr_\"angle\"'\n",
      " 'value__fft_coefficient__coeff_75__attr_\"imag\"'\n",
      " 'value__fft_coefficient__coeff_75__attr_\"real\"'\n",
      " 'value__fft_coefficient__coeff_76__attr_\"abs\"'\n",
      " 'value__fft_coefficient__coeff_76__attr_\"angle\"'\n",
      " 'value__fft_coefficient__coeff_76__attr_\"imag\"'\n",
      " 'value__fft_coefficient__coeff_76__attr_\"real\"'\n",
      " 'value__fft_coefficient__coeff_77__attr_\"abs\"'\n",
      " 'value__fft_coefficient__coeff_77__attr_\"angle\"'\n",
      " 'value__fft_coefficient__coeff_77__attr_\"imag\"'\n",
      " 'value__fft_coefficient__coeff_77__attr_\"real\"'\n",
      " 'value__fft_coefficient__coeff_78__attr_\"abs\"'\n",
      " 'value__fft_coefficient__coeff_78__attr_\"angle\"'\n",
      " 'value__fft_coefficient__coeff_78__attr_\"imag\"'\n",
      " 'value__fft_coefficient__coeff_78__attr_\"real\"'\n",
      " 'value__fft_coefficient__coeff_79__attr_\"abs\"'\n",
      " 'value__fft_coefficient__coeff_79__attr_\"angle\"'\n",
      " 'value__fft_coefficient__coeff_79__attr_\"imag\"'\n",
      " 'value__fft_coefficient__coeff_79__attr_\"real\"'\n",
      " 'value__fft_coefficient__coeff_80__attr_\"abs\"'\n",
      " 'value__fft_coefficient__coeff_80__attr_\"angle\"'\n",
      " 'value__fft_coefficient__coeff_80__attr_\"imag\"'\n",
      " 'value__fft_coefficient__coeff_80__attr_\"real\"'\n",
      " 'value__fft_coefficient__coeff_81__attr_\"abs\"'\n",
      " 'value__fft_coefficient__coeff_81__attr_\"angle\"'\n",
      " 'value__fft_coefficient__coeff_81__attr_\"imag\"'\n",
      " 'value__fft_coefficient__coeff_81__attr_\"real\"'\n",
      " 'value__fft_coefficient__coeff_82__attr_\"abs\"'\n",
      " 'value__fft_coefficient__coeff_82__attr_\"angle\"'\n",
      " 'value__fft_coefficient__coeff_82__attr_\"imag\"'\n",
      " 'value__fft_coefficient__coeff_82__attr_\"real\"'\n",
      " 'value__fft_coefficient__coeff_83__attr_\"abs\"'\n",
      " 'value__fft_coefficient__coeff_83__attr_\"angle\"'\n",
      " 'value__fft_coefficient__coeff_83__attr_\"imag\"'\n",
      " 'value__fft_coefficient__coeff_83__attr_\"real\"'\n",
      " 'value__fft_coefficient__coeff_84__attr_\"abs\"'\n",
      " 'value__fft_coefficient__coeff_84__attr_\"angle\"'\n",
      " 'value__fft_coefficient__coeff_84__attr_\"imag\"'\n",
      " 'value__fft_coefficient__coeff_84__attr_\"real\"'\n",
      " 'value__fft_coefficient__coeff_85__attr_\"abs\"'\n",
      " 'value__fft_coefficient__coeff_85__attr_\"angle\"'\n",
      " 'value__fft_coefficient__coeff_85__attr_\"imag\"'\n",
      " 'value__fft_coefficient__coeff_85__attr_\"real\"'\n",
      " 'value__fft_coefficient__coeff_86__attr_\"abs\"'\n",
      " 'value__fft_coefficient__coeff_86__attr_\"angle\"'\n",
      " 'value__fft_coefficient__coeff_86__attr_\"imag\"'\n",
      " 'value__fft_coefficient__coeff_86__attr_\"real\"'\n",
      " 'value__fft_coefficient__coeff_87__attr_\"abs\"'\n",
      " 'value__fft_coefficient__coeff_87__attr_\"angle\"'\n",
      " 'value__fft_coefficient__coeff_87__attr_\"imag\"'\n",
      " 'value__fft_coefficient__coeff_87__attr_\"real\"'\n",
      " 'value__fft_coefficient__coeff_88__attr_\"abs\"'\n",
      " 'value__fft_coefficient__coeff_88__attr_\"angle\"'\n",
      " 'value__fft_coefficient__coeff_88__attr_\"imag\"'\n",
      " 'value__fft_coefficient__coeff_88__attr_\"real\"'\n",
      " 'value__fft_coefficient__coeff_89__attr_\"abs\"'\n",
      " 'value__fft_coefficient__coeff_89__attr_\"angle\"'\n",
      " 'value__fft_coefficient__coeff_89__attr_\"imag\"'\n",
      " 'value__fft_coefficient__coeff_89__attr_\"real\"'\n",
      " 'value__fft_coefficient__coeff_90__attr_\"abs\"'\n",
      " 'value__fft_coefficient__coeff_90__attr_\"angle\"'\n",
      " 'value__fft_coefficient__coeff_90__attr_\"imag\"'\n",
      " 'value__fft_coefficient__coeff_90__attr_\"real\"'\n",
      " 'value__fft_coefficient__coeff_91__attr_\"abs\"'\n",
      " 'value__fft_coefficient__coeff_91__attr_\"angle\"'\n",
      " 'value__fft_coefficient__coeff_91__attr_\"imag\"'\n",
      " 'value__fft_coefficient__coeff_91__attr_\"real\"'\n",
      " 'value__fft_coefficient__coeff_92__attr_\"abs\"'\n",
      " 'value__fft_coefficient__coeff_92__attr_\"angle\"'\n",
      " 'value__fft_coefficient__coeff_92__attr_\"imag\"'\n",
      " 'value__fft_coefficient__coeff_92__attr_\"real\"'\n",
      " 'value__fft_coefficient__coeff_93__attr_\"abs\"'\n",
      " 'value__fft_coefficient__coeff_93__attr_\"angle\"'\n",
      " 'value__fft_coefficient__coeff_93__attr_\"imag\"'\n",
      " 'value__fft_coefficient__coeff_93__attr_\"real\"'\n",
      " 'value__fft_coefficient__coeff_94__attr_\"abs\"'\n",
      " 'value__fft_coefficient__coeff_94__attr_\"angle\"'\n",
      " 'value__fft_coefficient__coeff_94__attr_\"imag\"'\n",
      " 'value__fft_coefficient__coeff_94__attr_\"real\"'\n",
      " 'value__fft_coefficient__coeff_95__attr_\"abs\"'\n",
      " 'value__fft_coefficient__coeff_95__attr_\"angle\"'\n",
      " 'value__fft_coefficient__coeff_95__attr_\"imag\"'\n",
      " 'value__fft_coefficient__coeff_95__attr_\"real\"'\n",
      " 'value__fft_coefficient__coeff_96__attr_\"abs\"'\n",
      " 'value__fft_coefficient__coeff_96__attr_\"angle\"'\n",
      " 'value__fft_coefficient__coeff_96__attr_\"imag\"'\n",
      " 'value__fft_coefficient__coeff_96__attr_\"real\"'\n",
      " 'value__fft_coefficient__coeff_97__attr_\"abs\"'\n",
      " 'value__fft_coefficient__coeff_97__attr_\"angle\"'\n",
      " 'value__fft_coefficient__coeff_97__attr_\"imag\"'\n",
      " 'value__fft_coefficient__coeff_97__attr_\"real\"'\n",
      " 'value__fft_coefficient__coeff_98__attr_\"abs\"'\n",
      " 'value__fft_coefficient__coeff_98__attr_\"angle\"'\n",
      " 'value__fft_coefficient__coeff_98__attr_\"imag\"'\n",
      " 'value__fft_coefficient__coeff_98__attr_\"real\"'\n",
      " 'value__fft_coefficient__coeff_99__attr_\"abs\"'\n",
      " 'value__fft_coefficient__coeff_99__attr_\"angle\"'\n",
      " 'value__fft_coefficient__coeff_99__attr_\"imag\"'\n",
      " 'value__fft_coefficient__coeff_99__attr_\"real\"'] did not have any finite values. Filling with zeros.\n"
     ]
    }
   ],
   "source": [
    "X = extract_features(df_shift, column_id=\"id\", column_sort=\"time\", column_value=\"value\", impute_function=impute, \n",
    "                     show_warnings=False)"
   ]
  },
  {
   "cell_type": "code",
   "execution_count": 50,
   "metadata": {},
   "outputs": [
    {
     "data": {
      "text/html": [
       "<div>\n",
       "<style scoped>\n",
       "    .dataframe tbody tr th:only-of-type {\n",
       "        vertical-align: middle;\n",
       "    }\n",
       "\n",
       "    .dataframe tbody tr th {\n",
       "        vertical-align: top;\n",
       "    }\n",
       "\n",
       "    .dataframe thead th {\n",
       "        text-align: right;\n",
       "    }\n",
       "</style>\n",
       "<table border=\"1\" class=\"dataframe\">\n",
       "  <thead>\n",
       "    <tr style=\"text-align: right;\">\n",
       "      <th>variable</th>\n",
       "      <th>value__abs_energy</th>\n",
       "      <th>value__absolute_sum_of_changes</th>\n",
       "      <th>value__agg_autocorrelation__f_agg_\"mean\"__maxlag_40</th>\n",
       "      <th>value__agg_autocorrelation__f_agg_\"median\"__maxlag_40</th>\n",
       "      <th>value__agg_autocorrelation__f_agg_\"var\"__maxlag_40</th>\n",
       "      <th>...</th>\n",
       "      <th>value__value_count__value_-1</th>\n",
       "      <th>value__value_count__value_0</th>\n",
       "      <th>value__value_count__value_1</th>\n",
       "      <th>value__variance</th>\n",
       "      <th>value__variance_larger_than_standard_deviation</th>\n",
       "    </tr>\n",
       "    <tr>\n",
       "      <th>id</th>\n",
       "      <th></th>\n",
       "      <th></th>\n",
       "      <th></th>\n",
       "      <th></th>\n",
       "      <th></th>\n",
       "      <th></th>\n",
       "      <th></th>\n",
       "      <th></th>\n",
       "      <th></th>\n",
       "      <th></th>\n",
       "      <th></th>\n",
       "    </tr>\n",
       "  </thead>\n",
       "  <tbody>\n",
       "    <tr>\n",
       "      <th>1</th>\n",
       "      <td>71233600.0</td>\n",
       "      <td>0.0</td>\n",
       "      <td>0.000000</td>\n",
       "      <td>0.000000</td>\n",
       "      <td>0.000000</td>\n",
       "      <td>...</td>\n",
       "      <td>0.0</td>\n",
       "      <td>0.0</td>\n",
       "      <td>0.0</td>\n",
       "      <td>0.0000</td>\n",
       "      <td>0.0</td>\n",
       "    </tr>\n",
       "    <tr>\n",
       "      <th>2</th>\n",
       "      <td>140206625.0</td>\n",
       "      <td>135.0</td>\n",
       "      <td>-1.000000</td>\n",
       "      <td>-1.000000</td>\n",
       "      <td>0.000000</td>\n",
       "      <td>...</td>\n",
       "      <td>0.0</td>\n",
       "      <td>0.0</td>\n",
       "      <td>0.0</td>\n",
       "      <td>4556.2500</td>\n",
       "      <td>1.0</td>\n",
       "    </tr>\n",
       "    <tr>\n",
       "      <th>3</th>\n",
       "      <td>209678850.0</td>\n",
       "      <td>165.0</td>\n",
       "      <td>-0.524254</td>\n",
       "      <td>-0.524254</td>\n",
       "      <td>0.005294</td>\n",
       "      <td>...</td>\n",
       "      <td>0.0</td>\n",
       "      <td>0.0</td>\n",
       "      <td>0.0</td>\n",
       "      <td>3350.0000</td>\n",
       "      <td>1.0</td>\n",
       "    </tr>\n",
       "    <tr>\n",
       "      <th>4</th>\n",
       "      <td>279819475.0</td>\n",
       "      <td>205.0</td>\n",
       "      <td>-0.209650</td>\n",
       "      <td>-0.406320</td>\n",
       "      <td>0.152602</td>\n",
       "      <td>...</td>\n",
       "      <td>0.0</td>\n",
       "      <td>0.0</td>\n",
       "      <td>0.0</td>\n",
       "      <td>2554.6875</td>\n",
       "      <td>1.0</td>\n",
       "    </tr>\n",
       "    <tr>\n",
       "      <th>5</th>\n",
       "      <td>345672700.0</td>\n",
       "      <td>465.0</td>\n",
       "      <td>-0.503909</td>\n",
       "      <td>-0.156533</td>\n",
       "      <td>0.904281</td>\n",
       "      <td>...</td>\n",
       "      <td>0.0</td>\n",
       "      <td>0.0</td>\n",
       "      <td>0.0</td>\n",
       "      <td>11944.0000</td>\n",
       "      <td>1.0</td>\n",
       "    </tr>\n",
       "  </tbody>\n",
       "</table>\n",
       "<p>5 rows × 794 columns</p>\n",
       "</div>"
      ],
      "text/plain": [
       "variable  value__abs_energy  value__absolute_sum_of_changes  \\\n",
       "id                                                            \n",
       "1                71233600.0                             0.0   \n",
       "2               140206625.0                           135.0   \n",
       "3               209678850.0                           165.0   \n",
       "4               279819475.0                           205.0   \n",
       "5               345672700.0                           465.0   \n",
       "\n",
       "variable  value__agg_autocorrelation__f_agg_\"mean\"__maxlag_40  \\\n",
       "id                                                              \n",
       "1                                                  0.000000     \n",
       "2                                                 -1.000000     \n",
       "3                                                 -0.524254     \n",
       "4                                                 -0.209650     \n",
       "5                                                 -0.503909     \n",
       "\n",
       "variable  value__agg_autocorrelation__f_agg_\"median\"__maxlag_40  \\\n",
       "id                                                                \n",
       "1                                                  0.000000       \n",
       "2                                                 -1.000000       \n",
       "3                                                 -0.524254       \n",
       "4                                                 -0.406320       \n",
       "5                                                 -0.156533       \n",
       "\n",
       "variable  value__agg_autocorrelation__f_agg_\"var\"__maxlag_40  \\\n",
       "id                                                             \n",
       "1                                                  0.000000    \n",
       "2                                                  0.000000    \n",
       "3                                                  0.005294    \n",
       "4                                                  0.152602    \n",
       "5                                                  0.904281    \n",
       "\n",
       "variable                       ...                        \\\n",
       "id                             ...                         \n",
       "1                              ...                         \n",
       "2                              ...                         \n",
       "3                              ...                         \n",
       "4                              ...                         \n",
       "5                              ...                         \n",
       "\n",
       "variable  value__value_count__value_-1  value__value_count__value_0  \\\n",
       "id                                                                    \n",
       "1                                  0.0                          0.0   \n",
       "2                                  0.0                          0.0   \n",
       "3                                  0.0                          0.0   \n",
       "4                                  0.0                          0.0   \n",
       "5                                  0.0                          0.0   \n",
       "\n",
       "variable  value__value_count__value_1  value__variance  \\\n",
       "id                                                       \n",
       "1                                 0.0           0.0000   \n",
       "2                                 0.0        4556.2500   \n",
       "3                                 0.0        3350.0000   \n",
       "4                                 0.0        2554.6875   \n",
       "5                                 0.0       11944.0000   \n",
       "\n",
       "variable  value__variance_larger_than_standard_deviation  \n",
       "id                                                        \n",
       "1                                                    0.0  \n",
       "2                                                    1.0  \n",
       "3                                                    1.0  \n",
       "4                                                    1.0  \n",
       "5                                                    1.0  \n",
       "\n",
       "[5 rows x 794 columns]"
      ]
     },
     "execution_count": 50,
     "metadata": {},
     "output_type": "execute_result"
    }
   ],
   "source": [
    "X.head()"
   ]
  },
  {
   "cell_type": "code",
   "execution_count": 55,
   "metadata": {
    "scrolled": true
   },
   "outputs": [],
   "source": [
    "ada = AdaBoostRegressor()\n",
    "pred_n = 30\n",
    "y_pred = [0] * len(y)\n",
    "y_pred[0] = y.iloc[0]\n",
    "\n",
    "\n",
    "for i in range(1, len(y)):\n",
    "    ada.fit(X.iloc[:i], y[:i])\n",
    "    y_pred[i] = ada.predict(X.iloc[i, :].values.reshape((1, -1)))\n",
    "    \n",
    "y_pred = pd.Series(data=y_pred, index=y.index)"
   ]
  },
  {
   "cell_type": "code",
   "execution_count": 56,
   "metadata": {},
   "outputs": [],
   "source": [
    "y_pred = pd.Series(data=y_pred, index=y.index)"
   ]
  },
  {
   "cell_type": "code",
   "execution_count": 57,
   "metadata": {},
   "outputs": [
    {
     "data": {
      "image/png": "[encoded data removed]",
      "text/plain": [
       "<Figure size 1080x432 with 1 Axes>"
      ]
     },
     "metadata": {
      "needs_background": "light"
     },
     "output_type": "display_data"
    }
   ],
   "source": [
    "plt.figure(figsize=(15, 6))\n",
    "plt.plot(y, label=\"true\")\n",
    "plt.plot(y_pred, label=\"predicted\")\n",
    "plt.legend()\n",
    "plt.show()"
   ]
  },
  {
   "cell_type": "code",
   "execution_count": 58,
   "metadata": {},
   "outputs": [
    {
     "data": {
      "text/plain": [
       "<Figure size 432x288 with 0 Axes>"
      ]
     },
     "metadata": {},
     "output_type": "display_data"
    }
   ],
   "source": [
    "plt.savefig('AdaBoost+tsfresh_allPeriod.png')"
   ]
  },
  {
   "cell_type": "code",
   "execution_count": 81,
   "metadata": {},
   "outputs": [],
   "source": [
    "ada = AdaBoostRegressor()\n",
    "pred_n = 30\n",
    "y_pred = [0] * len(y)\n",
    "y_pred[0] = y.iloc[0]\n",
    "\n",
    "\n",
    "for i in range(len(y)-pred_n, len(y)):\n",
    "    ada.fit(X.iloc[:i], y[:i])\n",
    "    y_pred[i] = ada.predict(X.iloc[i, :].values.reshape((1, -1)))\n",
    "    \n",
    "y_pred = pd.Series(data=y_pred, index=y.index)"
   ]
  },
  {
   "cell_type": "code",
   "execution_count": 85,
   "metadata": {},
   "outputs": [
    {
     "ename": "AttributeError",
     "evalue": "module 'matplotlib.pyplot' has no attribute 'set_xaxis'",
     "output_type": "error",
     "traceback": [
      "\u001b[0;31m---------------------------------------------------------------------------\u001b[0m",
      "\u001b[0;31mAttributeError\u001b[0m                            Traceback (most recent call last)",
      "\u001b[0;32m<ipython-input-85-34a1cc1c4140>\u001b[0m in \u001b[0;36m<module>\u001b[0;34m\u001b[0m\n\u001b[1;32m      2\u001b[0m \u001b[0mplt\u001b[0m\u001b[0;34m.\u001b[0m\u001b[0mplot\u001b[0m\u001b[0;34m(\u001b[0m\u001b[0my\u001b[0m\u001b[0;34m,\u001b[0m \u001b[0mlabel\u001b[0m\u001b[0;34m=\u001b[0m\u001b[0;34m\"true\"\u001b[0m\u001b[0;34m)\u001b[0m\u001b[0;34m\u001b[0m\u001b[0;34m\u001b[0m\u001b[0m\n\u001b[1;32m      3\u001b[0m \u001b[0mplt\u001b[0m\u001b[0;34m.\u001b[0m\u001b[0mplot\u001b[0m\u001b[0;34m(\u001b[0m\u001b[0my_pred\u001b[0m\u001b[0;34m,\u001b[0m \u001b[0mlabel\u001b[0m\u001b[0;34m=\u001b[0m\u001b[0;34m\"predicted\"\u001b[0m\u001b[0;34m)\u001b[0m\u001b[0;34m\u001b[0m\u001b[0;34m\u001b[0m\u001b[0m\n\u001b[0;32m----> 4\u001b[0;31m \u001b[0mplt\u001b[0m\u001b[0;34m.\u001b[0m\u001b[0mset_xaxis\u001b[0m\u001b[0;34m(\u001b[0m\u001b[0mdf\u001b[0m\u001b[0;34m.\u001b[0m\u001b[0mtime\u001b[0m\u001b[0;34m)\u001b[0m\u001b[0;34m\u001b[0m\u001b[0;34m\u001b[0m\u001b[0m\n\u001b[0m\u001b[1;32m      5\u001b[0m \u001b[0mplt\u001b[0m\u001b[0;34m.\u001b[0m\u001b[0mlegend\u001b[0m\u001b[0;34m(\u001b[0m\u001b[0;34m)\u001b[0m\u001b[0;34m\u001b[0m\u001b[0;34m\u001b[0m\u001b[0m\n\u001b[1;32m      6\u001b[0m \u001b[0mplt\u001b[0m\u001b[0;34m.\u001b[0m\u001b[0msavefig\u001b[0m\u001b[0;34m(\u001b[0m\u001b[0;34m'AdaBoost+tsfresh_30last.png'\u001b[0m\u001b[0;34m)\u001b[0m\u001b[0;34m\u001b[0m\u001b[0;34m\u001b[0m\u001b[0m\n",
      "\u001b[0;31mAttributeError\u001b[0m: module 'matplotlib.pyplot' has no attribute 'set_xaxis'"
     ]
    },
    {
     "data": {
      "image/png": "[encoded data removed]",
      "text/plain": [
       "<Figure size 1080x432 with 1 Axes>"
      ]
     },
     "metadata": {
      "needs_background": "light"
     },
     "output_type": "display_data"
    }
   ],
   "source": [
    "plt.figure(figsize=(15, 6))\n",
    "plt.plot(y, label=\"true\")\n",
    "plt.plot(y_pred, label=\"predicted\")\n",
    "plt.set_xaxis(df.time)\n",
    "plt.legend()\n",
    "plt.savefig('AdaBoost+tsfresh_30last.png')\n",
    "plt.show()\n"
   ]
  },
  {
   "cell_type": "code",
   "execution_count": 77,
   "metadata": {},
   "outputs": [
    {
     "name": "stdout",
     "output_type": "stream",
     "text": [
      "Средняя погрешность на последних 30 неделях:  [607.62979771]\n"
     ]
    }
   ],
   "source": [
    "from sklearn.metrics import classification_report\n",
    "print('Средняя погрешность на последних 30 неделях: ',np.mean(abs(y[-pred_n:]-y_pred[-pred_n:])))"
   ]
  },
  {
   "cell_type": "code",
   "execution_count": 67,
   "metadata": {},
   "outputs": [
    {
     "name": "stdout",
     "output_type": "stream",
     "text": [
      "350    [15587.450980392157]\n",
      "351    [15685.483870967742]\n",
      "352               [14982.0]\n",
      "353               [14972.5]\n",
      "354    [14500.108695652174]\n",
      "dtype: object 350    14715\n",
      "351    14530\n",
      "352    14095\n",
      "353    13775\n",
      "354    13540\n",
      "Name: value, dtype: int64\n"
     ]
    }
   ],
   "source": [
    "print(y_pred.tail(),y.tail())"
   ]
  },
  {
   "cell_type": "code",
   "execution_count": null,
   "metadata": {},
   "outputs": [],
   "source": []
  },
  {
   "cell_type": "code",
   "execution_count": null,
   "metadata": {},
   "outputs": [],
   "source": []
  },
  {
   "cell_type": "code",
   "execution_count": null,
   "metadata": {},
   "outputs": [],
   "source": []
  },
  {
   "cell_type": "code",
   "execution_count": null,
   "metadata": {},
   "outputs": [],
   "source": []
  },
  {
   "cell_type": "code",
   "execution_count": null,
   "metadata": {},
   "outputs": [],
   "source": []
  },
  {
   "cell_type": "code",
   "execution_count": null,
   "metadata": {},
   "outputs": [],
   "source": []
  },
  {
   "cell_type": "code",
   "execution_count": null,
   "metadata": {},
   "outputs": [],
   "source": []
  },
  {
   "cell_type": "code",
   "execution_count": null,
   "metadata": {},
   "outputs": [],
   "source": []
  },
  {
   "cell_type": "code",
   "execution_count": null,
   "metadata": {},
   "outputs": [],
   "source": []
  },
  {
   "cell_type": "code",
   "execution_count": null,
   "metadata": {},
   "outputs": [],
   "source": []
  },
  {
   "cell_type": "code",
   "execution_count": null,
   "metadata": {},
   "outputs": [],
   "source": []
  },
  {
   "cell_type": "code",
   "execution_count": null,
   "metadata": {},
   "outputs": [],
   "source": []
  },
  {
   "cell_type": "code",
   "execution_count": null,
   "metadata": {},
   "outputs": [],
   "source": []
  },
  {
   "cell_type": "code",
   "execution_count": null,
   "metadata": {},
   "outputs": [],
   "source": []
  },
  {
   "cell_type": "code",
   "execution_count": null,
   "metadata": {},
   "outputs": [],
   "source": [
    "\n"
   ]
  },
  {
   "cell_type": "code",
   "execution_count": null,
   "metadata": {},
   "outputs": [],
   "source": []
  },
  {
   "cell_type": "code",
   "execution_count": null,
   "metadata": {},
   "outputs": [],
   "source": []
  },
  {
   "cell_type": "code",
   "execution_count": null,
   "metadata": {},
   "outputs": [],
   "source": []
  },
  {
   "cell_type": "code",
   "execution_count": null,
   "metadata": {},
   "outputs": [],
   "source": []
  },
  {
   "cell_type": "markdown",
   "metadata": {},
   "source": []
  },
  {
   "cell_type": "code",
   "execution_count": null,
   "metadata": {},
   "outputs": [],
   "source": []
  },
  {
   "cell_type": "code",
   "execution_count": null,
   "metadata": {},
   "outputs": [],
   "source": []
  },
  {
   "cell_type": "code",
   "execution_count": null,
   "metadata": {},
   "outputs": [],
   "source": []
  },
  {
   "cell_type": "code",
   "execution_count": null,
   "metadata": {},
   "outputs": [],
   "source": []
  },
  {
   "cell_type": "code",
   "execution_count": null,
   "metadata": {},
   "outputs": [],
   "source": [
    "def code_mean(data, cat_feature, real_feature):\n",
    "    \"\"\"\n",
    "    Возвращает словарь, где ключами являются уникальные категории признака cat_feature, \n",
    "    а значениями - средние по real_feature\n",
    "    \"\"\"\n",
    "    return dict(data.groupby(cat_feature)[real_feature].mean())"
   ]
  },
  {
   "cell_type": "code",
   "execution_count": null,
   "metadata": {},
   "outputs": [],
   "source": []
  },
  {
   "cell_type": "code",
   "execution_count": null,
   "metadata": {},
   "outputs": [],
   "source": []
  }
 ],
 "metadata": {
  "kernelspec": {
   "display_name": "Python 3",
   "language": "python",
   "name": "python3"
  },
  "language_info": {
   "codemirror_mode": {
    "name": "ipython",
    "version": 3
   },
   "file_extension": ".py",
   "mimetype": "text/x-python",
   "name": "python",
   "nbconvert_exporter": "python",
   "pygments_lexer": "ipython3",
   "version": "3.7.4"
  }
 },
 "nbformat": 4,
 "nbformat_minor": 2
}
