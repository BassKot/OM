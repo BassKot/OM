{
 "cells": [
  {
   "cell_type": "code",
   "execution_count": 1,
   "metadata": {},
   "outputs": [
    {
     "name": "stderr",
     "output_type": "stream",
     "text": [
      "/Users/irochka/opt/anaconda3/lib/python3.7/importlib/_bootstrap.py:219: RuntimeWarning: numpy.ufunc size changed, may indicate binary incompatibility. Expected 216, got 192\n",
      "  return f(*args, **kwds)\n",
      "/Users/irochka/opt/anaconda3/lib/python3.7/importlib/_bootstrap.py:219: RuntimeWarning: numpy.ufunc size changed, may indicate binary incompatibility. Expected 216, got 192\n",
      "  return f(*args, **kwds)\n",
      "/Users/irochka/opt/anaconda3/lib/python3.7/importlib/_bootstrap.py:219: RuntimeWarning: numpy.ufunc size changed, may indicate binary incompatibility. Expected 192 from C header, got 216 from PyObject\n",
      "  return f(*args, **kwds)\n",
      "/Users/irochka/opt/anaconda3/lib/python3.7/importlib/_bootstrap.py:219: RuntimeWarning:\n",
      "\n",
      "numpy.ufunc size changed, may indicate binary incompatibility. Expected 192 from C header, got 216 from PyObject\n",
      "\n",
      "/Users/irochka/opt/anaconda3/lib/python3.7/importlib/_bootstrap.py:219: RuntimeWarning:\n",
      "\n",
      "numpy.ufunc size changed, may indicate binary incompatibility. Expected 192 from C header, got 216 from PyObject\n",
      "\n"
     ]
    },
    {
     "data": {
      "text/html": [
       "        <script type=\"text/javascript\">\n",
       "        window.PlotlyConfig = {MathJaxConfig: 'local'};\n",
       "        if (window.MathJax) {MathJax.Hub.Config({SVG: {font: \"STIX-Web\"}});}\n",
       "        if (typeof require !== 'undefined') {\n",
       "        require.undef(\"plotly\");\n",
       "        requirejs.config({\n",
       "            paths: {\n",
       "                'plotly': ['https://cdn.plot.ly/plotly-latest.min']\n",
       "            }\n",
       "        });\n",
       "        require(['plotly'], function(Plotly) {\n",
       "            window._Plotly = Plotly;\n",
       "        });\n",
       "        }\n",
       "        </script>\n",
       "        "
      ]
     },
     "metadata": {},
     "output_type": "display_data"
    },
    {
     "data": {
      "text/html": [
       "        <script type=\"text/javascript\">\n",
       "        window.PlotlyConfig = {MathJaxConfig: 'local'};\n",
       "        if (window.MathJax) {MathJax.Hub.Config({SVG: {font: \"STIX-Web\"}});}\n",
       "        if (typeof require !== 'undefined') {\n",
       "        require.undef(\"plotly\");\n",
       "        requirejs.config({\n",
       "            paths: {\n",
       "                'plotly': ['https://cdn.plot.ly/plotly-latest.min']\n",
       "            }\n",
       "        });\n",
       "        require(['plotly'], function(Plotly) {\n",
       "            window._Plotly = Plotly;\n",
       "        });\n",
       "        }\n",
       "        </script>\n",
       "        "
      ]
     },
     "metadata": {},
     "output_type": "display_data"
    },
    {
     "data": {
      "text/html": [
       "        <script type=\"text/javascript\">\n",
       "        window.PlotlyConfig = {MathJaxConfig: 'local'};\n",
       "        if (window.MathJax) {MathJax.Hub.Config({SVG: {font: \"STIX-Web\"}});}\n",
       "        if (typeof require !== 'undefined') {\n",
       "        require.undef(\"plotly\");\n",
       "        requirejs.config({\n",
       "            paths: {\n",
       "                'plotly': ['https://cdn.plot.ly/plotly-latest.min']\n",
       "            }\n",
       "        });\n",
       "        require(['plotly'], function(Plotly) {\n",
       "            window._Plotly = Plotly;\n",
       "        });\n",
       "        }\n",
       "        </script>\n",
       "        "
      ]
     },
     "metadata": {},
     "output_type": "display_data"
    },
    {
     "name": "stderr",
     "output_type": "stream",
     "text": [
      "/Users/irochka/opt/anaconda3/lib/python3.7/importlib/_bootstrap.py:219: RuntimeWarning:\n",
      "\n",
      "numpy.ufunc size changed, may indicate binary incompatibility. Expected 192 from C header, got 216 from PyObject\n",
      "\n"
     ]
    }
   ],
   "source": [
    "import numpy as np\n",
    "import pandas as pd\n",
    "import matplotlib.pyplot as plt\n",
    "%matplotlib inline\n",
    "import statsmodels.formula.api as smf\n",
    "import statsmodels.tsa.api as smt\n",
    "import statsmodels.api as sm\n",
    "import scipy.stats as scs\n",
    "from sklearn.preprocessing import StandardScaler\n",
    "from scipy.optimize import minimize\n",
    "import cufflinks as cf\n",
    "import plotly.offline\n",
    "cf.go_offline()\n",
    "cf.set_config_file(theme='ggplot',sharing='public',offline=True)\n",
    "from IPython.display import display,HTML\n",
    "from tsfresh import extract_features, extract_relevant_features, select_features\n",
    "from tsfresh.utilities.dataframe_functions import impute\n",
    "from tsfresh.feature_extraction import ComprehensiveFCParameters\n",
    "from sklearn.ensemble import AdaBoostRegressor\n",
    "from tsfresh.utilities.dataframe_functions import make_forecasting_frame\n",
    "from tsfresh.utilities.dataframe_functions import roll_time_series\n",
    "\n",
    "\n",
    "# Fix needed to pandas datareader\n",
    "pd.core.common.is_list_like = pd.api.types.is_list_like\n",
    "import pandas_datareader.data as web\n",
    "import datetime\n",
    "\n",
    "import warnings\n",
    "warnings.filterwarnings('ignore')\n",
    "\n",
    "from tqdm import tqdm\n",
    "from xgboost import XGBRegressor"
   ]
  },
  {
   "cell_type": "code",
   "execution_count": 2,
   "metadata": {},
   "outputs": [
    {
     "name": "stdout",
     "output_type": "stream",
     "text": [
      "                  time  price_1   name_2   name_4  name_5  name_6  name_7  \\\n",
      "0  2013-01-03 20:00:00   8400.0  10030.0   9450.0  7930.0  8110.0  8880.0   \n",
      "1  2013-01-10 20:00:00   8520.0  10010.0   9510.0  7930.0  8070.0  9020.0   \n",
      "2  2013-01-17 20:00:00   8440.0   9850.0   9470.0  7910.0  8230.0  8820.0   \n",
      "3  2013-01-24 20:00:00   8390.0   9660.0   9400.0  7970.0  8360.0  8920.0   \n",
      "4  2013-01-31 20:00:00   8220.0   9240.0   9420.0  7930.0  7640.0  8730.0   \n",
      "5  2013-02-07 20:00:00   8410.0   9240.0   9400.0  8010.0  8630.0  8600.0   \n",
      "6  2013-02-14 20:00:00   8340.0   9330.0   9330.0  8010.0  8630.0  8800.0   \n",
      "7  2013-02-21 20:00:00   8250.0   9300.0   9340.0  7910.0  8610.0  8910.0   \n",
      "8  2013-02-28 20:00:00   8270.0   9340.0   9430.0  7910.0  8500.0  8800.0   \n",
      "9  2013-03-07 20:00:00   8400.0   9330.0   9400.0  9400.0  8710.0  8810.0   \n",
      "10 2013-03-14 20:00:00   8360.0   9380.0   9480.0  9610.0  8710.0  8810.0   \n",
      "11 2013-03-21 20:00:00   8370.0   9390.0   9500.0  9410.0  8730.0  8850.0   \n",
      "12 2013-03-28 20:00:00   8410.0   9530.0   9610.0  9410.0  8750.0  9130.0   \n",
      "13 2013-04-04 20:00:00   8530.0   9520.0   9900.0  9330.0  8940.0  9080.0   \n",
      "14 2013-04-11 20:00:00   8640.0   9580.0  10150.0  9220.0  9310.0  9080.0   \n",
      "15 2013-04-18 20:00:00   8660.0   9500.0  10170.0  8680.0  9250.0  9090.0   \n",
      "16 2013-04-25 20:00:00   8720.0   9480.0  10140.0  9290.0  9220.0  9080.0   \n",
      "17 2013-05-02 20:00:00   8720.0   9460.0  10190.0  9370.0  8990.0  9090.0   \n",
      "18 2013-05-09 20:00:00   8770.0   9650.0  10210.0  9290.0  9070.0  8960.0   \n",
      "19 2013-05-16 20:00:00   8710.0   9700.0  10230.0  9140.0  8970.0  8840.0   \n",
      "\n",
      "    name_8  name_9  Median  \n",
      "0   7790.0  8480.0  8440.0  \n",
      "1   7790.0  8090.0  8305.0  \n",
      "2   7660.0  8150.0  8335.0  \n",
      "3   7580.0  7990.0  8375.0  \n",
      "4   7610.0  8010.0  8115.0  \n",
      "5   7650.0  8050.0  8505.0  \n",
      "6   7670.0  8250.0  8485.0  \n",
      "7   7700.0  8230.0  8430.0  \n",
      "8   7490.0  8290.0  8395.0  \n",
      "9   7500.0  8270.0  8760.0  \n",
      "10  7430.0  8220.0  8760.0  \n",
      "11  7480.0  8330.0  8790.0  \n",
      "12  7560.0  8370.0  8940.0  \n",
      "13  7560.0  8470.0  9010.0  \n",
      "14  7640.0  8820.0  9150.0  \n",
      "15  7640.0  8850.0  8970.0  \n",
      "16  7860.0  8890.0  9150.0  \n",
      "17  7980.0  8960.0  9040.0  \n",
      "18  8000.0  8980.0  9025.0  \n",
      "19  8040.0  8960.0  8965.0  \n",
      "Index(['time', 'price_1', 'name_2', 'name_4', 'name_5', 'name_6', 'name_7',\n",
      "       'name_8', 'name_9', 'Median'],\n",
      "      dtype='object')\n"
     ]
    }
   ],
   "source": [
    "pd.set_option('display.max_columns',10)\n",
    "df = pd.read_excel('data/Metallolom.xls', 'Sheet2', parse_dates=True,index=['time'])\n",
    "print(df.head(20))\n",
    "print(df.columns)"
   ]
  },
  {
   "cell_type": "code",
   "execution_count": 3,
   "metadata": {},
   "outputs": [
    {
     "data": {
      "text/html": [
       "<div>\n",
       "<style scoped>\n",
       "    .dataframe tbody tr th:only-of-type {\n",
       "        vertical-align: middle;\n",
       "    }\n",
       "\n",
       "    .dataframe tbody tr th {\n",
       "        vertical-align: top;\n",
       "    }\n",
       "\n",
       "    .dataframe thead th {\n",
       "        text-align: right;\n",
       "    }\n",
       "</style>\n",
       "<table border=\"1\" class=\"dataframe\">\n",
       "  <thead>\n",
       "    <tr style=\"text-align: right;\">\n",
       "      <th></th>\n",
       "      <th>time</th>\n",
       "      <th>Median</th>\n",
       "    </tr>\n",
       "  </thead>\n",
       "  <tbody>\n",
       "    <tr>\n",
       "      <th>0</th>\n",
       "      <td>2013-01-03 20:00:00</td>\n",
       "      <td>8440.0</td>\n",
       "    </tr>\n",
       "    <tr>\n",
       "      <th>1</th>\n",
       "      <td>2013-01-10 20:00:00</td>\n",
       "      <td>8305.0</td>\n",
       "    </tr>\n",
       "    <tr>\n",
       "      <th>2</th>\n",
       "      <td>2013-01-17 20:00:00</td>\n",
       "      <td>8335.0</td>\n",
       "    </tr>\n",
       "    <tr>\n",
       "      <th>3</th>\n",
       "      <td>2013-01-24 20:00:00</td>\n",
       "      <td>8375.0</td>\n",
       "    </tr>\n",
       "    <tr>\n",
       "      <th>4</th>\n",
       "      <td>2013-01-31 20:00:00</td>\n",
       "      <td>8115.0</td>\n",
       "    </tr>\n",
       "  </tbody>\n",
       "</table>\n",
       "</div>"
      ],
      "text/plain": [
       "                 time  Median\n",
       "0 2013-01-03 20:00:00  8440.0\n",
       "1 2013-01-10 20:00:00  8305.0\n",
       "2 2013-01-17 20:00:00  8335.0\n",
       "3 2013-01-24 20:00:00  8375.0\n",
       "4 2013-01-31 20:00:00  8115.0"
      ]
     },
     "execution_count": 3,
     "metadata": {},
     "output_type": "execute_result"
    }
   ],
   "source": [
    "df = df.drop(['price_1','name_2','name_4','name_5','name_6',\n",
    "               'name_7','name_8','name_9'],axis=1)\n",
    "df.head()"
   ]
  },
  {
   "cell_type": "code",
   "execution_count": 4,
   "metadata": {},
   "outputs": [],
   "source": [
    "df_shift, y = make_forecasting_frame(df.Median, kind=\"price\", max_timeshift=52, rolling_direction=1)"
   ]
  },
  {
   "cell_type": "code",
   "execution_count": 5,
   "metadata": {},
   "outputs": [
    {
     "name": "stderr",
     "output_type": "stream",
     "text": [
      "WARNING:tsfresh.utilities.dataframe_functions:The columns ['value__fft_coefficient__coeff_27__attr_\"abs\"'\n",
      " 'value__fft_coefficient__coeff_27__attr_\"angle\"'\n",
      " 'value__fft_coefficient__coeff_27__attr_\"imag\"'\n",
      " 'value__fft_coefficient__coeff_27__attr_\"real\"'\n",
      " 'value__fft_coefficient__coeff_28__attr_\"abs\"'\n",
      " 'value__fft_coefficient__coeff_28__attr_\"angle\"'\n",
      " 'value__fft_coefficient__coeff_28__attr_\"imag\"'\n",
      " 'value__fft_coefficient__coeff_28__attr_\"real\"'\n",
      " 'value__fft_coefficient__coeff_29__attr_\"abs\"'\n",
      " 'value__fft_coefficient__coeff_29__attr_\"angle\"'\n",
      " 'value__fft_coefficient__coeff_29__attr_\"imag\"'\n",
      " 'value__fft_coefficient__coeff_29__attr_\"real\"'\n",
      " 'value__fft_coefficient__coeff_30__attr_\"abs\"'\n",
      " 'value__fft_coefficient__coeff_30__attr_\"angle\"'\n",
      " 'value__fft_coefficient__coeff_30__attr_\"imag\"'\n",
      " 'value__fft_coefficient__coeff_30__attr_\"real\"'\n",
      " 'value__fft_coefficient__coeff_31__attr_\"abs\"'\n",
      " 'value__fft_coefficient__coeff_31__attr_\"angle\"'\n",
      " 'value__fft_coefficient__coeff_31__attr_\"imag\"'\n",
      " 'value__fft_coefficient__coeff_31__attr_\"real\"'\n",
      " 'value__fft_coefficient__coeff_32__attr_\"abs\"'\n",
      " 'value__fft_coefficient__coeff_32__attr_\"angle\"'\n",
      " 'value__fft_coefficient__coeff_32__attr_\"imag\"'\n",
      " 'value__fft_coefficient__coeff_32__attr_\"real\"'\n",
      " 'value__fft_coefficient__coeff_33__attr_\"abs\"'\n",
      " 'value__fft_coefficient__coeff_33__attr_\"angle\"'\n",
      " 'value__fft_coefficient__coeff_33__attr_\"imag\"'\n",
      " 'value__fft_coefficient__coeff_33__attr_\"real\"'\n",
      " 'value__fft_coefficient__coeff_34__attr_\"abs\"'\n",
      " 'value__fft_coefficient__coeff_34__attr_\"angle\"'\n",
      " 'value__fft_coefficient__coeff_34__attr_\"imag\"'\n",
      " 'value__fft_coefficient__coeff_34__attr_\"real\"'\n",
      " 'value__fft_coefficient__coeff_35__attr_\"abs\"'\n",
      " 'value__fft_coefficient__coeff_35__attr_\"angle\"'\n",
      " 'value__fft_coefficient__coeff_35__attr_\"imag\"'\n",
      " 'value__fft_coefficient__coeff_35__attr_\"real\"'\n",
      " 'value__fft_coefficient__coeff_36__attr_\"abs\"'\n",
      " 'value__fft_coefficient__coeff_36__attr_\"angle\"'\n",
      " 'value__fft_coefficient__coeff_36__attr_\"imag\"'\n",
      " 'value__fft_coefficient__coeff_36__attr_\"real\"'\n",
      " 'value__fft_coefficient__coeff_37__attr_\"abs\"'\n",
      " 'value__fft_coefficient__coeff_37__attr_\"angle\"'\n",
      " 'value__fft_coefficient__coeff_37__attr_\"imag\"'\n",
      " 'value__fft_coefficient__coeff_37__attr_\"real\"'\n",
      " 'value__fft_coefficient__coeff_38__attr_\"abs\"'\n",
      " 'value__fft_coefficient__coeff_38__attr_\"angle\"'\n",
      " 'value__fft_coefficient__coeff_38__attr_\"imag\"'\n",
      " 'value__fft_coefficient__coeff_38__attr_\"real\"'\n",
      " 'value__fft_coefficient__coeff_39__attr_\"abs\"'\n",
      " 'value__fft_coefficient__coeff_39__attr_\"angle\"'\n",
      " 'value__fft_coefficient__coeff_39__attr_\"imag\"'\n",
      " 'value__fft_coefficient__coeff_39__attr_\"real\"'\n",
      " 'value__fft_coefficient__coeff_40__attr_\"abs\"'\n",
      " 'value__fft_coefficient__coeff_40__attr_\"angle\"'\n",
      " 'value__fft_coefficient__coeff_40__attr_\"imag\"'\n",
      " 'value__fft_coefficient__coeff_40__attr_\"real\"'\n",
      " 'value__fft_coefficient__coeff_41__attr_\"abs\"'\n",
      " 'value__fft_coefficient__coeff_41__attr_\"angle\"'\n",
      " 'value__fft_coefficient__coeff_41__attr_\"imag\"'\n",
      " 'value__fft_coefficient__coeff_41__attr_\"real\"'\n",
      " 'value__fft_coefficient__coeff_42__attr_\"abs\"'\n",
      " 'value__fft_coefficient__coeff_42__attr_\"angle\"'\n",
      " 'value__fft_coefficient__coeff_42__attr_\"imag\"'\n",
      " 'value__fft_coefficient__coeff_42__attr_\"real\"'\n",
      " 'value__fft_coefficient__coeff_43__attr_\"abs\"'\n",
      " 'value__fft_coefficient__coeff_43__attr_\"angle\"'\n",
      " 'value__fft_coefficient__coeff_43__attr_\"imag\"'\n",
      " 'value__fft_coefficient__coeff_43__attr_\"real\"'\n",
      " 'value__fft_coefficient__coeff_44__attr_\"abs\"'\n",
      " 'value__fft_coefficient__coeff_44__attr_\"angle\"'\n",
      " 'value__fft_coefficient__coeff_44__attr_\"imag\"'\n",
      " 'value__fft_coefficient__coeff_44__attr_\"real\"'\n",
      " 'value__fft_coefficient__coeff_45__attr_\"abs\"'\n",
      " 'value__fft_coefficient__coeff_45__attr_\"angle\"'\n",
      " 'value__fft_coefficient__coeff_45__attr_\"imag\"'\n",
      " 'value__fft_coefficient__coeff_45__attr_\"real\"'\n",
      " 'value__fft_coefficient__coeff_46__attr_\"abs\"'\n",
      " 'value__fft_coefficient__coeff_46__attr_\"angle\"'\n",
      " 'value__fft_coefficient__coeff_46__attr_\"imag\"'\n",
      " 'value__fft_coefficient__coeff_46__attr_\"real\"'\n",
      " 'value__fft_coefficient__coeff_47__attr_\"abs\"'\n",
      " 'value__fft_coefficient__coeff_47__attr_\"angle\"'\n",
      " 'value__fft_coefficient__coeff_47__attr_\"imag\"'\n",
      " 'value__fft_coefficient__coeff_47__attr_\"real\"'\n",
      " 'value__fft_coefficient__coeff_48__attr_\"abs\"'\n",
      " 'value__fft_coefficient__coeff_48__attr_\"angle\"'\n",
      " 'value__fft_coefficient__coeff_48__attr_\"imag\"'\n",
      " 'value__fft_coefficient__coeff_48__attr_\"real\"'\n",
      " 'value__fft_coefficient__coeff_49__attr_\"abs\"'\n",
      " 'value__fft_coefficient__coeff_49__attr_\"angle\"'\n",
      " 'value__fft_coefficient__coeff_49__attr_\"imag\"'\n",
      " 'value__fft_coefficient__coeff_49__attr_\"real\"'\n",
      " 'value__fft_coefficient__coeff_50__attr_\"abs\"'\n",
      " 'value__fft_coefficient__coeff_50__attr_\"angle\"'\n",
      " 'value__fft_coefficient__coeff_50__attr_\"imag\"'\n",
      " 'value__fft_coefficient__coeff_50__attr_\"real\"'\n",
      " 'value__fft_coefficient__coeff_51__attr_\"abs\"'\n",
      " 'value__fft_coefficient__coeff_51__attr_\"angle\"'\n",
      " 'value__fft_coefficient__coeff_51__attr_\"imag\"'\n",
      " 'value__fft_coefficient__coeff_51__attr_\"real\"'\n",
      " 'value__fft_coefficient__coeff_52__attr_\"abs\"'\n",
      " 'value__fft_coefficient__coeff_52__attr_\"angle\"'\n",
      " 'value__fft_coefficient__coeff_52__attr_\"imag\"'\n",
      " 'value__fft_coefficient__coeff_52__attr_\"real\"'\n",
      " 'value__fft_coefficient__coeff_53__attr_\"abs\"'\n",
      " 'value__fft_coefficient__coeff_53__attr_\"angle\"'\n",
      " 'value__fft_coefficient__coeff_53__attr_\"imag\"'\n",
      " 'value__fft_coefficient__coeff_53__attr_\"real\"'\n",
      " 'value__fft_coefficient__coeff_54__attr_\"abs\"'\n",
      " 'value__fft_coefficient__coeff_54__attr_\"angle\"'\n",
      " 'value__fft_coefficient__coeff_54__attr_\"imag\"'\n",
      " 'value__fft_coefficient__coeff_54__attr_\"real\"'\n",
      " 'value__fft_coefficient__coeff_55__attr_\"abs\"'\n",
      " 'value__fft_coefficient__coeff_55__attr_\"angle\"'\n",
      " 'value__fft_coefficient__coeff_55__attr_\"imag\"'\n",
      " 'value__fft_coefficient__coeff_55__attr_\"real\"'\n",
      " 'value__fft_coefficient__coeff_56__attr_\"abs\"'\n",
      " 'value__fft_coefficient__coeff_56__attr_\"angle\"'\n",
      " 'value__fft_coefficient__coeff_56__attr_\"imag\"'\n",
      " 'value__fft_coefficient__coeff_56__attr_\"real\"'\n",
      " 'value__fft_coefficient__coeff_57__attr_\"abs\"'\n",
      " 'value__fft_coefficient__coeff_57__attr_\"angle\"'\n",
      " 'value__fft_coefficient__coeff_57__attr_\"imag\"'\n",
      " 'value__fft_coefficient__coeff_57__attr_\"real\"'\n",
      " 'value__fft_coefficient__coeff_58__attr_\"abs\"'\n",
      " 'value__fft_coefficient__coeff_58__attr_\"angle\"'\n",
      " 'value__fft_coefficient__coeff_58__attr_\"imag\"'\n",
      " 'value__fft_coefficient__coeff_58__attr_\"real\"'\n",
      " 'value__fft_coefficient__coeff_59__attr_\"abs\"'\n",
      " 'value__fft_coefficient__coeff_59__attr_\"angle\"'\n",
      " 'value__fft_coefficient__coeff_59__attr_\"imag\"'\n",
      " 'value__fft_coefficient__coeff_59__attr_\"real\"'\n",
      " 'value__fft_coefficient__coeff_60__attr_\"abs\"'\n",
      " 'value__fft_coefficient__coeff_60__attr_\"angle\"'\n",
      " 'value__fft_coefficient__coeff_60__attr_\"imag\"'\n",
      " 'value__fft_coefficient__coeff_60__attr_\"real\"'\n",
      " 'value__fft_coefficient__coeff_61__attr_\"abs\"'\n",
      " 'value__fft_coefficient__coeff_61__attr_\"angle\"'\n",
      " 'value__fft_coefficient__coeff_61__attr_\"imag\"'\n",
      " 'value__fft_coefficient__coeff_61__attr_\"real\"'\n",
      " 'value__fft_coefficient__coeff_62__attr_\"abs\"'\n",
      " 'value__fft_coefficient__coeff_62__attr_\"angle\"'\n",
      " 'value__fft_coefficient__coeff_62__attr_\"imag\"'\n",
      " 'value__fft_coefficient__coeff_62__attr_\"real\"'\n",
      " 'value__fft_coefficient__coeff_63__attr_\"abs\"'\n",
      " 'value__fft_coefficient__coeff_63__attr_\"angle\"'\n",
      " 'value__fft_coefficient__coeff_63__attr_\"imag\"'\n",
      " 'value__fft_coefficient__coeff_63__attr_\"real\"'\n",
      " 'value__fft_coefficient__coeff_64__attr_\"abs\"'\n",
      " 'value__fft_coefficient__coeff_64__attr_\"angle\"'\n",
      " 'value__fft_coefficient__coeff_64__attr_\"imag\"'\n",
      " 'value__fft_coefficient__coeff_64__attr_\"real\"'\n",
      " 'value__fft_coefficient__coeff_65__attr_\"abs\"'\n",
      " 'value__fft_coefficient__coeff_65__attr_\"angle\"'\n",
      " 'value__fft_coefficient__coeff_65__attr_\"imag\"'\n",
      " 'value__fft_coefficient__coeff_65__attr_\"real\"'\n",
      " 'value__fft_coefficient__coeff_66__attr_\"abs\"'\n",
      " 'value__fft_coefficient__coeff_66__attr_\"angle\"'\n",
      " 'value__fft_coefficient__coeff_66__attr_\"imag\"'\n",
      " 'value__fft_coefficient__coeff_66__attr_\"real\"'\n",
      " 'value__fft_coefficient__coeff_67__attr_\"abs\"'\n",
      " 'value__fft_coefficient__coeff_67__attr_\"angle\"'\n",
      " 'value__fft_coefficient__coeff_67__attr_\"imag\"'\n",
      " 'value__fft_coefficient__coeff_67__attr_\"real\"'\n",
      " 'value__fft_coefficient__coeff_68__attr_\"abs\"'\n",
      " 'value__fft_coefficient__coeff_68__attr_\"angle\"'\n",
      " 'value__fft_coefficient__coeff_68__attr_\"imag\"'\n",
      " 'value__fft_coefficient__coeff_68__attr_\"real\"'\n",
      " 'value__fft_coefficient__coeff_69__attr_\"abs\"'\n",
      " 'value__fft_coefficient__coeff_69__attr_\"angle\"'\n",
      " 'value__fft_coefficient__coeff_69__attr_\"imag\"'\n",
      " 'value__fft_coefficient__coeff_69__attr_\"real\"'\n",
      " 'value__fft_coefficient__coeff_70__attr_\"abs\"'\n",
      " 'value__fft_coefficient__coeff_70__attr_\"angle\"'\n",
      " 'value__fft_coefficient__coeff_70__attr_\"imag\"'\n",
      " 'value__fft_coefficient__coeff_70__attr_\"real\"'\n",
      " 'value__fft_coefficient__coeff_71__attr_\"abs\"'\n",
      " 'value__fft_coefficient__coeff_71__attr_\"angle\"'\n",
      " 'value__fft_coefficient__coeff_71__attr_\"imag\"'\n",
      " 'value__fft_coefficient__coeff_71__attr_\"real\"'\n",
      " 'value__fft_coefficient__coeff_72__attr_\"abs\"'\n",
      " 'value__fft_coefficient__coeff_72__attr_\"angle\"'\n",
      " 'value__fft_coefficient__coeff_72__attr_\"imag\"'\n",
      " 'value__fft_coefficient__coeff_72__attr_\"real\"'\n",
      " 'value__fft_coefficient__coeff_73__attr_\"abs\"'\n",
      " 'value__fft_coefficient__coeff_73__attr_\"angle\"'\n",
      " 'value__fft_coefficient__coeff_73__attr_\"imag\"'\n",
      " 'value__fft_coefficient__coeff_73__attr_\"real\"'\n",
      " 'value__fft_coefficient__coeff_74__attr_\"abs\"'\n",
      " 'value__fft_coefficient__coeff_74__attr_\"angle\"'\n",
      " 'value__fft_coefficient__coeff_74__attr_\"imag\"'\n",
      " 'value__fft_coefficient__coeff_74__attr_\"real\"'\n",
      " 'value__fft_coefficient__coeff_75__attr_\"abs\"'\n",
      " 'value__fft_coefficient__coeff_75__attr_\"angle\"'\n",
      " 'value__fft_coefficient__coeff_75__attr_\"imag\"'\n",
      " 'value__fft_coefficient__coeff_75__attr_\"real\"'\n",
      " 'value__fft_coefficient__coeff_76__attr_\"abs\"'\n",
      " 'value__fft_coefficient__coeff_76__attr_\"angle\"'\n",
      " 'value__fft_coefficient__coeff_76__attr_\"imag\"'\n",
      " 'value__fft_coefficient__coeff_76__attr_\"real\"'\n",
      " 'value__fft_coefficient__coeff_77__attr_\"abs\"'\n",
      " 'value__fft_coefficient__coeff_77__attr_\"angle\"'\n",
      " 'value__fft_coefficient__coeff_77__attr_\"imag\"'\n",
      " 'value__fft_coefficient__coeff_77__attr_\"real\"'\n",
      " 'value__fft_coefficient__coeff_78__attr_\"abs\"'\n",
      " 'value__fft_coefficient__coeff_78__attr_\"angle\"'\n",
      " 'value__fft_coefficient__coeff_78__attr_\"imag\"'\n",
      " 'value__fft_coefficient__coeff_78__attr_\"real\"'\n",
      " 'value__fft_coefficient__coeff_79__attr_\"abs\"'\n",
      " 'value__fft_coefficient__coeff_79__attr_\"angle\"'\n",
      " 'value__fft_coefficient__coeff_79__attr_\"imag\"'\n",
      " 'value__fft_coefficient__coeff_79__attr_\"real\"'\n",
      " 'value__fft_coefficient__coeff_80__attr_\"abs\"'\n",
      " 'value__fft_coefficient__coeff_80__attr_\"angle\"'\n",
      " 'value__fft_coefficient__coeff_80__attr_\"imag\"'\n",
      " 'value__fft_coefficient__coeff_80__attr_\"real\"'\n",
      " 'value__fft_coefficient__coeff_81__attr_\"abs\"'\n",
      " 'value__fft_coefficient__coeff_81__attr_\"angle\"'\n",
      " 'value__fft_coefficient__coeff_81__attr_\"imag\"'\n",
      " 'value__fft_coefficient__coeff_81__attr_\"real\"'\n",
      " 'value__fft_coefficient__coeff_82__attr_\"abs\"'\n",
      " 'value__fft_coefficient__coeff_82__attr_\"angle\"'\n",
      " 'value__fft_coefficient__coeff_82__attr_\"imag\"'\n",
      " 'value__fft_coefficient__coeff_82__attr_\"real\"'\n",
      " 'value__fft_coefficient__coeff_83__attr_\"abs\"'\n",
      " 'value__fft_coefficient__coeff_83__attr_\"angle\"'\n",
      " 'value__fft_coefficient__coeff_83__attr_\"imag\"'\n",
      " 'value__fft_coefficient__coeff_83__attr_\"real\"'\n",
      " 'value__fft_coefficient__coeff_84__attr_\"abs\"'\n",
      " 'value__fft_coefficient__coeff_84__attr_\"angle\"'\n",
      " 'value__fft_coefficient__coeff_84__attr_\"imag\"'\n",
      " 'value__fft_coefficient__coeff_84__attr_\"real\"'\n",
      " 'value__fft_coefficient__coeff_85__attr_\"abs\"'\n",
      " 'value__fft_coefficient__coeff_85__attr_\"angle\"'\n",
      " 'value__fft_coefficient__coeff_85__attr_\"imag\"'\n",
      " 'value__fft_coefficient__coeff_85__attr_\"real\"'\n",
      " 'value__fft_coefficient__coeff_86__attr_\"abs\"'\n",
      " 'value__fft_coefficient__coeff_86__attr_\"angle\"'\n",
      " 'value__fft_coefficient__coeff_86__attr_\"imag\"'\n",
      " 'value__fft_coefficient__coeff_86__attr_\"real\"'\n",
      " 'value__fft_coefficient__coeff_87__attr_\"abs\"'\n",
      " 'value__fft_coefficient__coeff_87__attr_\"angle\"'\n",
      " 'value__fft_coefficient__coeff_87__attr_\"imag\"'\n",
      " 'value__fft_coefficient__coeff_87__attr_\"real\"'\n",
      " 'value__fft_coefficient__coeff_88__attr_\"abs\"'\n",
      " 'value__fft_coefficient__coeff_88__attr_\"angle\"'\n",
      " 'value__fft_coefficient__coeff_88__attr_\"imag\"'\n",
      " 'value__fft_coefficient__coeff_88__attr_\"real\"'\n",
      " 'value__fft_coefficient__coeff_89__attr_\"abs\"'\n",
      " 'value__fft_coefficient__coeff_89__attr_\"angle\"'\n",
      " 'value__fft_coefficient__coeff_89__attr_\"imag\"'\n",
      " 'value__fft_coefficient__coeff_89__attr_\"real\"'\n",
      " 'value__fft_coefficient__coeff_90__attr_\"abs\"'\n",
      " 'value__fft_coefficient__coeff_90__attr_\"angle\"'\n",
      " 'value__fft_coefficient__coeff_90__attr_\"imag\"'\n",
      " 'value__fft_coefficient__coeff_90__attr_\"real\"'\n",
      " 'value__fft_coefficient__coeff_91__attr_\"abs\"'\n",
      " 'value__fft_coefficient__coeff_91__attr_\"angle\"'\n",
      " 'value__fft_coefficient__coeff_91__attr_\"imag\"'\n",
      " 'value__fft_coefficient__coeff_91__attr_\"real\"'\n",
      " 'value__fft_coefficient__coeff_92__attr_\"abs\"'\n",
      " 'value__fft_coefficient__coeff_92__attr_\"angle\"'\n",
      " 'value__fft_coefficient__coeff_92__attr_\"imag\"'\n",
      " 'value__fft_coefficient__coeff_92__attr_\"real\"'\n",
      " 'value__fft_coefficient__coeff_93__attr_\"abs\"'\n",
      " 'value__fft_coefficient__coeff_93__attr_\"angle\"'\n",
      " 'value__fft_coefficient__coeff_93__attr_\"imag\"'\n",
      " 'value__fft_coefficient__coeff_93__attr_\"real\"'\n",
      " 'value__fft_coefficient__coeff_94__attr_\"abs\"'\n",
      " 'value__fft_coefficient__coeff_94__attr_\"angle\"'\n",
      " 'value__fft_coefficient__coeff_94__attr_\"imag\"'\n",
      " 'value__fft_coefficient__coeff_94__attr_\"real\"'\n",
      " 'value__fft_coefficient__coeff_95__attr_\"abs\"'\n",
      " 'value__fft_coefficient__coeff_95__attr_\"angle\"'\n",
      " 'value__fft_coefficient__coeff_95__attr_\"imag\"'\n",
      " 'value__fft_coefficient__coeff_95__attr_\"real\"'\n",
      " 'value__fft_coefficient__coeff_96__attr_\"abs\"'\n",
      " 'value__fft_coefficient__coeff_96__attr_\"angle\"'\n",
      " 'value__fft_coefficient__coeff_96__attr_\"imag\"'\n",
      " 'value__fft_coefficient__coeff_96__attr_\"real\"'\n",
      " 'value__fft_coefficient__coeff_97__attr_\"abs\"'\n",
      " 'value__fft_coefficient__coeff_97__attr_\"angle\"'\n",
      " 'value__fft_coefficient__coeff_97__attr_\"imag\"'\n",
      " 'value__fft_coefficient__coeff_97__attr_\"real\"'\n",
      " 'value__fft_coefficient__coeff_98__attr_\"abs\"'\n",
      " 'value__fft_coefficient__coeff_98__attr_\"angle\"'\n",
      " 'value__fft_coefficient__coeff_98__attr_\"imag\"'\n",
      " 'value__fft_coefficient__coeff_98__attr_\"real\"'\n",
      " 'value__fft_coefficient__coeff_99__attr_\"abs\"'\n",
      " 'value__fft_coefficient__coeff_99__attr_\"angle\"'\n",
      " 'value__fft_coefficient__coeff_99__attr_\"imag\"'\n",
      " 'value__fft_coefficient__coeff_99__attr_\"real\"'] did not have any finite values. Filling with zeros.\n"
     ]
    }
   ],
   "source": [
    "%%capture\n",
    "X = extract_features(df_shift, column_id=\"id\", column_sort=\"time\", column_value=\"value\", impute_function=impute,\n",
    "                     show_warnings=False)"
   ]
  },
  {
   "cell_type": "code",
   "execution_count": 6,
   "metadata": {},
   "outputs": [
    {
     "name": "stdout",
     "output_type": "stream",
     "text": [
      "(373, 794)\n",
      "(373, 429)\n"
     ]
    }
   ],
   "source": [
    "# drop constant features\n",
    "print(X.shape)\n",
    "X = X.loc[:, X.apply(pd.Series.nunique) != 1] \n",
    "print(X.shape)"
   ]
  },
  {
   "cell_type": "code",
   "execution_count": 7,
   "metadata": {},
   "outputs": [
    {
     "data": {
      "text/plain": [
       "350    14715.0\n",
       "351    14530.0\n",
       "352    14095.0\n",
       "353    13775.0\n",
       "354    13540.0\n",
       "Name: value, dtype: float64"
      ]
     },
     "execution_count": 7,
     "metadata": {},
     "output_type": "execute_result"
    }
   ],
   "source": [
    "X_tr = X.iloc[:354]\n",
    "X_test = X.iloc[354:]\n",
    "y_tr = y.iloc[:354]\n",
    "y_test = y.iloc[354:]\n",
    "y_tr.tail()\n"
   ]
  },
  {
   "cell_type": "code",
   "execution_count": 8,
   "metadata": {},
   "outputs": [],
   "source": [
    "X_train = X_tr.iloc[:300]\n",
    "X_val = X_tr.iloc[300:]\n",
    "y_train = y_tr.iloc[:300]\n",
    "y_val = y_tr.iloc[300:]"
   ]
  },
  {
   "cell_type": "code",
   "execution_count": 9,
   "metadata": {},
   "outputs": [],
   "source": [
    "sc = StandardScaler()\n",
    "X_train = sc.fit_transform(X_train)\n",
    "X_val = sc.transform(X_val)\n",
    "X_test = sc.transform(X_test)"
   ]
  },
  {
   "cell_type": "code",
   "execution_count": 10,
   "metadata": {},
   "outputs": [
    {
     "name": "stdout",
     "output_type": "stream",
     "text": [
      "[10:34:53] WARNING: src/objective/regression_obj.cu:152: reg:linear is now deprecated in favor of reg:squarederror.\n",
      "XGBRegressor(base_score=0.5, booster='gbtree', colsample_bylevel=1,\n",
      "             colsample_bynode=1, colsample_bytree=1, gamma=0,\n",
      "             importance_type='gain', learning_rate=0.1, max_delta_step=0,\n",
      "             max_depth=3, min_child_weight=1, missing=None, n_estimators=100,\n",
      "             n_jobs=1, nthread=None, objective='reg:linear', random_state=0,\n",
      "             reg_alpha=0, reg_lambda=1, scale_pos_weight=1, seed=None,\n",
      "             silent=None, subsample=1, verbosity=1)\n"
     ]
    }
   ],
   "source": [
    "xgbr = XGBRegressor()\n",
    "xgbr.fit(X_train,y_train)\n",
    "print(xgbr)"
   ]
  },
  {
   "cell_type": "code",
   "execution_count": 11,
   "metadata": {},
   "outputs": [],
   "source": [
    "output_xgb = xgbr.predict(data = X_val)"
   ]
  },
  {
   "cell_type": "code",
   "execution_count": 12,
   "metadata": {},
   "outputs": [
    {
     "name": "stdout",
     "output_type": "stream",
     "text": [
      "896.2974175347222\n"
     ]
    }
   ],
   "source": [
    "from sklearn.metrics import mean_absolute_error\n",
    "print(mean_absolute_error(output_xgb,y_val))"
   ]
  },
  {
   "cell_type": "code",
   "execution_count": 17,
   "metadata": {},
   "outputs": [
    {
     "ename": "AttributeError",
     "evalue": "'numpy.ndarray' object has no attribute 'index'",
     "output_type": "error",
     "traceback": [
      "\u001b[0;31m---------------------------------------------------------------------------\u001b[0m",
      "\u001b[0;31mAttributeError\u001b[0m                            Traceback (most recent call last)",
      "\u001b[0;32m<ipython-input-17-dfdcc518636e>\u001b[0m in \u001b[0;36m<module>\u001b[0;34m\u001b[0m\n\u001b[1;32m      1\u001b[0m \u001b[0mplt\u001b[0m\u001b[0;34m.\u001b[0m\u001b[0mfigure\u001b[0m\u001b[0;34m(\u001b[0m\u001b[0mfigsize\u001b[0m\u001b[0;34m=\u001b[0m\u001b[0;34m(\u001b[0m\u001b[0;36m18\u001b[0m\u001b[0;34m,\u001b[0m\u001b[0;36m8\u001b[0m\u001b[0;34m)\u001b[0m\u001b[0;34m)\u001b[0m\u001b[0;34m\u001b[0m\u001b[0;34m\u001b[0m\u001b[0m\n\u001b[0;32m----> 2\u001b[0;31m \u001b[0mplt\u001b[0m\u001b[0;34m.\u001b[0m\u001b[0mplot\u001b[0m\u001b[0;34m(\u001b[0m\u001b[0mX_val\u001b[0m\u001b[0;34m.\u001b[0m\u001b[0mindex\u001b[0m\u001b[0;34m(\u001b[0m\u001b[0;34m)\u001b[0m\u001b[0;34m,\u001b[0m\u001b[0my_val\u001b[0m\u001b[0;34m,\u001b[0m\u001b[0mcolor\u001b[0m\u001b[0;34m=\u001b[0m\u001b[0;34m'blue'\u001b[0m\u001b[0;34m)\u001b[0m\u001b[0;34m\u001b[0m\u001b[0;34m\u001b[0m\u001b[0m\n\u001b[0m\u001b[1;32m      3\u001b[0m \u001b[0mplt\u001b[0m\u001b[0;34m.\u001b[0m\u001b[0mplot\u001b[0m\u001b[0;34m(\u001b[0m\u001b[0mX_val\u001b[0m\u001b[0;34m.\u001b[0m\u001b[0mindex\u001b[0m\u001b[0;34m(\u001b[0m\u001b[0;34m)\u001b[0m\u001b[0;34m,\u001b[0m\u001b[0moutput_xgb\u001b[0m\u001b[0;34m,\u001b[0m\u001b[0mcolor\u001b[0m\u001b[0;34m=\u001b[0m\u001b[0;34m'red'\u001b[0m\u001b[0;34m)\u001b[0m\u001b[0;34m\u001b[0m\u001b[0;34m\u001b[0m\u001b[0m\n\u001b[1;32m      4\u001b[0m \u001b[0mplt\u001b[0m\u001b[0;34m.\u001b[0m\u001b[0mshow\u001b[0m\u001b[0;34m(\u001b[0m\u001b[0;34m)\u001b[0m\u001b[0;34m\u001b[0m\u001b[0;34m\u001b[0m\u001b[0m\n",
      "\u001b[0;31mAttributeError\u001b[0m: 'numpy.ndarray' object has no attribute 'index'"
     ]
    },
    {
     "data": {
      "text/plain": [
       "<Figure size 1296x576 with 0 Axes>"
      ]
     },
     "metadata": {},
     "output_type": "display_data"
    }
   ],
   "source": [
    "plt.figure(figsize=(18,8))\n",
    "plt.plot(X_val.index(),y_val,color='blue')\n",
    "plt.plot(X_val.index(),output_xgb,color='red')\n",
    "plt.show()"
   ]
  },
  {
   "cell_type": "code",
   "execution_count": 19,
   "metadata": {},
   "outputs": [],
   "source": [
    "output2_xgb = xgbr.predict(X_test)"
   ]
  },
  {
   "cell_type": "code",
   "execution_count": 18,
   "metadata": {},
   "outputs": [
    {
     "ename": "AttributeError",
     "evalue": "'numpy.ndarray' object has no attribute 'index'",
     "output_type": "error",
     "traceback": [
      "\u001b[0;31m---------------------------------------------------------------------------\u001b[0m",
      "\u001b[0;31mAttributeError\u001b[0m                            Traceback (most recent call last)",
      "\u001b[0;32m<ipython-input-18-d6cf202e3ded>\u001b[0m in \u001b[0;36m<module>\u001b[0;34m\u001b[0m\n\u001b[1;32m      1\u001b[0m \u001b[0mplt\u001b[0m\u001b[0;34m.\u001b[0m\u001b[0mfigure\u001b[0m\u001b[0;34m(\u001b[0m\u001b[0mfigsize\u001b[0m\u001b[0;34m=\u001b[0m\u001b[0;34m(\u001b[0m\u001b[0;36m18\u001b[0m\u001b[0;34m,\u001b[0m\u001b[0;36m8\u001b[0m\u001b[0;34m)\u001b[0m\u001b[0;34m)\u001b[0m\u001b[0;34m\u001b[0m\u001b[0;34m\u001b[0m\u001b[0m\n\u001b[0;32m----> 2\u001b[0;31m \u001b[0mplt\u001b[0m\u001b[0;34m.\u001b[0m\u001b[0mplot\u001b[0m\u001b[0;34m(\u001b[0m\u001b[0mX_val\u001b[0m\u001b[0;34m.\u001b[0m\u001b[0mindex\u001b[0m\u001b[0;34m,\u001b[0m\u001b[0my_val\u001b[0m\u001b[0;34m,\u001b[0m\u001b[0mcolor\u001b[0m\u001b[0;34m=\u001b[0m\u001b[0;34m'green'\u001b[0m\u001b[0;34m)\u001b[0m\u001b[0;34m\u001b[0m\u001b[0;34m\u001b[0m\u001b[0m\n\u001b[0m\u001b[1;32m      3\u001b[0m \u001b[0;31m#plt.plot(X.index,y_val,color='blue')\u001b[0m\u001b[0;34m\u001b[0m\u001b[0;34m\u001b[0m\u001b[0;34m\u001b[0m\u001b[0m\n\u001b[1;32m      4\u001b[0m \u001b[0mplt\u001b[0m\u001b[0;34m.\u001b[0m\u001b[0mplot\u001b[0m\u001b[0;34m(\u001b[0m\u001b[0mX_test\u001b[0m\u001b[0;34m.\u001b[0m\u001b[0mindex\u001b[0m\u001b[0;34m,\u001b[0m\u001b[0moutput2\u001b[0m\u001b[0;34m,\u001b[0m\u001b[0mcolor\u001b[0m\u001b[0;34m=\u001b[0m\u001b[0;34m'red'\u001b[0m\u001b[0;34m)\u001b[0m\u001b[0;34m\u001b[0m\u001b[0;34m\u001b[0m\u001b[0m\n\u001b[1;32m      5\u001b[0m \u001b[0mplt\u001b[0m\u001b[0;34m.\u001b[0m\u001b[0msavefig\u001b[0m\u001b[0;34m(\u001b[0m\u001b[0;34m'TSFResh+XGBoost.png'\u001b[0m\u001b[0;34m)\u001b[0m\u001b[0;34m\u001b[0m\u001b[0;34m\u001b[0m\u001b[0m\n",
      "\u001b[0;31mAttributeError\u001b[0m: 'numpy.ndarray' object has no attribute 'index'"
     ]
    },
    {
     "data": {
      "text/plain": [
       "<Figure size 1296x576 with 0 Axes>"
      ]
     },
     "metadata": {},
     "output_type": "display_data"
    }
   ],
   "source": [
    "plt.figure(figsize=(18,8))\n",
    "plt.plot(X_val.index,y_val,color='green')\n",
    "#plt.plot(X.index,y_val,color='blue')\n",
    "plt.plot(X_test.index,output2,color='red')\n",
    "plt.savefig('TSFResh+XGBoost.png')\n",
    "plt.show()"
   ]
  },
  {
   "cell_type": "code",
   "execution_count": 30,
   "metadata": {},
   "outputs": [
    {
     "name": "stdout",
     "output_type": "stream",
     "text": [
      "[11:08:40] WARNING: src/objective/regression_obj.cu:152: reg:linear is now deprecated in favor of reg:squarederror.\n"
     ]
    },
    {
     "data": {
      "text/plain": [
       "array([8067.344 , 8067.344 , 8054.5337, 8054.5337, 8067.344 , 8067.344 ,\n",
       "       8067.344 , 8037.566 , 8037.566 , 8089.541 , 8037.566 , 8024.7554,\n",
       "       8024.7554, 8048.762 , 8066.1914, 8090.1104, 8126.582 , 8109.4834,\n",
       "       8100.5347], dtype=float32)"
      ]
     },
     "execution_count": 30,
     "metadata": {},
     "output_type": "execute_result"
    }
   ],
   "source": [
    "\n",
    "xgbr.fit(X_tr,y_tr)\n",
    "out_xgb = xgbr.predict(X_test)\n",
    "out_xgb"
   ]
  },
  {
   "cell_type": "code",
   "execution_count": null,
   "metadata": {},
   "outputs": [],
   "source": []
  },
  {
   "cell_type": "code",
   "execution_count": null,
   "metadata": {},
   "outputs": [],
   "source": []
  },
  {
   "cell_type": "code",
   "execution_count": null,
   "metadata": {},
   "outputs": [],
   "source": []
  },
  {
   "cell_type": "code",
   "execution_count": null,
   "metadata": {},
   "outputs": [],
   "source": []
  },
  {
   "cell_type": "code",
   "execution_count": 24,
   "metadata": {},
   "outputs": [
    {
     "data": {
      "text/plain": [
       "array([14435.513, 14522.144, 14695.526, 14178.163, 14206.269, 14156.565,\n",
       "       14005.974, 14028.88 , 14025.363, 13927.386, 13871.404, 13899.161,\n",
       "       13824.635, 13833.1  , 13841.982, 13716.528, 14200.812, 14151.758,\n",
       "       13952.275], dtype=float32)"
      ]
     },
     "execution_count": 24,
     "metadata": {},
     "output_type": "execute_result"
    }
   ],
   "source": [
    "output2_xgb"
   ]
  },
  {
   "cell_type": "code",
   "execution_count": null,
   "metadata": {},
   "outputs": [],
   "source": []
  }
 ],
 "metadata": {
  "kernelspec": {
   "display_name": "Python 3",
   "language": "python",
   "name": "python3"
  },
  "language_info": {
   "codemirror_mode": {
    "name": "ipython",
    "version": 3
   },
   "file_extension": ".py",
   "mimetype": "text/x-python",
   "name": "python",
   "nbconvert_exporter": "python",
   "pygments_lexer": "ipython3",
   "version": "3.7.4"
  }
 },
 "nbformat": 4,
 "nbformat_minor": 2
}
